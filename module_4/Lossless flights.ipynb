{
 "cells": [
  {
   "cell_type": "code",
   "execution_count": 37,
   "metadata": {},
   "outputs": [
    {
     "data": {
      "text/plain": [
       "1064774.2281759249"
      ]
     },
     "execution_count": 37,
     "metadata": {},
     "output_type": "execute_result"
    }
   ],
   "source": [
    "import pandas as pd\n",
    "fl = pd.read_csv('Data_set.csv')\n",
    "data=fl.loc[fl.flight_profit < 0]\n",
    "data.flight_id.tolist()\n",
    "data.flight_profit.tolist()\n",
    "\n",
    "data2=fl.loc[fl.flight_profit > 0]\n",
    "\n",
    "data.flight_profit.mean()\n",
    "fl.flight_profit.mean()\n",
    "data2.flight_profit.mean()  \n",
    "\n",
    "#P.S. Всю инфу расчитал в SQL, там же и сформировал график.\n"
   ]
  }
 ],
 "metadata": {
  "kernelspec": {
   "display_name": "Python 3",
   "language": "python",
   "name": "python3"
  },
  "language_info": {
   "codemirror_mode": {
    "name": "ipython",
    "version": 3
   },
   "file_extension": ".py",
   "mimetype": "text/x-python",
   "name": "python",
   "nbconvert_exporter": "python",
   "pygments_lexer": "ipython3",
   "version": "3.8.5"
  }
 },
 "nbformat": 4,
 "nbformat_minor": 4
}
