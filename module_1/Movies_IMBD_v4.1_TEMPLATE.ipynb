{
 "cells": [
  {
   "cell_type": "code",
   "execution_count": 75,
   "metadata": {
    "_cell_guid": "b1076dfc-b9ad-4769-8c92-a6c4dae69d19",
    "_uuid": "8f2839f25d086af736a60e9eeb907d3b93b6e0e5",
    "colab": {},
    "colab_type": "code",
    "id": "U2D2gTdJVp90"
   },
   "outputs": [],
   "source": [
    "import numpy as np\n",
    "import pandas as pd\n",
    "import seaborn as sns\n",
    "import matplotlib.pyplot as plt\n",
    "from collections import Counter"
   ]
  },
  {
   "cell_type": "code",
   "execution_count": 76,
   "metadata": {
    "_cell_guid": "79c7e3d0-c299-4dcb-8224-4455121ee9b0",
    "_uuid": "d629ff2d2480ee46fbb7e2d37f6b5fab8052498a",
    "colab": {},
    "colab_type": "code",
    "id": "oyGfxL3eVp9-"
   },
   "outputs": [
    {
     "data": {
      "text/html": [
       "<div>\n",
       "<style scoped>\n",
       "    .dataframe tbody tr th:only-of-type {\n",
       "        vertical-align: middle;\n",
       "    }\n",
       "\n",
       "    .dataframe tbody tr th {\n",
       "        vertical-align: top;\n",
       "    }\n",
       "\n",
       "    .dataframe thead th {\n",
       "        text-align: right;\n",
       "    }\n",
       "</style>\n",
       "<table border=\"1\" class=\"dataframe\">\n",
       "  <thead>\n",
       "    <tr style=\"text-align: right;\">\n",
       "      <th></th>\n",
       "      <th>imdb_id</th>\n",
       "      <th>budget</th>\n",
       "      <th>revenue</th>\n",
       "      <th>original_title</th>\n",
       "      <th>cast</th>\n",
       "      <th>director</th>\n",
       "      <th>tagline</th>\n",
       "      <th>overview</th>\n",
       "      <th>runtime</th>\n",
       "      <th>genres</th>\n",
       "      <th>production_companies</th>\n",
       "      <th>release_date</th>\n",
       "      <th>vote_average</th>\n",
       "      <th>release_year</th>\n",
       "    </tr>\n",
       "  </thead>\n",
       "  <tbody>\n",
       "    <tr>\n",
       "      <th>97</th>\n",
       "      <td>tt2279373</td>\n",
       "      <td>74000000</td>\n",
       "      <td>311594032</td>\n",
       "      <td>The SpongeBob Movie: Sponge Out of Water</td>\n",
       "      <td>Tom Kenny|Bill Fagerbakke|Rodger Bumpass|Clanc...</td>\n",
       "      <td>Paul Tibbitt</td>\n",
       "      <td>He's leaving his world behind.</td>\n",
       "      <td>Burger Beard is a pirate who is in search of t...</td>\n",
       "      <td>93</td>\n",
       "      <td>Family|Animation</td>\n",
       "      <td>Paramount Pictures|Nickelodeon Movies|Nickelod...</td>\n",
       "      <td>2/5/2015</td>\n",
       "      <td>5.7</td>\n",
       "      <td>2015</td>\n",
       "    </tr>\n",
       "    <tr>\n",
       "      <th>1310</th>\n",
       "      <td>tt2234155</td>\n",
       "      <td>58000000</td>\n",
       "      <td>44000000</td>\n",
       "      <td>The Internship</td>\n",
       "      <td>Owen Wilson|Vince Vaughn|Tiya Sircar|Rose Byrn...</td>\n",
       "      <td>Shawn Levy</td>\n",
       "      <td>Hiring them was a brilliant mistake.</td>\n",
       "      <td>Two recently laid-off men in their 40s try to ...</td>\n",
       "      <td>119</td>\n",
       "      <td>Comedy</td>\n",
       "      <td>Twentieth Century Fox Film Corporation|Regency...</td>\n",
       "      <td>6/7/2013</td>\n",
       "      <td>6.1</td>\n",
       "      <td>2013</td>\n",
       "    </tr>\n",
       "    <tr>\n",
       "      <th>456</th>\n",
       "      <td>tt1423995</td>\n",
       "      <td>22000000</td>\n",
       "      <td>9479718</td>\n",
       "      <td>Stone</td>\n",
       "      <td>Frances Conroy|Robert De Niro|Edward Norton|Mi...</td>\n",
       "      <td>John Curran</td>\n",
       "      <td>Some People Tell Lies. Others Live Them.</td>\n",
       "      <td>Parole officer Jack Mabry has only a few weeks...</td>\n",
       "      <td>105</td>\n",
       "      <td>Drama</td>\n",
       "      <td>Stone Productions|Mimran Schur Pictures</td>\n",
       "      <td>10/7/2010</td>\n",
       "      <td>4.9</td>\n",
       "      <td>2010</td>\n",
       "    </tr>\n",
       "    <tr>\n",
       "      <th>463</th>\n",
       "      <td>tt0427152</td>\n",
       "      <td>69000000</td>\n",
       "      <td>86387857</td>\n",
       "      <td>Dinner for Schmucks</td>\n",
       "      <td>Steve Carell|Paul Rudd|Stephanie Szostak|Jemai...</td>\n",
       "      <td>Jay Roach</td>\n",
       "      <td>Takes One To Know One.</td>\n",
       "      <td>Rising executive Tim Wagner works for a boss w...</td>\n",
       "      <td>114</td>\n",
       "      <td>Comedy</td>\n",
       "      <td>Paramount Pictures|DreamWorks SKG|Spyglass Ent...</td>\n",
       "      <td>7/30/2010</td>\n",
       "      <td>5.4</td>\n",
       "      <td>2010</td>\n",
       "    </tr>\n",
       "    <tr>\n",
       "      <th>1778</th>\n",
       "      <td>tt0386032</td>\n",
       "      <td>9000000</td>\n",
       "      <td>24538513</td>\n",
       "      <td>Sicko</td>\n",
       "      <td>Michael Moore|George W. Bush|Bill Clinton|Hill...</td>\n",
       "      <td>Michael Moore</td>\n",
       "      <td>This might hurt a little.</td>\n",
       "      <td>Sicko is a Michael Moore documentary about the...</td>\n",
       "      <td>123</td>\n",
       "      <td>Documentary</td>\n",
       "      <td>The Weinstein Company</td>\n",
       "      <td>5/18/2007</td>\n",
       "      <td>7.0</td>\n",
       "      <td>2007</td>\n",
       "    </tr>\n",
       "  </tbody>\n",
       "</table>\n",
       "</div>"
      ],
      "text/plain": [
       "        imdb_id    budget    revenue  \\\n",
       "97    tt2279373  74000000  311594032   \n",
       "1310  tt2234155  58000000   44000000   \n",
       "456   tt1423995  22000000    9479718   \n",
       "463   tt0427152  69000000   86387857   \n",
       "1778  tt0386032   9000000   24538513   \n",
       "\n",
       "                                original_title  \\\n",
       "97    The SpongeBob Movie: Sponge Out of Water   \n",
       "1310                            The Internship   \n",
       "456                                      Stone   \n",
       "463                        Dinner for Schmucks   \n",
       "1778                                     Sicko   \n",
       "\n",
       "                                                   cast       director  \\\n",
       "97    Tom Kenny|Bill Fagerbakke|Rodger Bumpass|Clanc...   Paul Tibbitt   \n",
       "1310  Owen Wilson|Vince Vaughn|Tiya Sircar|Rose Byrn...     Shawn Levy   \n",
       "456   Frances Conroy|Robert De Niro|Edward Norton|Mi...    John Curran   \n",
       "463   Steve Carell|Paul Rudd|Stephanie Szostak|Jemai...      Jay Roach   \n",
       "1778  Michael Moore|George W. Bush|Bill Clinton|Hill...  Michael Moore   \n",
       "\n",
       "                                       tagline  \\\n",
       "97              He's leaving his world behind.   \n",
       "1310      Hiring them was a brilliant mistake.   \n",
       "456   Some People Tell Lies. Others Live Them.   \n",
       "463                     Takes One To Know One.   \n",
       "1778                 This might hurt a little.   \n",
       "\n",
       "                                               overview  runtime  \\\n",
       "97    Burger Beard is a pirate who is in search of t...       93   \n",
       "1310  Two recently laid-off men in their 40s try to ...      119   \n",
       "456   Parole officer Jack Mabry has only a few weeks...      105   \n",
       "463   Rising executive Tim Wagner works for a boss w...      114   \n",
       "1778  Sicko is a Michael Moore documentary about the...      123   \n",
       "\n",
       "                genres                               production_companies  \\\n",
       "97    Family|Animation  Paramount Pictures|Nickelodeon Movies|Nickelod...   \n",
       "1310            Comedy  Twentieth Century Fox Film Corporation|Regency...   \n",
       "456              Drama            Stone Productions|Mimran Schur Pictures   \n",
       "463             Comedy  Paramount Pictures|DreamWorks SKG|Spyglass Ent...   \n",
       "1778       Documentary                              The Weinstein Company   \n",
       "\n",
       "     release_date  vote_average  release_year  \n",
       "97       2/5/2015           5.7          2015  \n",
       "1310     6/7/2013           6.1          2013  \n",
       "456     10/7/2010           4.9          2010  \n",
       "463     7/30/2010           5.4          2010  \n",
       "1778    5/18/2007           7.0          2007  "
      ]
     },
     "execution_count": 76,
     "metadata": {},
     "output_type": "execute_result"
    }
   ],
   "source": [
    "data = pd.read_csv('movie_bd_v5.csv')\n",
    "data.sample(5)"
   ]
  },
  {
   "cell_type": "code",
   "execution_count": 77,
   "metadata": {
    "colab": {},
    "colab_type": "code",
    "id": "CoYUnagMVp-C"
   },
   "outputs": [
    {
     "data": {
      "text/html": [
       "<div>\n",
       "<style scoped>\n",
       "    .dataframe tbody tr th:only-of-type {\n",
       "        vertical-align: middle;\n",
       "    }\n",
       "\n",
       "    .dataframe tbody tr th {\n",
       "        vertical-align: top;\n",
       "    }\n",
       "\n",
       "    .dataframe thead th {\n",
       "        text-align: right;\n",
       "    }\n",
       "</style>\n",
       "<table border=\"1\" class=\"dataframe\">\n",
       "  <thead>\n",
       "    <tr style=\"text-align: right;\">\n",
       "      <th></th>\n",
       "      <th>budget</th>\n",
       "      <th>revenue</th>\n",
       "      <th>runtime</th>\n",
       "      <th>vote_average</th>\n",
       "      <th>release_year</th>\n",
       "    </tr>\n",
       "  </thead>\n",
       "  <tbody>\n",
       "    <tr>\n",
       "      <th>count</th>\n",
       "      <td>1.889000e+03</td>\n",
       "      <td>1.889000e+03</td>\n",
       "      <td>1889.000000</td>\n",
       "      <td>1889.000000</td>\n",
       "      <td>1889.000000</td>\n",
       "    </tr>\n",
       "    <tr>\n",
       "      <th>mean</th>\n",
       "      <td>5.431083e+07</td>\n",
       "      <td>1.553653e+08</td>\n",
       "      <td>109.658549</td>\n",
       "      <td>6.140762</td>\n",
       "      <td>2007.860773</td>\n",
       "    </tr>\n",
       "    <tr>\n",
       "      <th>std</th>\n",
       "      <td>4.858721e+07</td>\n",
       "      <td>2.146698e+08</td>\n",
       "      <td>18.017041</td>\n",
       "      <td>0.764763</td>\n",
       "      <td>4.468841</td>\n",
       "    </tr>\n",
       "    <tr>\n",
       "      <th>min</th>\n",
       "      <td>5.000000e+06</td>\n",
       "      <td>2.033165e+06</td>\n",
       "      <td>63.000000</td>\n",
       "      <td>3.300000</td>\n",
       "      <td>2000.000000</td>\n",
       "    </tr>\n",
       "    <tr>\n",
       "      <th>25%</th>\n",
       "      <td>2.000000e+07</td>\n",
       "      <td>3.456058e+07</td>\n",
       "      <td>97.000000</td>\n",
       "      <td>5.600000</td>\n",
       "      <td>2004.000000</td>\n",
       "    </tr>\n",
       "    <tr>\n",
       "      <th>50%</th>\n",
       "      <td>3.800000e+07</td>\n",
       "      <td>8.361541e+07</td>\n",
       "      <td>107.000000</td>\n",
       "      <td>6.100000</td>\n",
       "      <td>2008.000000</td>\n",
       "    </tr>\n",
       "    <tr>\n",
       "      <th>75%</th>\n",
       "      <td>7.200000e+07</td>\n",
       "      <td>1.782626e+08</td>\n",
       "      <td>120.000000</td>\n",
       "      <td>6.600000</td>\n",
       "      <td>2012.000000</td>\n",
       "    </tr>\n",
       "    <tr>\n",
       "      <th>max</th>\n",
       "      <td>3.800000e+08</td>\n",
       "      <td>2.781506e+09</td>\n",
       "      <td>214.000000</td>\n",
       "      <td>8.100000</td>\n",
       "      <td>2015.000000</td>\n",
       "    </tr>\n",
       "  </tbody>\n",
       "</table>\n",
       "</div>"
      ],
      "text/plain": [
       "             budget       revenue      runtime  vote_average  release_year\n",
       "count  1.889000e+03  1.889000e+03  1889.000000   1889.000000   1889.000000\n",
       "mean   5.431083e+07  1.553653e+08   109.658549      6.140762   2007.860773\n",
       "std    4.858721e+07  2.146698e+08    18.017041      0.764763      4.468841\n",
       "min    5.000000e+06  2.033165e+06    63.000000      3.300000   2000.000000\n",
       "25%    2.000000e+07  3.456058e+07    97.000000      5.600000   2004.000000\n",
       "50%    3.800000e+07  8.361541e+07   107.000000      6.100000   2008.000000\n",
       "75%    7.200000e+07  1.782626e+08   120.000000      6.600000   2012.000000\n",
       "max    3.800000e+08  2.781506e+09   214.000000      8.100000   2015.000000"
      ]
     },
     "execution_count": 77,
     "metadata": {},
     "output_type": "execute_result"
    }
   ],
   "source": [
    "data.describe()"
   ]
  },
  {
   "cell_type": "markdown",
   "metadata": {
    "colab_type": "text",
    "id": "DTIt7ezGVp-G"
   },
   "source": [
    "# Предобработка"
   ]
  },
  {
   "cell_type": "code",
   "execution_count": 111,
   "metadata": {
    "colab": {},
    "colab_type": "code",
    "id": "jNb40DwKVp-H"
   },
   "outputs": [],
   "source": [
    "answers = {} # создадим словарь для ответов\n",
    "\n",
    "# тут другие ваши предобработки колонок например:\n",
    "\n",
    "#the time given in the dataset is in string format.\n",
    "#So we need to change this in datetime format\n",
    "# ...\n",
    "\n",
    "from itertools import combinations\n",
    "\n",
    "def month_name(num, lang):\n",
    "    \"\"\" Функция получения наименования месяца по его номеру и языку \"\"\"\n",
    "    en = ['january', 'february', 'march', 'april', 'may', 'june', 'july', 'august', 'september',\n",
    "          'october', 'november', 'december']\n",
    "    ru = ['Январь', 'Февраль', 'Март', 'Апрель', 'Май', 'Июнь', 'Июль', 'Август', 'Сентябрь',\n",
    "          'Октябрь', 'Ноябрь', 'Декабрь']\n",
    "    if lang == 'en':\n",
    "        return en[num - 1]\n",
    "    else:\n",
    "        return ru[num - 1]\n",
    "\n",
    "def ex_check_26(answer):    \n",
    "    \"\"\" \n",
    "    \n",
    "    Функция проверки вопроса 26, имеется 5 списков с набором фильмов, если каждый фильм из набора\n",
    "    имеется в датасете, мы выходим из циклов возвращая нужный нам набор фильмов\n",
    "    \n",
    "    \"\"\"\n",
    "    option = [['Inside Out', 'The Dark Knight', '12 Years a Slave'],\n",
    "        ['BloodRayne', 'The Adventures of Rocky & Bullwinkle'],\n",
    "        ['Batman Begins', 'The Lord of the Rings: The Return of the King', 'Upside Down'],\n",
    "        ['300', 'Lucky Number Slevin', 'Kill Bill: Vol. 1'],\n",
    "        ['Upside Down', 'Inside Out', 'Iron Man']]\n",
    "    for list_films in option:\n",
    "        true_answer = []\n",
    "        length_set = len(list_films)\n",
    "        for x_films in list_films:\n",
    "            if x_films in answer.values:\n",
    "                true_answer.append(True)\n",
    "                if length_set == len(true_answer):\n",
    "                    return list_films\n",
    "\n",
    "def ex_check_27(answer):\n",
    "    \"\"\" \n",
    "    Функция проверки вопроса 27, имеется список пар актёров который ищется в датасете \n",
    "    по заранее сформированным парам, если пара найдена, возвращаем \n",
    "    словарь с индексом пары количество совместных фильмов и самой парой\n",
    "    \n",
    "    \"\"\"\n",
    "    list_cast_pair = {}\n",
    "    option = [('Johnny Depp', 'Helena Bonham Carter'), \n",
    "            ('Ben Stiller', 'Owen Wilson'), \n",
    "            ('Vin Diesel', 'Paul Walker'), \n",
    "            ('Adam Sandler', 'Kevin James'),\n",
    "            ('Daniel Radcliffe', 'Rupert Grint')]\n",
    "    for x in option:\n",
    "        if x in answer.index:\n",
    "            list_cast_pair[answer[x]] = x\n",
    "            return list_cast_pair\n",
    "\n",
    "\n",
    "\n",
    "data['release_date'] =  pd.to_datetime(data['release_date'], format='%m/%d/%Y')\n",
    "data['profit'] = data['revenue'] - data['budget']"
   ]
  },
  {
   "cell_type": "markdown",
   "metadata": {
    "colab_type": "text",
    "id": "YxZaH-nPVp-L"
   },
   "source": [
    "# 1. У какого фильма из списка самый большой бюджет?"
   ]
  },
  {
   "cell_type": "markdown",
   "metadata": {
    "colab_type": "text",
    "id": "Nd-G5gX6Vp-M"
   },
   "source": [
    "Использовать варианты ответов в коде решения запрещено.    \n",
    "Вы думаете и в жизни у вас будут варианты ответов?)"
   ]
  },
  {
   "cell_type": "code",
   "execution_count": 112,
   "metadata": {
    "colab": {},
    "colab_type": "code",
    "id": "uVnXAY5RVp-O"
   },
   "outputs": [],
   "source": [
    "# в словарь вставляем номер вопроса и ваш ответ на него\n",
    "# Пример: \n",
    "answers['1'] = '2. Spider-Man 3 (tt0413300)'\n",
    "# запишите свой вариант ответа\n",
    "answers['1'] = '...'\n",
    "# если ответили верно, можете добавить комментарий со значком \"+\""
   ]
  },
  {
   "cell_type": "code",
   "execution_count": 113,
   "metadata": {
    "colab": {},
    "colab_type": "code",
    "id": "dZwb3m28Vp-S"
   },
   "outputs": [],
   "source": [
    "# тут пишем ваш код для решения данного вопроса:\n",
    "max_budget = data[data.budget == max(data.budget)]\n",
    "answers['1'] = f\"{max_budget.index.values[0]}. {max_budget.original_title.values[0]} ({max_budget.imdb_id.values[0]})\""
   ]
  },
  {
   "cell_type": "markdown",
   "metadata": {
    "colab_type": "text",
    "id": "K7L3nbRXVp-X"
   },
   "source": [
    "ВАРИАНТ 2"
   ]
  },
  {
   "cell_type": "code",
   "execution_count": 0,
   "metadata": {
    "colab": {},
    "colab_type": "code",
    "id": "OGaoQI7rVp-X"
   },
   "outputs": [],
   "source": [
    "# можно добавлять разные варианты решения"
   ]
  },
  {
   "cell_type": "markdown",
   "metadata": {
    "colab_type": "text",
    "id": "FNRbbI3vVp-c"
   },
   "source": [
    "# 2. Какой из фильмов самый длительный (в минутах)?"
   ]
  },
  {
   "cell_type": "code",
   "execution_count": 114,
   "metadata": {
    "colab": {},
    "colab_type": "code",
    "id": "vHAoEXNTVp-d"
   },
   "outputs": [],
   "source": [
    "# думаю логику работы с этим словарем вы уже поняли, \n",
    "# по этому не буду больше его дублировать\n",
    "answers['2'] = '...'"
   ]
  },
  {
   "cell_type": "code",
   "execution_count": 115,
   "metadata": {
    "colab": {},
    "colab_type": "code",
    "id": "ot-VX2XrVp-g"
   },
   "outputs": [],
   "source": [
    "max_runtime = data[data.runtime == max(data.runtime)]\n",
    "answers['2'] = f\"{max_runtime.index.values[0]}. {max_runtime.original_title.values[0]} ({max_runtime.imdb_id.values[0]})\""
   ]
  },
  {
   "cell_type": "markdown",
   "metadata": {
    "colab_type": "text",
    "id": "bapLlpW8Vp-k"
   },
   "source": [
    "# 3. Какой из фильмов самый короткий (в минутах)?\n",
    "\n",
    "\n",
    "\n"
   ]
  },
  {
   "cell_type": "code",
   "execution_count": 116,
   "metadata": {
    "colab": {},
    "colab_type": "code",
    "id": "YBxaSHuAVp-l"
   },
   "outputs": [],
   "source": [
    "min_runtime = data[data.runtime == min(data.runtime)]\n",
    "answers['3'] = f\"{min_runtime.index.values[0]}. {min_runtime.original_title.values[0]} ({min_runtime.imdb_id.values[0]})\""
   ]
  },
  {
   "cell_type": "markdown",
   "metadata": {
    "colab_type": "text",
    "id": "TfQbxbfNVp-p"
   },
   "source": [
    "# 4. Какова средняя длительность фильмов?\n"
   ]
  },
  {
   "cell_type": "code",
   "execution_count": 117,
   "metadata": {
    "colab": {},
    "colab_type": "code",
    "id": "5K6dKZYVVp-q"
   },
   "outputs": [],
   "source": [
    "answers['4'] = round(data['runtime'].mean())"
   ]
  },
  {
   "cell_type": "markdown",
   "metadata": {
    "colab_type": "text",
    "id": "r5TvbnT_Vp-u"
   },
   "source": [
    "# 5. Каково медианное значение длительности фильмов? "
   ]
  },
  {
   "cell_type": "code",
   "execution_count": 118,
   "metadata": {
    "colab": {},
    "colab_type": "code",
    "id": "iBROplKnVp-v"
   },
   "outputs": [],
   "source": [
    "answers['5'] = round(data['runtime'].median())"
   ]
  },
  {
   "cell_type": "markdown",
   "metadata": {
    "colab_type": "text",
    "id": "39P-deDSVp-y"
   },
   "source": [
    "# 6. Какой самый прибыльный фильм?\n",
    "#### Внимание! Здесь и далее под «прибылью» или «убытками» понимается разность между сборами и бюджетом фильма. (прибыль = сборы - бюджет) в нашем датасете это будет (profit = revenue - budget) "
   ]
  },
  {
   "cell_type": "code",
   "execution_count": 119,
   "metadata": {
    "colab": {},
    "colab_type": "code",
    "id": "UYZh4T9WVp-y"
   },
   "outputs": [],
   "source": [
    "# лучше код получения столбца profit вынести в Предобработку что в начале\n",
    "max_profit = data[data.profit == max(data.profit)]\n",
    "\n",
    "answers['6'] = f\"{max_profit.index.values[0]}. {max_profit.original_title.values[0]} ({max_profit.imdb_id.values[0]})\""
   ]
  },
  {
   "cell_type": "markdown",
   "metadata": {
    "colab_type": "text",
    "id": "M99JmIX4Vp-2"
   },
   "source": [
    "# 7. Какой фильм самый убыточный? "
   ]
  },
  {
   "cell_type": "code",
   "execution_count": 120,
   "metadata": {
    "colab": {},
    "colab_type": "code",
    "id": "w-D2m4XPVp-3"
   },
   "outputs": [],
   "source": [
    "damages = data[data.profit == min(data.profit)]\n",
    "\n",
    "answers['7'] = f\"{damages.index.values[0]}. {damages.original_title.values[0]} ({damages.imdb_id.values[0]})\""
   ]
  },
  {
   "cell_type": "markdown",
   "metadata": {
    "colab_type": "text",
    "id": "wEOM5ERVVp-6"
   },
   "source": [
    "# 8. У скольких фильмов из датасета объем сборов оказался выше бюджета?"
   ]
  },
  {
   "cell_type": "code",
   "execution_count": 121,
   "metadata": {
    "colab": {},
    "colab_type": "code",
    "id": "y00_7HD6Vp-7"
   },
   "outputs": [],
   "source": [
    "profit = data[data.revenue > data.budget]\n",
    "profit_count = len(profit)\n",
    "\n",
    "answers['8'] = f\"{profit_count}\""
   ]
  },
  {
   "cell_type": "markdown",
   "metadata": {
    "colab_type": "text",
    "id": "xhpspA9KVp_A"
   },
   "source": [
    "# 9. Какой фильм оказался самым кассовым в 2008 году?"
   ]
  },
  {
   "cell_type": "code",
   "execution_count": 122,
   "metadata": {
    "colab": {},
    "colab_type": "code",
    "id": "MoUyQr9RVp_B"
   },
   "outputs": [],
   "source": [
    "films_2008 = data[data.release_year == 2008]\n",
    "profit_2008 = films_2008[films_2008.profit == max(films_2008.profit)]\n",
    "\n",
    "answers['9'] = f\"{profit_2008.index.values[0]}. {profit_2008.original_title.values[0]} ({profit_2008.imdb_id.values[0]})\""
   ]
  },
  {
   "cell_type": "markdown",
   "metadata": {
    "colab_type": "text",
    "id": "Zi4hDKidVp_F"
   },
   "source": [
    "# 10. Самый убыточный фильм за период с 2012 по 2014 г. (включительно)?\n"
   ]
  },
  {
   "cell_type": "code",
   "execution_count": 123,
   "metadata": {
    "colab": {},
    "colab_type": "code",
    "id": "XqyRmufJVp_F"
   },
   "outputs": [],
   "source": [
    "films_12_14 = data[(data.release_year >= 2012)&(data.release_year <= 2014)]\n",
    "damages_12_14 = films_12_14[films_12_14.profit == min(films_12_14.profit)]\n",
    "\n",
    "answers['10'] = f\"{damages_12_14.index.values[0]}. {damages_12_14.original_title.values[0]} ({damages_12_14.imdb_id.values[0]})\""
   ]
  },
  {
   "cell_type": "markdown",
   "metadata": {
    "colab_type": "text",
    "id": "EA7Sa9dkVp_I"
   },
   "source": [
    "# 11. Какого жанра фильмов больше всего?"
   ]
  },
  {
   "cell_type": "code",
   "execution_count": 124,
   "metadata": {
    "colab": {},
    "colab_type": "code",
    "id": "zsJAwJ8QVp_J"
   },
   "outputs": [],
   "source": [
    "# эту задачу тоже можно решать разными подходами, попробуй реализовать разные варианты\n",
    "# если будешь добавлять функцию - выноси ее в предобработку что в начале\n",
    "\n",
    "most_genres = Counter()\n",
    "for x in data.genres.str.split('|'): most_genres += Counter(x)\n",
    "\n",
    "answers['11'] = f\"{most_genres.most_common(1)}\""
   ]
  },
  {
   "cell_type": "markdown",
   "metadata": {
    "colab_type": "text",
    "id": "Ax6g2C8SVp_M"
   },
   "source": [
    "ВАРИАНТ 2"
   ]
  },
  {
   "cell_type": "code",
   "execution_count": 0,
   "metadata": {
    "colab": {},
    "colab_type": "code",
    "id": "otO3SbrSVp_N"
   },
   "outputs": [],
   "source": []
  },
  {
   "cell_type": "markdown",
   "metadata": {
    "colab_type": "text",
    "id": "T9_bPWpkVp_Q"
   },
   "source": [
    "# 12. Фильмы какого жанра чаще всего становятся прибыльными? "
   ]
  },
  {
   "cell_type": "code",
   "execution_count": 125,
   "metadata": {
    "colab": {},
    "colab_type": "code",
    "id": "Tmt8MaK1Vp_R"
   },
   "outputs": [],
   "source": [
    "profit_films = data[data.profit > 0]\n",
    "most_genres_profit = Counter()\n",
    "for x in profit_films.genres.str.split('|'): most_genres_profit += Counter(x)\n",
    "\n",
    "answers['12'] = f\"{most_genres_profit.most_common(1)}\""
   ]
  },
  {
   "cell_type": "markdown",
   "metadata": {
    "colab_type": "text",
    "id": "0F23bgsDVp_U"
   },
   "source": [
    "# 13. У какого режиссера самые большие суммарные кассовые сборы?"
   ]
  },
  {
   "cell_type": "code",
   "execution_count": 126,
   "metadata": {
    "colab": {},
    "colab_type": "code",
    "id": "K6Z3J8ygVp_X"
   },
   "outputs": [],
   "source": [
    "df_copy = data.copy()\n",
    "df_copy['dirs'] = df_copy['director'].str.split('|')\n",
    "data_grp = df_copy.explode('dirs').groupby(['dirs']).revenue.sum().sort_values(ascending =False)\n",
    "max_grp = data_grp[data_grp == max(data_grp)]\n",
    "\n",
    "answers['13'] = f\"{max_grp.index[0]}. {max_grp.values[0]}\""
   ]
  },
  {
   "cell_type": "markdown",
   "metadata": {
    "colab_type": "text",
    "id": "PsYC9FgRVp_a"
   },
   "source": [
    "# 14. Какой режисер снял больше всего фильмов в стиле Action?"
   ]
  },
  {
   "cell_type": "code",
   "execution_count": 127,
   "metadata": {
    "colab": {},
    "colab_type": "code",
    "id": "wd2M-wHeVp_b"
   },
   "outputs": [],
   "source": [
    "df_copy_genres = data[data.genres.str.contains('Action', na = False)].copy()\n",
    "df_copy_genres['dirs'] = df_copy_genres['director'].str.split('|')\n",
    "df_copy_genresx = df_copy_genres.explode('dirs')\n",
    "max_gnrs_dirs = df_copy_genresx.dirs.value_counts().sort_values(ascending =False)\n",
    "\n",
    "answers['14'] = f\"{max_gnrs_dirs.index[0]}. {max_gnrs_dirs.values[0]}\""
   ]
  },
  {
   "cell_type": "markdown",
   "metadata": {
    "colab_type": "text",
    "id": "PQ0KciD7Vp_f"
   },
   "source": [
    "# 15. Фильмы с каким актером принесли самые высокие кассовые сборы в 2012 году? "
   ]
  },
  {
   "cell_type": "code",
   "execution_count": 128,
   "metadata": {
    "colab": {},
    "colab_type": "code",
    "id": "aga62oeKVp_g"
   },
   "outputs": [],
   "source": [
    "df_copy_cast = data[(data.release_year == 2012)].copy()\n",
    "df_copy_cast['dst'] = df_copy_cast['cast'].str.split('|')\n",
    "max_revenue_cast = df_copy_cast.explode('dst').groupby(['dst']).revenue.sum().sort_values(ascending =False)\n",
    "\n",
    "answers['15'] = f\"{max_revenue_cast.index[0]}. {max_revenue_cast.values[0]}\""
   ]
  },
  {
   "cell_type": "markdown",
   "metadata": {
    "colab_type": "text",
    "id": "mWHyyL7QVp_j"
   },
   "source": [
    "# 16. Какой актер снялся в большем количестве высокобюджетных фильмов?"
   ]
  },
  {
   "cell_type": "code",
   "execution_count": 129,
   "metadata": {
    "colab": {},
    "colab_type": "code",
    "id": "qQtmHKTFVp_k"
   },
   "outputs": [],
   "source": [
    "df_copy_cast_bd = data[data.budget > data.budget.mean()].copy()\n",
    "df_copy_cast_bd['cst'] = df_copy_cast_bd['cast'].str.split('|')\n",
    "max_bud_cast = df_copy_cast_bd.cst.explode().value_counts()\n",
    "\n",
    "answers['16'] = f\"{max_bud_cast.index[0]}. {max_bud_cast.values[0]}\""
   ]
  },
  {
   "cell_type": "markdown",
   "metadata": {
    "colab_type": "text",
    "id": "NIh6AaW5Vp_n"
   },
   "source": [
    "# 17. В фильмах какого жанра больше всего снимался Nicolas Cage? "
   ]
  },
  {
   "cell_type": "code",
   "execution_count": 130,
   "metadata": {
    "colab": {},
    "colab_type": "code",
    "id": "H74SJDIBVp_n"
   },
   "outputs": [],
   "source": [
    "df_NC_films = data[data.cast.str.contains('Nicolas Cage', na = False)].copy()\n",
    "df_NC_films['gnrs'] = df_NC_films['genres'].str.split('|')\n",
    "max_NC_gnrs = df_NC_films.gnrs.explode().value_counts()\n",
    "\n",
    "answers['17'] = f\"{max_NC_gnrs.index[0]}. {max_NC_gnrs.values[0]}\""
   ]
  },
  {
   "cell_type": "markdown",
   "metadata": {
    "colab_type": "text",
    "id": "RqOmPRfWVp_q"
   },
   "source": [
    "# 18. Самый убыточный фильм от Paramount Pictures"
   ]
  },
  {
   "cell_type": "code",
   "execution_count": 131,
   "metadata": {
    "colab": {},
    "colab_type": "code",
    "id": "9E_B0Y96Vp_r"
   },
   "outputs": [],
   "source": [
    "df_PP_films = data[data.production_companies.str.contains('Paramount Pictures', na = False)].copy()\n",
    "df_PP_films = df_PP_films[df_PP_films.profit == min(df_PP_films.profit)]\n",
    "\n",
    "answers['18'] = f\"{df_PP_films.index[0]}. {df_PP_films.original_title.values[0]}\""
   ]
  },
  {
   "cell_type": "markdown",
   "metadata": {
    "colab_type": "text",
    "id": "vS8Ur6ddVp_u"
   },
   "source": [
    "# 19. Какой год стал самым успешным по суммарным кассовым сборам?"
   ]
  },
  {
   "cell_type": "code",
   "execution_count": 132,
   "metadata": {
    "colab": {},
    "colab_type": "code",
    "id": "Dnbt4GdIVp_v"
   },
   "outputs": [],
   "source": [
    "df_year_rev = data.copy()\n",
    "df_year_rev_g = df_year_rev.groupby(['release_year']).revenue.sum().sort_values(ascending =False)\n",
    "max_rev_year = df_year_rev_g[df_year_rev_g == max(df_year_rev_g)]\n",
    "\n",
    "answers['19'] = f\"{max_rev_year.index[0]}. {max_rev_year.values[0]}\""
   ]
  },
  {
   "cell_type": "markdown",
   "metadata": {
    "colab_type": "text",
    "id": "JAzJh4QAVp_z"
   },
   "source": [
    "# 20. Какой самый прибыльный год для студии Warner Bros?"
   ]
  },
  {
   "cell_type": "code",
   "execution_count": 133,
   "metadata": {
    "colab": {},
    "colab_type": "code",
    "id": "wgVu02DEVp_0"
   },
   "outputs": [],
   "source": [
    "df_year_WB_prof = data[data.production_companies.str.contains('Warner Bros', na = False)].copy()\n",
    "df_year_WB_prof_g = df_year_WB_prof.groupby(['release_year']).revenue.sum().sort_values(ascending =False)\n",
    "max_WB_prof_year = df_year_WB_prof_g[df_year_WB_prof_g == max(df_year_WB_prof_g)]\n",
    "\n",
    "answers['20'] = f\"{max_WB_prof_year.index[0]}. {max_WB_prof_year.values[0]}\""
   ]
  },
  {
   "cell_type": "markdown",
   "metadata": {
    "colab_type": "text",
    "id": "8Im1S2HRVp_4"
   },
   "source": [
    "# 21. В каком месяце за все годы суммарно вышло больше всего фильмов?"
   ]
  },
  {
   "cell_type": "code",
   "execution_count": 134,
   "metadata": {
    "colab": {},
    "colab_type": "code",
    "id": "lev6TH7gVp_4"
   },
   "outputs": [],
   "source": [
    "df_month_rev = data.copy()\n",
    "max_films_year = df_month_rev.groupby(df_month_rev.release_date.dt.month).original_title.count().sort_values(ascending =False)\n",
    "\n",
    "answers['21'] = f\"{month_name(max_films_year.index[0], 'ru')}. {max_films_year.values[0]}\""
   ]
  },
  {
   "cell_type": "markdown",
   "metadata": {
    "colab_type": "text",
    "id": "uAJsZ_NeVp_7"
   },
   "source": [
    "# 22. Сколько суммарно вышло фильмов летом? (за июнь, июль, август)"
   ]
  },
  {
   "cell_type": "code",
   "execution_count": 135,
   "metadata": {
    "colab": {},
    "colab_type": "code",
    "id": "Aa-hEREoVp_8"
   },
   "outputs": [],
   "source": [
    "df_summer_rev = data.copy()\n",
    "max_films_year = df_summer_rev.groupby(df_summer_rev.release_date.dt.month).overview.count().sort_values(ascending =False)\n",
    "sum_summer_films = max_films_year[6]+max_films_year[7]+max_films_year[8]\n",
    "\n",
    "answers['22'] = f\"{sum_summer_films}\""
   ]
  },
  {
   "cell_type": "markdown",
   "metadata": {
    "colab_type": "text",
    "id": "G94ppOY1VqAA"
   },
   "source": [
    "# 23. Для какого режиссера зима – самое продуктивное время года? "
   ]
  },
  {
   "cell_type": "code",
   "execution_count": 136,
   "metadata": {
    "colab": {},
    "colab_type": "code",
    "id": "RhNTsamuVqAB"
   },
   "outputs": [],
   "source": [
    "df_winter_films = data[(data.release_date.dt.month <= 2)|(data.release_date.dt.month >= 12)].copy()\n",
    "df_winter_films['dirs'] = df_winter_films['director'].str.split('|')\n",
    "max_cnt_flms_gnrs = df_winter_films.dirs.explode().value_counts()\n",
    "\n",
    "answers['23'] = f\"{max_cnt_flms_gnrs.index[0]}. {max_cnt_flms_gnrs.values[0]}\""
   ]
  },
  {
   "cell_type": "markdown",
   "metadata": {
    "colab_type": "text",
    "id": "RBo0JVjVVqAF"
   },
   "source": [
    "# 24. Какая студия дает самые длинные названия своим фильмам по количеству символов?"
   ]
  },
  {
   "cell_type": "code",
   "execution_count": 137,
   "metadata": {
    "colab": {},
    "colab_type": "code",
    "id": "QRGS8L0iVqAG"
   },
   "outputs": [],
   "source": [
    "df_len_name_films = data.copy()\n",
    "df_len_name_films['len_name'] = df_len_name_films.original_title.apply(len)\n",
    "df_len_name_films['comp'] = df_len_name_films['production_companies'].str.split('|')\n",
    "df_len_name_films = df_len_name_films.explode('comp').groupby(['comp']).len_name.mean().sort_values(ascending =False)\n",
    "\n",
    "answers['24'] = f\"{df_len_name_films.index[0]}. {df_len_name_films.values[0]}\""
   ]
  },
  {
   "cell_type": "markdown",
   "metadata": {
    "colab_type": "text",
    "id": "9G0hbvR7VqAK"
   },
   "source": [
    "# 25. Описание фильмов какой студии в среднем самые длинные по количеству слов?"
   ]
  },
  {
   "cell_type": "code",
   "execution_count": 138,
   "metadata": {
    "colab": {},
    "colab_type": "code",
    "id": "Ge2GsLNxVqAK"
   },
   "outputs": [],
   "source": [
    "df_len_overview_words = data.copy()\n",
    "df_len_overview_words['len_wrds_ovrvw'] = df_len_overview_words['overview'].str.count(' ') + 1  #Считаем количество слов\n",
    "df_len_overview_words['comp'] = df_len_overview_words['production_companies'].str.split('|')\n",
    "df_len_overview_words = df_len_overview_words.explode('comp').groupby(['comp']).len_wrds_ovrvw.mean().sort_values(ascending =False)\n",
    "\n",
    "answers['25'] = f\"{df_len_overview_words.index[0]}. {df_len_overview_words.values[0]}\""
   ]
  },
  {
   "cell_type": "markdown",
   "metadata": {
    "colab_type": "text",
    "id": "FJ1AFt90VqAP"
   },
   "source": [
    "# 26. Какие фильмы входят в 1 процент лучших по рейтингу? \n",
    "по vote_average"
   ]
  },
  {
   "cell_type": "code",
   "execution_count": 139,
   "metadata": {
    "colab": {},
    "colab_type": "code",
    "id": "8qmJVq4CVqAQ"
   },
   "outputs": [],
   "source": [
    "df_1_prcnt = data[data['vote_average']>=data.quantile(0.99, numeric_only=True)['vote_average']].copy()\n",
    "answer = df_1_prcnt.original_title\n",
    "\n",
    "#Проверка вариантов ответов в полученном датасете\n",
    "answer = ex_check_26(answer)\n",
    "\n",
    "answers['26'] = f\"{answer}\""
   ]
  },
  {
   "cell_type": "markdown",
   "metadata": {
    "colab_type": "text",
    "id": "MdXsUXbCVqAV"
   },
   "source": [
    "# 27. Какие актеры чаще всего снимаются в одном фильме вместе?\n"
   ]
  },
  {
   "cell_type": "code",
   "execution_count": 140,
   "metadata": {},
   "outputs": [],
   "source": [
    "actors_df = data.copy()\n",
    "actors_df['cast_pair'] = actors_df.cast.str.split('|')\n",
    "actors_df['cast_pair'] = actors_df.cast_pair.apply(lambda x:list(combinations(x, 2)))\n",
    "actors_df = actors_df.explode('cast_pair').groupby(['cast_pair']).cast_pair.count().sort_values(ascending =False)\n",
    "\n",
    "answer = actors_df.copy()\n",
    "\n",
    "#Проверка вариантов ответов в полученном датасете\n",
    "list_cast_pair = ex_check_27(answer)\n",
    "max_count = max(list_cast_pair.keys())\n",
    "\n",
    "answers['27'] = f\"{list_cast_pair[max_count]}. {max_count}\""
   ]
  },
  {
   "cell_type": "markdown",
   "metadata": {
    "colab_type": "text",
    "id": "4ymnxEVoVqAW"
   },
   "source": [
    "ВАРИАНТ 2"
   ]
  },
  {
   "cell_type": "markdown",
   "metadata": {
    "colab_type": "text",
    "id": "U0nONFnGVqAX"
   },
   "source": [
    "# Submission"
   ]
  },
  {
   "cell_type": "code",
   "execution_count": 141,
   "metadata": {
    "colab": {},
    "colab_type": "code",
    "id": "IfcaRO9-VqAX",
    "outputId": "0f132912-32bb-4196-c98c-abfbc4ad5a5f"
   },
   "outputs": [
    {
     "data": {
      "text/plain": [
       "{'1': '723. Pirates of the Caribbean: On Stranger Tides (tt1298650)',\n",
       " '2': '1157. Gods and Generals (tt0279111)',\n",
       " '3': '768. Winnie the Pooh (tt1449283)',\n",
       " '4': 110,\n",
       " '5': 107,\n",
       " '6': '239. Avatar (tt0499549)',\n",
       " '7': '1245. The Lone Ranger (tt1210819)',\n",
       " '8': '1478',\n",
       " '9': '599. The Dark Knight (tt0468569)',\n",
       " '10': '1245. The Lone Ranger (tt1210819)',\n",
       " '11': \"[('Drama', 782)]\",\n",
       " '12': \"[('Drama', 560)]\",\n",
       " '13': 'Peter Jackson. 6490593685',\n",
       " '14': 'Robert Rodriguez. 9',\n",
       " '15': 'Chris Hemsworth. 2027450773',\n",
       " '16': 'Matt Damon. 18',\n",
       " '17': 'Action. 17',\n",
       " '18': '925. K-19: The Widowmaker',\n",
       " '19': '2015. 25449202382',\n",
       " '20': '2014. 3243064519',\n",
       " '21': 'Сентябрь. 227',\n",
       " '22': '450',\n",
       " '23': 'Peter Jackson. 7',\n",
       " '24': 'Four By Two Productions. 83.0',\n",
       " '25': 'Midnight Picture Show. 175.0',\n",
       " '26': \"['Inside Out', 'The Dark Knight', '12 Years a Slave']\",\n",
       " '27': \"('Johnny Depp', 'Helena Bonham Carter'). 6\"}"
      ]
     },
     "execution_count": 141,
     "metadata": {},
     "output_type": "execute_result"
    }
   ],
   "source": [
    "# в конце можно посмотреть свои ответы к каждому вопросу\n",
    "answers"
   ]
  },
  {
   "cell_type": "code",
   "execution_count": 142,
   "metadata": {
    "colab": {},
    "colab_type": "code",
    "id": "SiRmHPl8VqAd"
   },
   "outputs": [
    {
     "data": {
      "text/plain": [
       "27"
      ]
     },
     "execution_count": 142,
     "metadata": {},
     "output_type": "execute_result"
    }
   ],
   "source": [
    "# и убедиться что ни чего не пропустил)\n",
    "len(answers)"
   ]
  },
  {
   "cell_type": "code",
   "execution_count": 0,
   "metadata": {
    "colab": {},
    "colab_type": "code",
    "id": "uCfuTkRbVqAg"
   },
   "outputs": [],
   "source": []
  },
  {
   "cell_type": "code",
   "execution_count": 0,
   "metadata": {
    "colab": {},
    "colab_type": "code",
    "id": "Vwx3NrkSVqAl"
   },
   "outputs": [],
   "source": []
  }
 ],
 "metadata": {
  "colab": {
   "name": "Copy of [SF-DST] Movies IMBD v4.1 TEMPLATE.ipynb",
   "provenance": []
  },
  "kernelspec": {
   "display_name": "Python 3",
   "language": "python",
   "name": "python3"
  },
  "language_info": {
   "codemirror_mode": {
    "name": "ipython",
    "version": 3
   },
   "file_extension": ".py",
   "mimetype": "text/x-python",
   "name": "python",
   "nbconvert_exporter": "python",
   "pygments_lexer": "ipython3",
   "version": "3.8.3"
  }
 },
 "nbformat": 4,
 "nbformat_minor": 1
}
