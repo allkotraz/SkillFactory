{
 "cells": [
  {
   "cell_type": "code",
   "execution_count": 746,
   "metadata": {},
   "outputs": [
    {
     "data": {
      "text/html": [
       "<div>\n",
       "<style scoped>\n",
       "    .dataframe tbody tr th:only-of-type {\n",
       "        vertical-align: middle;\n",
       "    }\n",
       "\n",
       "    .dataframe tbody tr th {\n",
       "        vertical-align: top;\n",
       "    }\n",
       "\n",
       "    .dataframe thead th {\n",
       "        text-align: right;\n",
       "    }\n",
       "</style>\n",
       "<table border=\"1\" class=\"dataframe\">\n",
       "  <thead>\n",
       "    <tr style=\"text-align: right;\">\n",
       "      <th></th>\n",
       "      <th>imdb_id</th>\n",
       "      <th>budget</th>\n",
       "      <th>revenue</th>\n",
       "      <th>original_title</th>\n",
       "      <th>cast</th>\n",
       "      <th>director</th>\n",
       "      <th>tagline</th>\n",
       "      <th>overview</th>\n",
       "      <th>runtime</th>\n",
       "      <th>genres</th>\n",
       "      <th>production_companies</th>\n",
       "      <th>release_date</th>\n",
       "      <th>vote_average</th>\n",
       "      <th>release_year</th>\n",
       "      <th>profit</th>\n",
       "    </tr>\n",
       "  </thead>\n",
       "  <tbody>\n",
       "    <tr>\n",
       "      <th>0</th>\n",
       "      <td>tt0369610</td>\n",
       "      <td>150000000</td>\n",
       "      <td>1513528810</td>\n",
       "      <td>Jurassic World</td>\n",
       "      <td>Chris Pratt|Bryce Dallas Howard|Irrfan Khan|Vi...</td>\n",
       "      <td>Colin Trevorrow</td>\n",
       "      <td>The park is open.</td>\n",
       "      <td>Twenty-two years after the events of Jurassic ...</td>\n",
       "      <td>124</td>\n",
       "      <td>Action|Adventure|Science Fiction|Thriller</td>\n",
       "      <td>Universal Studios|Amblin Entertainment|Legenda...</td>\n",
       "      <td>2015-06-09</td>\n",
       "      <td>6.5</td>\n",
       "      <td>2015</td>\n",
       "      <td>1363528810</td>\n",
       "    </tr>\n",
       "    <tr>\n",
       "      <th>1</th>\n",
       "      <td>tt1392190</td>\n",
       "      <td>150000000</td>\n",
       "      <td>378436354</td>\n",
       "      <td>Mad Max: Fury Road</td>\n",
       "      <td>Tom Hardy|Charlize Theron|Hugh Keays-Byrne|Nic...</td>\n",
       "      <td>George Miller</td>\n",
       "      <td>What a Lovely Day.</td>\n",
       "      <td>An apocalyptic story set in the furthest reach...</td>\n",
       "      <td>120</td>\n",
       "      <td>Action|Adventure|Science Fiction|Thriller</td>\n",
       "      <td>Village Roadshow Pictures|Kennedy Miller Produ...</td>\n",
       "      <td>2015-05-13</td>\n",
       "      <td>7.1</td>\n",
       "      <td>2015</td>\n",
       "      <td>228436354</td>\n",
       "    </tr>\n",
       "    <tr>\n",
       "      <th>2</th>\n",
       "      <td>tt2908446</td>\n",
       "      <td>110000000</td>\n",
       "      <td>295238201</td>\n",
       "      <td>Insurgent</td>\n",
       "      <td>Shailene Woodley|Theo James|Kate Winslet|Ansel...</td>\n",
       "      <td>Robert Schwentke</td>\n",
       "      <td>One Choice Can Destroy You</td>\n",
       "      <td>Beatrice Prior must confront her inner demons ...</td>\n",
       "      <td>119</td>\n",
       "      <td>Adventure|Science Fiction|Thriller</td>\n",
       "      <td>Summit Entertainment|Mandeville Films|Red Wago...</td>\n",
       "      <td>2015-03-18</td>\n",
       "      <td>6.3</td>\n",
       "      <td>2015</td>\n",
       "      <td>185238201</td>\n",
       "    </tr>\n",
       "    <tr>\n",
       "      <th>3</th>\n",
       "      <td>tt2488496</td>\n",
       "      <td>200000000</td>\n",
       "      <td>2068178225</td>\n",
       "      <td>Star Wars: The Force Awakens</td>\n",
       "      <td>Harrison Ford|Mark Hamill|Carrie Fisher|Adam D...</td>\n",
       "      <td>J.J. Abrams</td>\n",
       "      <td>Every generation has a story.</td>\n",
       "      <td>Thirty years after defeating the Galactic Empi...</td>\n",
       "      <td>136</td>\n",
       "      <td>Action|Adventure|Science Fiction|Fantasy</td>\n",
       "      <td>Lucasfilm|Truenorth Productions|Bad Robot</td>\n",
       "      <td>2015-12-15</td>\n",
       "      <td>7.5</td>\n",
       "      <td>2015</td>\n",
       "      <td>1868178225</td>\n",
       "    </tr>\n",
       "    <tr>\n",
       "      <th>4</th>\n",
       "      <td>tt2820852</td>\n",
       "      <td>190000000</td>\n",
       "      <td>1506249360</td>\n",
       "      <td>Furious 7</td>\n",
       "      <td>Vin Diesel|Paul Walker|Jason Statham|Michelle ...</td>\n",
       "      <td>James Wan</td>\n",
       "      <td>Vengeance Hits Home</td>\n",
       "      <td>Deckard Shaw seeks revenge against Dominic Tor...</td>\n",
       "      <td>137</td>\n",
       "      <td>Action|Crime|Thriller</td>\n",
       "      <td>Universal Pictures|Original Film|Media Rights ...</td>\n",
       "      <td>2015-04-01</td>\n",
       "      <td>7.3</td>\n",
       "      <td>2015</td>\n",
       "      <td>1316249360</td>\n",
       "    </tr>\n",
       "    <tr>\n",
       "      <th>...</th>\n",
       "      <td>...</td>\n",
       "      <td>...</td>\n",
       "      <td>...</td>\n",
       "      <td>...</td>\n",
       "      <td>...</td>\n",
       "      <td>...</td>\n",
       "      <td>...</td>\n",
       "      <td>...</td>\n",
       "      <td>...</td>\n",
       "      <td>...</td>\n",
       "      <td>...</td>\n",
       "      <td>...</td>\n",
       "      <td>...</td>\n",
       "      <td>...</td>\n",
       "      <td>...</td>\n",
       "    </tr>\n",
       "    <tr>\n",
       "      <th>1884</th>\n",
       "      <td>tt0120903</td>\n",
       "      <td>75000000</td>\n",
       "      <td>157299717</td>\n",
       "      <td>X-Men</td>\n",
       "      <td>Patrick Stewart|Hugh Jackman|Ian McKellen|Hall...</td>\n",
       "      <td>Bryan Singer</td>\n",
       "      <td>Evolution Begins</td>\n",
       "      <td>Two mutants, Rogue and Wolverine, come to a pr...</td>\n",
       "      <td>104</td>\n",
       "      <td>Adventure|Action|Science Fiction</td>\n",
       "      <td>Twentieth Century Fox Film Corporation|Donners...</td>\n",
       "      <td>2000-07-13</td>\n",
       "      <td>6.6</td>\n",
       "      <td>2000</td>\n",
       "      <td>82299717</td>\n",
       "    </tr>\n",
       "    <tr>\n",
       "      <th>1885</th>\n",
       "      <td>tt0192255</td>\n",
       "      <td>22000000</td>\n",
       "      <td>13555988</td>\n",
       "      <td>The Little Vampire</td>\n",
       "      <td>Richard E. Grant|Jonathan Lipnicki|Jim Carter|...</td>\n",
       "      <td>Uli Edel</td>\n",
       "      <td>They're not just best friends, they're blood b...</td>\n",
       "      <td>Based on the popular books, the story tells of...</td>\n",
       "      <td>95</td>\n",
       "      <td>Horror|Family|Foreign</td>\n",
       "      <td>New Line Cinema</td>\n",
       "      <td>2000-10-27</td>\n",
       "      <td>6.4</td>\n",
       "      <td>2000</td>\n",
       "      <td>-8444012</td>\n",
       "    </tr>\n",
       "    <tr>\n",
       "      <th>1886</th>\n",
       "      <td>tt0131704</td>\n",
       "      <td>76000000</td>\n",
       "      <td>35134820</td>\n",
       "      <td>The Adventures of Rocky &amp; Bullwinkle</td>\n",
       "      <td>Rene Russo|Jason Alexander|Piper Perabo|Randy ...</td>\n",
       "      <td>Des McAnuff</td>\n",
       "      <td>This summer it's not the same old bull.</td>\n",
       "      <td>Rocky and Bullwinkle have been living off the ...</td>\n",
       "      <td>88</td>\n",
       "      <td>Adventure|Animation|Action|Comedy|Family</td>\n",
       "      <td>Universal Pictures|Capella International|KC Me...</td>\n",
       "      <td>2000-06-30</td>\n",
       "      <td>4.0</td>\n",
       "      <td>2000</td>\n",
       "      <td>-40865180</td>\n",
       "    </tr>\n",
       "    <tr>\n",
       "      <th>1887</th>\n",
       "      <td>tt0162983</td>\n",
       "      <td>40000000</td>\n",
       "      <td>36037909</td>\n",
       "      <td>Hanging Up</td>\n",
       "      <td>Meg Ryan|Diane Keaton|Lisa Kudrow|Walter Matth...</td>\n",
       "      <td>Diane Keaton</td>\n",
       "      <td>Every family has a few hang-ups.</td>\n",
       "      <td>A trio of sisters bond over their ambivalence ...</td>\n",
       "      <td>94</td>\n",
       "      <td>Comedy|Drama</td>\n",
       "      <td>Laurence Mark Productions|Columbia Pictures Co...</td>\n",
       "      <td>2000-02-16</td>\n",
       "      <td>5.2</td>\n",
       "      <td>2000</td>\n",
       "      <td>-3962091</td>\n",
       "    </tr>\n",
       "    <tr>\n",
       "      <th>1888</th>\n",
       "      <td>tt0163676</td>\n",
       "      <td>15000000</td>\n",
       "      <td>5217498</td>\n",
       "      <td>The In Crowd</td>\n",
       "      <td>Susan Ward|Lori Heuring|Matthew Settle|Nathan ...</td>\n",
       "      <td>Mary Lambert</td>\n",
       "      <td>What would you do to get in?</td>\n",
       "      <td>A mentally disturbed young woman takes a job a...</td>\n",
       "      <td>105</td>\n",
       "      <td>Thriller</td>\n",
       "      <td>Warner Bros. Pictures</td>\n",
       "      <td>2000-07-19</td>\n",
       "      <td>5.2</td>\n",
       "      <td>2000</td>\n",
       "      <td>-9782502</td>\n",
       "    </tr>\n",
       "  </tbody>\n",
       "</table>\n",
       "<p>1889 rows × 15 columns</p>\n",
       "</div>"
      ],
      "text/plain": [
       "        imdb_id     budget     revenue                        original_title  \\\n",
       "0     tt0369610  150000000  1513528810                        Jurassic World   \n",
       "1     tt1392190  150000000   378436354                    Mad Max: Fury Road   \n",
       "2     tt2908446  110000000   295238201                             Insurgent   \n",
       "3     tt2488496  200000000  2068178225          Star Wars: The Force Awakens   \n",
       "4     tt2820852  190000000  1506249360                             Furious 7   \n",
       "...         ...        ...         ...                                   ...   \n",
       "1884  tt0120903   75000000   157299717                                 X-Men   \n",
       "1885  tt0192255   22000000    13555988                    The Little Vampire   \n",
       "1886  tt0131704   76000000    35134820  The Adventures of Rocky & Bullwinkle   \n",
       "1887  tt0162983   40000000    36037909                            Hanging Up   \n",
       "1888  tt0163676   15000000     5217498                          The In Crowd   \n",
       "\n",
       "                                                   cast          director  \\\n",
       "0     Chris Pratt|Bryce Dallas Howard|Irrfan Khan|Vi...   Colin Trevorrow   \n",
       "1     Tom Hardy|Charlize Theron|Hugh Keays-Byrne|Nic...     George Miller   \n",
       "2     Shailene Woodley|Theo James|Kate Winslet|Ansel...  Robert Schwentke   \n",
       "3     Harrison Ford|Mark Hamill|Carrie Fisher|Adam D...       J.J. Abrams   \n",
       "4     Vin Diesel|Paul Walker|Jason Statham|Michelle ...         James Wan   \n",
       "...                                                 ...               ...   \n",
       "1884  Patrick Stewart|Hugh Jackman|Ian McKellen|Hall...      Bryan Singer   \n",
       "1885  Richard E. Grant|Jonathan Lipnicki|Jim Carter|...          Uli Edel   \n",
       "1886  Rene Russo|Jason Alexander|Piper Perabo|Randy ...       Des McAnuff   \n",
       "1887  Meg Ryan|Diane Keaton|Lisa Kudrow|Walter Matth...      Diane Keaton   \n",
       "1888  Susan Ward|Lori Heuring|Matthew Settle|Nathan ...      Mary Lambert   \n",
       "\n",
       "                                                tagline  \\\n",
       "0                                     The park is open.   \n",
       "1                                    What a Lovely Day.   \n",
       "2                            One Choice Can Destroy You   \n",
       "3                         Every generation has a story.   \n",
       "4                                   Vengeance Hits Home   \n",
       "...                                                 ...   \n",
       "1884                                   Evolution Begins   \n",
       "1885  They're not just best friends, they're blood b...   \n",
       "1886            This summer it's not the same old bull.   \n",
       "1887                   Every family has a few hang-ups.   \n",
       "1888                       What would you do to get in?   \n",
       "\n",
       "                                               overview  runtime  \\\n",
       "0     Twenty-two years after the events of Jurassic ...      124   \n",
       "1     An apocalyptic story set in the furthest reach...      120   \n",
       "2     Beatrice Prior must confront her inner demons ...      119   \n",
       "3     Thirty years after defeating the Galactic Empi...      136   \n",
       "4     Deckard Shaw seeks revenge against Dominic Tor...      137   \n",
       "...                                                 ...      ...   \n",
       "1884  Two mutants, Rogue and Wolverine, come to a pr...      104   \n",
       "1885  Based on the popular books, the story tells of...       95   \n",
       "1886  Rocky and Bullwinkle have been living off the ...       88   \n",
       "1887  A trio of sisters bond over their ambivalence ...       94   \n",
       "1888  A mentally disturbed young woman takes a job a...      105   \n",
       "\n",
       "                                         genres  \\\n",
       "0     Action|Adventure|Science Fiction|Thriller   \n",
       "1     Action|Adventure|Science Fiction|Thriller   \n",
       "2            Adventure|Science Fiction|Thriller   \n",
       "3      Action|Adventure|Science Fiction|Fantasy   \n",
       "4                         Action|Crime|Thriller   \n",
       "...                                         ...   \n",
       "1884           Adventure|Action|Science Fiction   \n",
       "1885                      Horror|Family|Foreign   \n",
       "1886   Adventure|Animation|Action|Comedy|Family   \n",
       "1887                               Comedy|Drama   \n",
       "1888                                   Thriller   \n",
       "\n",
       "                                   production_companies release_date  \\\n",
       "0     Universal Studios|Amblin Entertainment|Legenda...   2015-06-09   \n",
       "1     Village Roadshow Pictures|Kennedy Miller Produ...   2015-05-13   \n",
       "2     Summit Entertainment|Mandeville Films|Red Wago...   2015-03-18   \n",
       "3             Lucasfilm|Truenorth Productions|Bad Robot   2015-12-15   \n",
       "4     Universal Pictures|Original Film|Media Rights ...   2015-04-01   \n",
       "...                                                 ...          ...   \n",
       "1884  Twentieth Century Fox Film Corporation|Donners...   2000-07-13   \n",
       "1885                                    New Line Cinema   2000-10-27   \n",
       "1886  Universal Pictures|Capella International|KC Me...   2000-06-30   \n",
       "1887  Laurence Mark Productions|Columbia Pictures Co...   2000-02-16   \n",
       "1888                              Warner Bros. Pictures   2000-07-19   \n",
       "\n",
       "      vote_average  release_year      profit  \n",
       "0              6.5          2015  1363528810  \n",
       "1              7.1          2015   228436354  \n",
       "2              6.3          2015   185238201  \n",
       "3              7.5          2015  1868178225  \n",
       "4              7.3          2015  1316249360  \n",
       "...            ...           ...         ...  \n",
       "1884           6.6          2000    82299717  \n",
       "1885           6.4          2000    -8444012  \n",
       "1886           4.0          2000   -40865180  \n",
       "1887           5.2          2000    -3962091  \n",
       "1888           5.2          2000    -9782502  \n",
       "\n",
       "[1889 rows x 15 columns]"
      ]
     },
     "metadata": {},
     "output_type": "display_data"
    }
   ],
   "source": [
    "import numpy as np\n",
    "import pandas as pd\n",
    "import seaborn as sns\n",
    "import matplotlib.pyplot as plt\n",
    "from collections import Counter\n",
    "from itertools import combinations\n",
    "\n",
    "data = pd.read_csv('movie_bd_v5.csv')\n",
    "answers = {}\n",
    "\n",
    "def month_name(num, lang):\n",
    "    \"\"\" Функция получения наименования месяца по его номеру и языку \"\"\"\n",
    "    en = ['january', 'february', 'march', 'april', 'may', 'june', 'july', 'august', 'september',\n",
    "          'october', 'november', 'december']\n",
    "    ru = ['Январь', 'Февраль', 'Март', 'Апрель', 'Май', 'Июнь', 'Июль', 'Август', 'Сентябрь',\n",
    "          'Октябрь', 'Ноябрь', 'Декабрь']\n",
    "    if lang == 'en':\n",
    "        return en[num - 1]\n",
    "    else:\n",
    "        return ru[num - 1]\n",
    "\n",
    "def ex_check_26(answer):    \n",
    "    \"\"\" \n",
    "    \n",
    "    Функция проверки вопроса 26, имеется 5 списков с набором фильмов, если каждый фильм из набора\n",
    "    имеется в датасете, мы выходим из циклов возвращая нужный нам набор фильмов\n",
    "    \n",
    "    \"\"\"\n",
    "    option = [['Inside Out', 'The Dark Knight', '12 Years a Slave'],\n",
    "        ['BloodRayne', 'The Adventures of Rocky & Bullwinkle'],\n",
    "        ['Batman Begins', 'The Lord of the Rings: The Return of the King', 'Upside Down'],\n",
    "        ['300', 'Lucky Number Slevin', 'Kill Bill: Vol. 1'],\n",
    "        ['Upside Down', 'Inside Out', 'Iron Man']]\n",
    "    for list_films in option:\n",
    "        true_answer = []\n",
    "        length_set = len(list_films)\n",
    "        for x_films in list_films:\n",
    "            if x_films in answer.values:\n",
    "                true_answer.append(True)\n",
    "                if length_set == len(true_answer):\n",
    "                    return list_films\n",
    "\n",
    "def ex_check_27(answer):\n",
    "    \"\"\" \n",
    "    Функция проверки вопроса 27, имеется список пар актёров который ищется в датасете \n",
    "    по заранее сформированным парам, если пара найдена, возвращаем \n",
    "    словарь с индексом пары количество совместных фильмов и самой парой\n",
    "    \n",
    "    \"\"\"\n",
    "    list_cast_pair = {}\n",
    "    option = [('Johnny Depp', 'Helena Bonham Carter'), \n",
    "            ('Ben Stiller', 'Owen Wilson'), \n",
    "            ('Vin Diesel', 'Paul Walker'), \n",
    "            ('Adam Sandler', 'Kevin James'),\n",
    "            ('Daniel Radcliffe', 'Rupert Grint')]\n",
    "    for x in option:\n",
    "        if x in answer.index:\n",
    "            list_cast_pair[answer[x]] = x\n",
    "            return list_cast_pair\n",
    "\n",
    "\n",
    "\n",
    "data['release_date'] =  pd.to_datetime(data['release_date'], format='%m/%d/%Y')\n",
    "data['profit'] = data['revenue'] - data['budget']\n",
    "\n",
    "\n",
    "display(data)"
   ]
  },
  {
   "cell_type": "code",
   "execution_count": 716,
   "metadata": {},
   "outputs": [
    {
     "data": {
      "text/plain": [
       "'723. Pirates of the Caribbean: On Stranger Tides (tt1298650)'"
      ]
     },
     "metadata": {},
     "output_type": "display_data"
    }
   ],
   "source": [
    "#1 У какого фильма из списка самый большой бюджет?\n",
    "\n",
    "max_budget = data[data.budget == max(data.budget)]\n",
    "answers['1'] = f\"{max_budget.index.values[0]}. {max_budget.original_title.values[0]} ({max_budget.imdb_id.values[0]})\"\n",
    "\n",
    "display(answers['1'])"
   ]
  },
  {
   "cell_type": "code",
   "execution_count": 717,
   "metadata": {},
   "outputs": [
    {
     "data": {
      "text/plain": [
       "'1157. Gods and Generals (tt0279111)'"
      ]
     },
     "metadata": {},
     "output_type": "display_data"
    }
   ],
   "source": [
    "#2 Какой из фильмов самый длительный (в минутах)?\n",
    "\n",
    "max_runtime = data[data.runtime == max(data.runtime)]\n",
    "answers['2'] = f\"{max_runtime.index.values[0]}. {max_runtime.original_title.values[0]} ({max_runtime.imdb_id.values[0]})\"\n",
    "\n",
    "display(answers['2'])"
   ]
  },
  {
   "cell_type": "code",
   "execution_count": 718,
   "metadata": {
    "scrolled": true
   },
   "outputs": [
    {
     "data": {
      "text/plain": [
       "'768. Winnie the Pooh (tt1449283)'"
      ]
     },
     "metadata": {},
     "output_type": "display_data"
    }
   ],
   "source": [
    "#3 Какой из фильмов самый короткий (в минутах)?\n",
    "\n",
    "min_runtime = data[data.runtime == min(data.runtime)]\n",
    "answers['3'] = f\"{min_runtime.index.values[0]}. {min_runtime.original_title.values[0]} ({min_runtime.imdb_id.values[0]})\"\n",
    "\n",
    "display(answers['3'])"
   ]
  },
  {
   "cell_type": "code",
   "execution_count": 719,
   "metadata": {
    "scrolled": true
   },
   "outputs": [
    {
     "data": {
      "text/plain": [
       "110"
      ]
     },
     "metadata": {},
     "output_type": "display_data"
    }
   ],
   "source": [
    "#4 Какова средняя длительность фильмов?\n",
    "\n",
    "mean_runtime = round(data['runtime'].mean())\n",
    "answers['4'] = mean_runtime\n",
    "\n",
    "display(answers['4'])"
   ]
  },
  {
   "cell_type": "code",
   "execution_count": 720,
   "metadata": {
    "scrolled": true
   },
   "outputs": [
    {
     "data": {
      "text/plain": [
       "107"
      ]
     },
     "metadata": {},
     "output_type": "display_data"
    }
   ],
   "source": [
    "#5 Каково медианное значение длительности фильмов?\n",
    "\n",
    "median_runtime = round(data['runtime'].median())\n",
    "answers['5'] = median_runtime\n",
    "\n",
    "display(answers['5'])"
   ]
  },
  {
   "cell_type": "code",
   "execution_count": 721,
   "metadata": {
    "scrolled": true
   },
   "outputs": [
    {
     "data": {
      "text/plain": [
       "'239. Avatar (tt0499549)'"
      ]
     },
     "metadata": {},
     "output_type": "display_data"
    }
   ],
   "source": [
    "#6 Какой самый прибыльный фильм?\n",
    "\n",
    "max_profit = data[data.profit == max(data.profit)]\n",
    "answers['6'] = f\"{max_profit.index.values[0]}. {max_profit.original_title.values[0]} ({max_profit.imdb_id.values[0]})\"\n",
    "\n",
    "display(answers['6'])"
   ]
  },
  {
   "cell_type": "code",
   "execution_count": 722,
   "metadata": {
    "scrolled": false
   },
   "outputs": [
    {
     "data": {
      "text/plain": [
       "'1245. The Lone Ranger (tt1210819)'"
      ]
     },
     "metadata": {},
     "output_type": "display_data"
    }
   ],
   "source": [
    "#7 Какой фильм самый убыточный?\n",
    "\n",
    "damages = data[data.profit == min(data.profit)]\n",
    "answers['7'] = f\"{damages.index.values[0]}. {damages.original_title.values[0]} ({damages.imdb_id.values[0]})\"\n",
    "\n",
    "display(answers['7'])"
   ]
  },
  {
   "cell_type": "code",
   "execution_count": 723,
   "metadata": {
    "scrolled": false
   },
   "outputs": [
    {
     "data": {
      "text/plain": [
       "'1478'"
      ]
     },
     "metadata": {},
     "output_type": "display_data"
    }
   ],
   "source": [
    "#8 У скольких фильмов из датасета объем сборов оказался выше бюджета?\n",
    "\n",
    "profit = data[data.revenue > data.budget]\n",
    "profit_count = len(profit)\n",
    "answers['8'] = f\"{profit_count}\"\n",
    "\n",
    "display(answers['8'])"
   ]
  },
  {
   "cell_type": "code",
   "execution_count": 724,
   "metadata": {
    "scrolled": true
   },
   "outputs": [
    {
     "data": {
      "text/plain": [
       "'599. The Dark Knight (tt0468569)'"
      ]
     },
     "metadata": {},
     "output_type": "display_data"
    }
   ],
   "source": [
    "#9. Какой фильм оказался самым кассовым в 2008 году?\n",
    "\n",
    "films_2008 = data[data.release_year == 2008]\n",
    "profit_2008 = films_2008[films_2008.profit == max(films_2008.profit)]\n",
    "answers['9'] = f\"{profit_2008.index.values[0]}. {profit_2008.original_title.values[0]} ({profit_2008.imdb_id.values[0]})\"\n",
    "\n",
    "display(answers['9'])"
   ]
  },
  {
   "cell_type": "code",
   "execution_count": 725,
   "metadata": {
    "scrolled": true
   },
   "outputs": [
    {
     "data": {
      "text/plain": [
       "'1245. The Lone Ranger (tt1210819)'"
      ]
     },
     "metadata": {},
     "output_type": "display_data"
    }
   ],
   "source": [
    "#10. Самый убыточный фильм за период с 2012 по 2014 г. (включительно)?\n",
    "\n",
    "films_12_14 = data[(data.release_year >= 2012)&(data.release_year <= 2014)]\n",
    "damages_12_14 = films_12_14[films_12_14.profit == min(films_12_14.profit)]\n",
    "answers['10'] = f\"{damages_12_14.index.values[0]}. {damages_12_14.original_title.values[0]} ({damages_12_14.imdb_id.values[0]})\"\n",
    "\n",
    "display(answers['10'])"
   ]
  },
  {
   "cell_type": "code",
   "execution_count": 726,
   "metadata": {},
   "outputs": [
    {
     "data": {
      "text/plain": [
       "\"[('Drama', 782)]\""
      ]
     },
     "metadata": {},
     "output_type": "display_data"
    }
   ],
   "source": [
    "#11 Какого жанра фильмов больше всего?\n",
    "\n",
    "most_genres = Counter()\n",
    "for x in data.genres.str.split('|'): most_genres += Counter(x)\n",
    "answers['11'] = f\"{most_genres.most_common(1)}\"\n",
    "\n",
    "display(answers['11'])"
   ]
  },
  {
   "cell_type": "code",
   "execution_count": 727,
   "metadata": {
    "scrolled": true
   },
   "outputs": [
    {
     "data": {
      "text/plain": [
       "\"[('Drama', 560)]\""
      ]
     },
     "metadata": {},
     "output_type": "display_data"
    }
   ],
   "source": [
    "#12. Фильмы какого жанра чаще всего становятся прибыльными?\n",
    "\n",
    "profit_films = data[data.profit > 0]\n",
    "most_genres_profit = Counter()\n",
    "for x in profit_films.genres.str.split('|'): most_genres_profit += Counter(x)\n",
    "answers['12'] = f\"{most_genres_profit.most_common(1)}\"\n",
    "\n",
    "display(answers['12'])"
   ]
  },
  {
   "cell_type": "code",
   "execution_count": 728,
   "metadata": {},
   "outputs": [
    {
     "data": {
      "text/plain": [
       "'Peter Jackson. 6490593685'"
      ]
     },
     "metadata": {},
     "output_type": "display_data"
    }
   ],
   "source": [
    "#13. У какого режиссера самые большие суммарные кассовые сборы?\n",
    "\n",
    "df_copy = data.copy()\n",
    "df_copy['dirs'] = df_copy['director'].str.split('|')\n",
    "data_grp = df_copy.explode('dirs').groupby(['dirs']).revenue.sum().sort_values(ascending =False)\n",
    "max_grp = data_grp[data_grp == max(data_grp)]\n",
    "answers['13'] = f\"{max_grp.index[0]}. {max_grp.values[0]}\"\n",
    "\n",
    "display(answers['13'])"
   ]
  },
  {
   "cell_type": "code",
   "execution_count": 729,
   "metadata": {
    "scrolled": true
   },
   "outputs": [
    {
     "data": {
      "text/plain": [
       "'Robert Rodriguez. 9'"
      ]
     },
     "metadata": {},
     "output_type": "display_data"
    }
   ],
   "source": [
    "#14. Какой режисер снял больше всего фильмов в стиле Action?\n",
    "\n",
    "df_copy_genres = data[data.genres.str.contains('Action', na = False)].copy()\n",
    "df_copy_genres['dirs'] = df_copy_genres['director'].str.split('|')\n",
    "df_copy_genresx = df_copy_genres.explode('dirs')\n",
    "max_gnrs_dirs = df_copy_genresx.dirs.value_counts().sort_values(ascending =False)\n",
    "\n",
    "answers['14'] = f\"{max_gnrs_dirs.index[0]}. {max_gnrs_dirs.values[0]}\"\n",
    "\n",
    "display(answers['14'])"
   ]
  },
  {
   "cell_type": "code",
   "execution_count": 730,
   "metadata": {
    "scrolled": true
   },
   "outputs": [
    {
     "data": {
      "text/plain": [
       "'Chris Hemsworth. 2027450773'"
      ]
     },
     "metadata": {},
     "output_type": "display_data"
    }
   ],
   "source": [
    "#15. Фильмы с каким актером принесли самые высокие кассовые сборы в 2012 году?\n",
    "\n",
    "df_copy_cast = data[(data.release_year == 2012)].copy()\n",
    "df_copy_cast['cst'] = df_copy_cast['cast'].str.split('|')\n",
    "max_revenue_cast = df_copy_cast.explode('cst').groupby(['cst']).revenue.sum().sort_values(ascending =False)\n",
    "\n",
    "answers['15'] = f\"{max_revenue_cast.index[0]}. {max_revenue_cast.values[0]}\"\n",
    "\n",
    "display(answers['15'])"
   ]
  },
  {
   "cell_type": "code",
   "execution_count": 731,
   "metadata": {
    "scrolled": true
   },
   "outputs": [
    {
     "data": {
      "text/plain": [
       "'Matt Damon. 18'"
      ]
     },
     "metadata": {},
     "output_type": "display_data"
    }
   ],
   "source": [
    "#16. Какой актер снялся в большем количестве высокобюджетных фильмов?\n",
    "\n",
    "df_copy_cast_bd = data[data.budget > data.budget.mean()].copy()\n",
    "df_copy_cast_bd['cst'] = df_copy_cast_bd['cast'].str.split('|')\n",
    "max_bud_cast = df_copy_cast_bd.cst.explode().value_counts()\n",
    "\n",
    "answers['16'] = f\"{max_bud_cast.index[0]}. {max_bud_cast.values[0]}\"\n",
    "\n",
    "display(answers['16'])"
   ]
  },
  {
   "cell_type": "code",
   "execution_count": 732,
   "metadata": {
    "scrolled": true
   },
   "outputs": [
    {
     "data": {
      "text/plain": [
       "'Action. 17'"
      ]
     },
     "metadata": {},
     "output_type": "display_data"
    }
   ],
   "source": [
    "#17. В фильмах какого жанра больше всего снимался Nicolas Cage?\n",
    "\n",
    "df_NC_films = data[data.cast.str.contains('Nicolas Cage', na = False)].copy()\n",
    "df_NC_films['gnrs'] = df_NC_films['genres'].str.split('|')\n",
    "max_NC_gnrs = df_NC_films.gnrs.explode().value_counts()\n",
    "\n",
    "answers['17'] = f\"{max_NC_gnrs.index[0]}. {max_NC_gnrs.values[0]}\"\n",
    "\n",
    "display(answers['17'])"
   ]
  },
  {
   "cell_type": "code",
   "execution_count": 733,
   "metadata": {
    "scrolled": true
   },
   "outputs": [
    {
     "data": {
      "text/plain": [
       "'925. K-19: The Widowmaker'"
      ]
     },
     "metadata": {},
     "output_type": "display_data"
    }
   ],
   "source": [
    "#18. Самый убыточный фильм от Paramount Pictures?\n",
    "\n",
    "df_PP_films = data[data.production_companies.str.contains('Paramount Pictures', na = False)].copy()\n",
    "df_PP_films = df_PP_films[df_PP_films.profit == min(df_PP_films.profit)]\n",
    "\n",
    "answers['18'] = f\"{df_PP_films.index[0]}. {df_PP_films.original_title.values[0]}\"\n",
    "\n",
    "display(answers['18'])"
   ]
  },
  {
   "cell_type": "code",
   "execution_count": 734,
   "metadata": {
    "scrolled": true
   },
   "outputs": [
    {
     "data": {
      "text/plain": [
       "'2015. 25449202382'"
      ]
     },
     "metadata": {},
     "output_type": "display_data"
    }
   ],
   "source": [
    "#19. Какой год стал самым успешным по суммарным кассовым сборам?\n",
    "\n",
    "df_year_rev = data.copy()\n",
    "df_year_rev_g = df_year_rev.groupby(['release_year']).revenue.sum().sort_values(ascending =False)\n",
    "max_rev_year = df_year_rev_g[df_year_rev_g == max(df_year_rev_g)]\n",
    "\n",
    "answers['19'] = f\"{max_rev_year.index[0]}. {max_rev_year.values[0]}\"\n",
    "\n",
    "display(answers['19'])"
   ]
  },
  {
   "cell_type": "code",
   "execution_count": 735,
   "metadata": {
    "scrolled": true
   },
   "outputs": [
    {
     "data": {
      "text/plain": [
       "'2014. 3243064519'"
      ]
     },
     "metadata": {},
     "output_type": "display_data"
    }
   ],
   "source": [
    "#20. Какой самый прибыльный год для студии Warner Bros?\n",
    "\n",
    "df_year_WB_prof = data[data.production_companies.str.contains('Warner Bros', na = False)].copy()\n",
    "df_year_WB_prof_g = df_year_WB_prof.groupby(['release_year']).revenue.sum().sort_values(ascending =False)\n",
    "max_WB_prof_year = df_year_WB_prof_g[df_year_WB_prof_g == max(df_year_WB_prof_g)]\n",
    "\n",
    "answers['20'] = f\"{max_WB_prof_year.index[0]}. {max_WB_prof_year.values[0]}\"\n",
    "\n",
    "display(answers['20'])"
   ]
  },
  {
   "cell_type": "code",
   "execution_count": 736,
   "metadata": {},
   "outputs": [
    {
     "data": {
      "text/plain": [
       "'Сентябрь. 227'"
      ]
     },
     "metadata": {},
     "output_type": "display_data"
    }
   ],
   "source": [
    "#21. В каком месяце за все годы суммарно вышло больше всего фильмов?\n",
    "\n",
    "df_month_rev = data.copy()\n",
    "max_films_year = df_month_rev.groupby(df_month_rev.release_date.dt.month).original_title.count().sort_values(ascending =False)\n",
    "\n",
    "answers['21'] = f\"{month_name(max_films_year.index[0], 'ru')}. {max_films_year.values[0]}\"\n",
    "\n",
    "display(answers['21'])"
   ]
  },
  {
   "cell_type": "code",
   "execution_count": 737,
   "metadata": {
    "scrolled": true
   },
   "outputs": [
    {
     "data": {
      "text/plain": [
       "'450'"
      ]
     },
     "metadata": {},
     "output_type": "display_data"
    }
   ],
   "source": [
    "#22. Сколько суммарно вышло фильмов летом? (за июнь, июль, август)?\n",
    "\n",
    "df_summer_rev = data.copy()\n",
    "max_films_year = df_summer_rev.groupby(df_summer_rev.release_date.dt.month).overview.count().sort_values(ascending =False)\n",
    "sum_summer_films = max_films_year[6]+max_films_year[7]+max_films_year[8]\n",
    "\n",
    "answers['22'] = f\"{sum_summer_films}\"\n",
    "\n",
    "display(answers['22'])"
   ]
  },
  {
   "cell_type": "code",
   "execution_count": 738,
   "metadata": {
    "scrolled": true
   },
   "outputs": [
    {
     "data": {
      "text/plain": [
       "'Peter Jackson. 7'"
      ]
     },
     "metadata": {},
     "output_type": "display_data"
    }
   ],
   "source": [
    "#23. Для какого режиссера зима – самое продуктивное время года?\n",
    "\n",
    "df_winter_films = data[(data.release_date.dt.month <= 2)|(data.release_date.dt.month >= 12)].copy()\n",
    "df_winter_films['dirs'] = df_winter_films['director'].str.split('|')\n",
    "max_cnt_flms_gnrs = df_winter_films.dirs.explode().value_counts()\n",
    "\n",
    "answers['23'] = f\"{max_cnt_flms_gnrs.index[0]}. {max_cnt_flms_gnrs.values[0]}\"\n",
    "\n",
    "display(answers['23'])"
   ]
  },
  {
   "cell_type": "code",
   "execution_count": 739,
   "metadata": {
    "scrolled": true
   },
   "outputs": [
    {
     "data": {
      "text/plain": [
       "'Four By Two Productions. 83.0'"
      ]
     },
     "metadata": {},
     "output_type": "display_data"
    }
   ],
   "source": [
    "#24. Какая студия дает самые длинные названия своим фильмам по количеству символов?\n",
    "\n",
    "df_len_name_films = data.copy()\n",
    "df_len_name_films['len_name'] = df_len_name_films.original_title.apply(len)\n",
    "df_len_name_films['comp'] = df_len_name_films['production_companies'].str.split('|')\n",
    "df_len_name_films = df_len_name_films.explode('comp').groupby(['comp']).len_name.mean().sort_values(ascending =False)\n",
    "\n",
    "\n",
    "answers['24'] = f\"{df_len_name_films.index[0]}. {df_len_name_films.values[0]}\"\n",
    "\n",
    "display(answers['24'])"
   ]
  },
  {
   "cell_type": "code",
   "execution_count": 740,
   "metadata": {
    "scrolled": true
   },
   "outputs": [
    {
     "data": {
      "text/plain": [
       "'Midnight Picture Show. 175.0'"
      ]
     },
     "metadata": {},
     "output_type": "display_data"
    }
   ],
   "source": [
    "#25. Описание фильмов какой студии в среднем самые длинные по количеству слов?\n",
    "\n",
    "df_len_overview_words = data.copy()\n",
    "df_len_overview_words['len_wrds_ovrvw'] = df_len_overview_words['overview'].str.count(' ') + 1  #Считаем количество слов\n",
    "df_len_overview_words['comp'] = df_len_overview_words['production_companies'].str.split('|')\n",
    "df_len_overview_words = df_len_overview_words.explode('comp').groupby(['comp']).len_wrds_ovrvw.mean().sort_values(ascending =False)\n",
    "\n",
    "answers['25'] = f\"{df_len_overview_words.index[0]}. {df_len_overview_words.values[0]}\"\n",
    "\n",
    "display(answers['25'])"
   ]
  },
  {
   "cell_type": "code",
   "execution_count": 741,
   "metadata": {
    "scrolled": true
   },
   "outputs": [
    {
     "data": {
      "text/plain": [
       "\"['Inside Out', 'The Dark Knight', '12 Years a Slave']\""
      ]
     },
     "metadata": {},
     "output_type": "display_data"
    }
   ],
   "source": [
    "#26. Какие фильмы входят в 1 процент лучших по рейтингу?\n",
    "\n",
    "df_1_prcnt = data[data['vote_average']>=data.quantile(0.99, numeric_only=True)['vote_average']].copy()\n",
    "answer = df_1_prcnt.original_title\n",
    "\n",
    "#Проверка вариантов ответов в полученном датасете\n",
    "answer = ex_check_26(answer)\n",
    "\n",
    "answers['26'] = f\"{answer}\"\n",
    "\n",
    "display(answers['26'])"
   ]
  },
  {
   "cell_type": "code",
   "execution_count": 742,
   "metadata": {
    "scrolled": false
   },
   "outputs": [
    {
     "data": {
      "text/plain": [
       "\"('Daniel Radcliffe', 'Rupert Grint'). 8\""
      ]
     },
     "metadata": {},
     "output_type": "display_data"
    }
   ],
   "source": [
    "#27. Какие актеры чаще всего снимаются в одном фильме вместе?\n",
    "\n",
    "actors_df = data.copy()\n",
    "actors_df['cast_pair'] = actors_df.cast.str.split('|')\n",
    "actors_df['cast_pair'] = actors_df.cast_pair.apply(lambda x:list(combinations(x, 2)))\n",
    "actors_df = actors_df.explode('cast_pair').groupby(['cast_pair']).cast_pair.count().sort_values(ascending =False)\n",
    "\n",
    "answer = actors_df.copy()\n",
    "\n",
    "#Проверка вариантов ответов в полученном датасете\n",
    "list_cast_pair = ex_check_27(answer)\n",
    "max_count = max(list_cast_pair.keys())\n",
    "\n",
    "answers['27'] = f\"{list_cast_pair[max_count]}. {max_count}\"\n",
    "display(answers['27'])"
   ]
  },
  {
   "cell_type": "code",
   "execution_count": 745,
   "metadata": {},
   "outputs": [
    {
     "data": {
      "text/plain": [
       "{'1': '723. Pirates of the Caribbean: On Stranger Tides (tt1298650)',\n",
       " '2': '1157. Gods and Generals (tt0279111)',\n",
       " '3': '768. Winnie the Pooh (tt1449283)',\n",
       " '4': 110,\n",
       " '5': 107,\n",
       " '6': '239. Avatar (tt0499549)',\n",
       " '7': '1245. The Lone Ranger (tt1210819)',\n",
       " '8': '1478',\n",
       " '9': '599. The Dark Knight (tt0468569)',\n",
       " '10': '1245. The Lone Ranger (tt1210819)',\n",
       " '11': \"[('Drama', 782)]\",\n",
       " '12': \"[('Drama', 560)]\",\n",
       " '13': 'Peter Jackson. 6490593685',\n",
       " '14': 'Robert Rodriguez. 9',\n",
       " '15': 'Chris Hemsworth. 2027450773',\n",
       " '16': 'Matt Damon. 18',\n",
       " '17': 'Action. 17',\n",
       " '18': '925. K-19: The Widowmaker',\n",
       " '19': '2015. 25449202382',\n",
       " '20': '2014. 3243064519',\n",
       " '21': 'Сентябрь. 227',\n",
       " '22': '450',\n",
       " '23': 'Peter Jackson. 7',\n",
       " '24': 'Four By Two Productions. 83.0',\n",
       " '25': 'Midnight Picture Show. 175.0',\n",
       " '26': \"['Inside Out', 'The Dark Knight', '12 Years a Slave']\",\n",
       " '27': \"('Daniel Radcliffe', 'Rupert Grint'). 8\"}"
      ]
     },
     "execution_count": 745,
     "metadata": {},
     "output_type": "execute_result"
    }
   ],
   "source": [
    "# в конце можно посмотреть свои ответы к каждому вопросу\n",
    "answers"
   ]
  },
  {
   "cell_type": "code",
   "execution_count": 744,
   "metadata": {},
   "outputs": [
    {
     "data": {
      "text/plain": [
       "27"
      ]
     },
     "execution_count": 744,
     "metadata": {},
     "output_type": "execute_result"
    }
   ],
   "source": [
    "len(answers)"
   ]
  }
 ],
 "metadata": {
  "kernelspec": {
   "display_name": "Python 3",
   "language": "python",
   "name": "python3"
  },
  "language_info": {
   "codemirror_mode": {
    "name": "ipython",
    "version": 3
   },
   "file_extension": ".py",
   "mimetype": "text/x-python",
   "name": "python",
   "nbconvert_exporter": "python",
   "pygments_lexer": "ipython3",
   "version": "3.8.3"
  }
 },
 "nbformat": 4,
 "nbformat_minor": 4
}
