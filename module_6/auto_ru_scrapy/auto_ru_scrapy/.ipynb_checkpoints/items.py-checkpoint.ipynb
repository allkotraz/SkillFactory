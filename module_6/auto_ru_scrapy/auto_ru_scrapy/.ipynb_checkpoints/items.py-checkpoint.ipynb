{
 "cells": [
  {
   "cell_type": "code",
   "execution_count": null,
   "metadata": {},
   "outputs": [],
   "source": [
    "# Define here the models for your scraped items\n",
    "#\n",
    "# See documentation in:\n",
    "# https://docs.scrapy.org/en/latest/topics/items.html\n",
    "\n",
    "import scrapy\n",
    "\n",
    "\n",
    "class AutoruScrapyItem(scrapy.Item):\n",
    "    url = scrapy.Field()\n",
    "    orig_url = scrapy.Field()\n",
    "    model_brand = scrapy.Field()\n",
    "    model = scrapy.Field()\n",
    "    brand = scrapy.Field()\n",
    "    generation = scrapy.Field()\n",
    "    date_posted = scrapy.Field()\n",
    "    views_stats = scrapy.Field()\n",
    "    views_total = scrapy.Field()\n",
    "    views_today = scrapy.Field()\n",
    "    offer_id = scrapy.Field()\n",
    "    year = scrapy.Field()\n",
    "    mileage = scrapy.Field()\n",
    "    body_type = scrapy.Field()\n",
    "    color = scrapy.Field()\n",
    "    fuel_type = scrapy.Field()\n",
    "    engine = scrapy.Field()\n",
    "    engine_volume = scrapy.Field()\n",
    "    engine_power = scrapy.Field()\n",
    "    transmission = scrapy.Field()\n",
    "    drive = scrapy.Field()\n",
    "    wheel = scrapy.Field()\n",
    "    state = scrapy.Field()\n",
    "    owners_count = scrapy.Field()\n",
    "    pts = scrapy.Field()\n",
    "    customs = scrapy.Field()\n",
    "    exchange = scrapy.Field()\n",
    "    vin = scrapy.Field()\n",
    "    license_plate = scrapy.Field()\n",
    "    photos_links = scrapy.Field()\n",
    "    photos_count = scrapy.Field()\n",
    "    descr = scrapy.Field()\n",
    "    complectation = scrapy.Field()\n",
    "    price = scrapy.Field()\n",
    "    catalog_link = scrapy.Field()"
   ]
  }
 ],
 "metadata": {
  "kernelspec": {
   "display_name": "Python 3",
   "language": "python",
   "name": "python3"
  },
  "language_info": {
   "codemirror_mode": {
    "name": "ipython",
    "version": 3
   },
   "file_extension": ".py",
   "mimetype": "text/x-python",
   "name": "python",
   "nbconvert_exporter": "python",
   "pygments_lexer": "ipython3",
   "version": "3.8.5"
  }
 },
 "nbformat": 4,
 "nbformat_minor": 4
}
