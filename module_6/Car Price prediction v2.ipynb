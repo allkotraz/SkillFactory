{
 "cells": [
  {
   "cell_type": "code",
   "execution_count": 1,
   "metadata": {},
   "outputs": [],
   "source": [
    "import numpy as np # linear algebra\n",
    "import pandas as pd # data processing, CSV file I/O (e.g. pd.read_csv)\n",
    "import sys\n",
    "from sklearn.model_selection import train_test_split\n",
    "from sklearn.model_selection import KFold\n",
    "from tqdm.notebook import tqdm\n",
    "from catboost import CatBoostRegressor\n",
    "from sklearn.preprocessing import LabelEncoder\n",
    "import matplotlib.pyplot as plt\n",
    "import seaborn as sns\n",
    "import pandas.api.types as at\n",
    "from sklearn.ensemble import RandomForestRegressor, StackingRegressor, BaggingRegressor"
   ]
  },
  {
   "cell_type": "code",
   "execution_count": 2,
   "metadata": {},
   "outputs": [
    {
     "name": "stdout",
     "output_type": "stream",
     "text": [
      "Python       : 3.8.5 (default, Sep  3 2020, 21:29:08) [MSC v.1916 64 bit (AMD64)]\n",
      "Numpy        : 1.19.2\n"
     ]
    }
   ],
   "source": [
    "print('Python       :', sys.version.split('\\n')[0])\n",
    "print('Numpy        :', np.__version__)"
   ]
  },
  {
   "cell_type": "code",
   "execution_count": 3,
   "metadata": {},
   "outputs": [],
   "source": [
    "# зафиксируем версию пакетов, чтобы эксперименты были воспроизводимы:\n",
    "!pip freeze > requirements.txt"
   ]
  },
  {
   "cell_type": "code",
   "execution_count": 4,
   "metadata": {},
   "outputs": [],
   "source": [
    "# всегда фиксируйте RANDOM_SEED, чтобы ваши эксперименты были воспроизводимы!\n",
    "RANDOM_SEED = 42"
   ]
  },
  {
   "cell_type": "code",
   "execution_count": 5,
   "metadata": {},
   "outputs": [],
   "source": [
    "def mape(y_true, y_pred):\n",
    "    return np.mean(np.abs((y_pred-y_true)/y_true))\n",
    "\n",
    "def mapes(y_true, y_pred):\n",
    "    '''\n",
    "    Печатаем MAPE для логарифма цены и для цены в рублях, возвращаем эти значения\n",
    "    для сохранения в словаре с результатами.\n",
    "    '''\n",
    "    mape_log = mape(y_true, y_pred)\n",
    "    mape_rub = mape(np.exp(y_true), np.exp(y_pred))\n",
    "    print(f'MAPE для логарифма цены: {mape_log}')\n",
    "    print(f'MAPE для цены в рублях: {mape_rub}')\n",
    "    return mape_log, mape_rub \n",
    "\n",
    "results = {}\n",
    "\n",
    "\n",
    "\n",
    "class Preprocessing:\n",
    "    def __init__(self, data):\n",
    "        self.data = data\n",
    "\n",
    "    def label_encoder(self, column):\n",
    "        le = LabelEncoder()\n",
    "        self.data[column] = le.fit_transform(self.data[column])\n",
    "\n",
    "    def hot_enc(self, column):\n",
    "        ohe = OneHotEncoder(handle_unknown='ignore', sparse=False)\n",
    "        aux_df = pd.DataFrame(ohe.fit_transform(self.data[[column]]))\n",
    "        aux_df.columns = ohe.get_feature_names([f'hot_{column}'])\n",
    "        self.data = self.data.drop(col, axis=1)\n",
    "        self.data = pd.concat([self.data, aux_df], axis=1)\n",
    "        return self.data \n",
    "\n",
    "\n",
    "    \n",
    "class Numeric_column_аnalyze():\n",
    "    '''Визуализация и выбросы'''\n",
    "    def __init__(self, df, columns):\n",
    "        self.df = df[columns]\n",
    "        self.columns = columns\n",
    "    \n",
    "    def show(self):\n",
    "        \n",
    "        for col in self.columns:\n",
    "            column_log = col + '_log'\n",
    "            df_log = self.df[col].apply(lambda x: np.log(x + 1))\n",
    "            df = self.df[col]\n",
    "\n",
    "            self.show_plots(df, col)\n",
    "            self.show_plots(df_log, column_log)\n",
    "\n",
    "    def show_plots(self, data, column, size = 5,):\n",
    "        \n",
    "        f = plt.figure()\n",
    "        f.clear()\n",
    "        plt.close(f)\n",
    "\n",
    "        fig, (ax1, ax2, ax3) = plt.subplots(1, 3, figsize = (3*size,size))\n",
    "\n",
    "        fig.suptitle('Hist, QQ-plot and boxplot for {0} '.format(column), fontsize=16)\n",
    "        ax1.hist(data.dropna(), bins = 20, histtype = 'bar', align = 'mid', rwidth = 0.8, color = 'green')\n",
    "        fig = sm.qqplot(data.dropna(), fit = True, line ='45', ax=ax2) \n",
    "\n",
    "        ax3.boxplot(data.dropna(), vert = False)  # выбросы\n",
    "\n",
    "        plt.show\n",
    "        \n",
    "    def emission_limits(self, col, log = False): # границы выбросов\n",
    "        if log:\n",
    "            data = self.df[col].apply(lambda x: np.log(x + 1))\n",
    "            column = col + '_log'\n",
    "        else:\n",
    "            data = self.df[col]\n",
    "            column = col\n",
    "\n",
    "        q1 = data.quantile(q = 0.25) \n",
    "        q3 = data.quantile(q = 0.75) \n",
    "        IQR = q3 - q1\n",
    "        return q1 - 1.5*IQR, q3 + 1.5*IQR\n",
    "\n",
    "    def amount_emissions(self, col, log = False): \n",
    "        if log:\n",
    "            data = self.df[col].apply(lambda x: np.log(x + 1))\n",
    "            column = col + '_log'\n",
    "        else:\n",
    "            data = self.df[col]\n",
    "            column = col\n",
    "\n",
    "        minb, maxb = self.emission_limits(col, log)\n",
    "        return len(data[data < minb])+ len(data[data > maxb])\n",
    "    \n",
    "    def outliers(self, col):\n",
    "        outlier = self.amount_emissions(col, log = False)\n",
    "        outlier_log = self.amount_emissions(col, log = True)\n",
    "        \n",
    "        print('Sum of outliers for {}: '.format(col), outlier)\n",
    "        print('Sum of outliers for log({}): '.format(col), outlier_log)\n",
    "        "
   ]
  },
  {
   "cell_type": "code",
   "execution_count": 6,
   "metadata": {},
   "outputs": [],
   "source": [
    "VERSION    = 16\n",
    "DIR_TRAIN  = './input/' # подключил к ноутбуку внешний датасет\n",
    "DIR_TEST   = './input/'\n",
    "VAL_SIZE   = 0.20   # 20%"
   ]
  },
  {
   "cell_type": "code",
   "execution_count": 7,
   "metadata": {},
   "outputs": [
    {
     "name": "stderr",
     "output_type": "stream",
     "text": [
      "\"ls\" ­Ґ пў«пҐвбп ў­гваҐ­­Ґ© Ё«Ё ў­Ґи­Ґ©\n",
      "Є®¬ ­¤®©, ЁбЇ®«­пҐ¬®© Їа®Ја ¬¬®© Ё«Ё Ї ЄҐв­л¬ д ©«®¬.\n"
     ]
    }
   ],
   "source": [
    "!ls '../input'"
   ]
  },
  {
   "cell_type": "code",
   "execution_count": 8,
   "metadata": {},
   "outputs": [
    {
     "name": "stderr",
     "output_type": "stream",
     "text": [
      "C:\\Users\\allkotraz\\anaconda3\\lib\\site-packages\\IPython\\core\\interactiveshell.py:3146: DtypeWarning: Columns (4,5,6,7,8,12,13,18,25,28) have mixed types.Specify dtype option on import or set low_memory=False.\n",
      "  has_raised = await self.run_ast_nodes(code_ast.body, cell_name,\n"
     ]
    }
   ],
   "source": [
    "train = pd.read_csv(DIR_TRAIN+'dataset_with_electro.csv') # датасет для обучения модели\n",
    "test = pd.read_csv(DIR_TEST+'test.csv')\n",
    "sample_submission = pd.read_csv(DIR_TEST+'sample_submission.csv')\n",
    "\n",
    "# df_train = pd.read_csv('./input/dataset_with_electro.csv', usecols = lambda x: x not in ('photos_links', 'descr'))\n",
    "# df_test = pd.read_csv('./input/test.csv')"
   ]
  },
  {
   "cell_type": "code",
   "execution_count": 9,
   "metadata": {
    "scrolled": true
   },
   "outputs": [
    {
     "data": {
      "text/html": [
       "<div>\n",
       "<style scoped>\n",
       "    .dataframe tbody tr th:only-of-type {\n",
       "        vertical-align: middle;\n",
       "    }\n",
       "\n",
       "    .dataframe tbody tr th {\n",
       "        vertical-align: top;\n",
       "    }\n",
       "\n",
       "    .dataframe thead th {\n",
       "        text-align: right;\n",
       "    }\n",
       "</style>\n",
       "<table border=\"1\" class=\"dataframe\">\n",
       "  <thead>\n",
       "    <tr style=\"text-align: right;\">\n",
       "      <th></th>\n",
       "      <th>brand</th>\n",
       "      <th>model</th>\n",
       "      <th>generation</th>\n",
       "      <th>date_posted</th>\n",
       "      <th>views_total</th>\n",
       "      <th>views_today</th>\n",
       "      <th>offer_id</th>\n",
       "      <th>year</th>\n",
       "      <th>mileage</th>\n",
       "      <th>body_type</th>\n",
       "      <th>...</th>\n",
       "      <th>vin</th>\n",
       "      <th>license_plate</th>\n",
       "      <th>photos_links</th>\n",
       "      <th>photos_count</th>\n",
       "      <th>descr</th>\n",
       "      <th>complectation</th>\n",
       "      <th>price</th>\n",
       "      <th>url</th>\n",
       "      <th>catalog_link</th>\n",
       "      <th>orig_url</th>\n",
       "    </tr>\n",
       "  </thead>\n",
       "  <tbody>\n",
       "    <tr>\n",
       "      <th>0</th>\n",
       "      <td>Продажа автомобилей</td>\n",
       "      <td>Jeep</td>\n",
       "      <td>II (XJ)</td>\n",
       "      <td>16 октября 2017</td>\n",
       "      <td>5216</td>\n",
       "      <td>20</td>\n",
       "      <td>1058938658</td>\n",
       "      <td>1991</td>\n",
       "      <td>350000</td>\n",
       "      <td>внедорожник 5 дв.</td>\n",
       "      <td>...</td>\n",
       "      <td>1J4**************</td>\n",
       "      <td>******|76</td>\n",
       "      <td>//avatars.mds.yandex.net/get-autoru-vos/216328...</td>\n",
       "      <td>3</td>\n",
       "      <td>В отличном состоянии. Полностью подготовлен дл...</td>\n",
       "      <td>Кожа (Материал салона)</td>\n",
       "      <td>450000</td>\n",
       "      <td>https://auto.ru/cars/used/sale/jeep/cherokee/1...</td>\n",
       "      <td>https://auto.ru/catalog/cars/jeep/cherokee/348...</td>\n",
       "      <td>https://auto.ru/cars/used/sale/jeep/cherokee/1...</td>\n",
       "    </tr>\n",
       "    <tr>\n",
       "      <th>1</th>\n",
       "      <td>Продажа автомобилей</td>\n",
       "      <td>Nissan</td>\n",
       "      <td>II (N16) Рестайлинг</td>\n",
       "      <td>28 февраля</td>\n",
       "      <td>8403</td>\n",
       "      <td>36</td>\n",
       "      <td>1102620325</td>\n",
       "      <td>2005</td>\n",
       "      <td>265000</td>\n",
       "      <td>седан</td>\n",
       "      <td>...</td>\n",
       "      <td>SJN**************</td>\n",
       "      <td>******|123</td>\n",
       "      <td>//avatars.mds.yandex.net/get-autoru-vos/435573...</td>\n",
       "      <td>8</td>\n",
       "      <td>Хoрoшее сoстояние автo. Нa машине eздила тoльк...</td>\n",
       "      <td>NaN</td>\n",
       "      <td>230000</td>\n",
       "      <td>https://auto.ru/cars/used/sale/nissan/almera/1...</td>\n",
       "      <td>https://auto.ru/catalog/cars/nissan/almera/460...</td>\n",
       "      <td>https://auto.ru/cars/used/sale/nissan/almera/1...</td>\n",
       "    </tr>\n",
       "    <tr>\n",
       "      <th>2</th>\n",
       "      <td>Продажа автомобилей</td>\n",
       "      <td>LADA (ВАЗ)</td>\n",
       "      <td>I</td>\n",
       "      <td>6 августа</td>\n",
       "      <td>297</td>\n",
       "      <td>15</td>\n",
       "      <td>1104839479</td>\n",
       "      <td>2014</td>\n",
       "      <td>65500</td>\n",
       "      <td>лифтбек</td>\n",
       "      <td>...</td>\n",
       "      <td>XTA**************</td>\n",
       "      <td>******|750</td>\n",
       "      <td>//avatars.mds.yandex.net/get-autoru-vos/523227...</td>\n",
       "      <td>7</td>\n",
       "      <td>Приезжайте смотрите, авто в хорошем состояние....</td>\n",
       "      <td>NaN</td>\n",
       "      <td>335000</td>\n",
       "      <td>https://auto.ru/cars/used/sale/vaz/granta/1104...</td>\n",
       "      <td>https://auto.ru/catalog/cars/vaz/granta/768410...</td>\n",
       "      <td>https://auto.ru/cars/used/sale/vaz/granta/1104...</td>\n",
       "    </tr>\n",
       "    <tr>\n",
       "      <th>3</th>\n",
       "      <td>Продажа автомобилей</td>\n",
       "      <td>Hyundai</td>\n",
       "      <td>I</td>\n",
       "      <td>23 марта 2019</td>\n",
       "      <td>646</td>\n",
       "      <td>3</td>\n",
       "      <td>1085684140</td>\n",
       "      <td>2012</td>\n",
       "      <td>160000</td>\n",
       "      <td>седан</td>\n",
       "      <td>...</td>\n",
       "      <td>KMH**************</td>\n",
       "      <td>******|178</td>\n",
       "      <td>//avatars.mds.yandex.net/get-verba/787013/2a00...</td>\n",
       "      <td>1</td>\n",
       "      <td>Автомобиль в хорошем состоянии, полная комплек...</td>\n",
       "      <td>NaN</td>\n",
       "      <td>635000</td>\n",
       "      <td>https://auto.ru/cars/used/sale/hyundai/i40/108...</td>\n",
       "      <td>https://auto.ru/catalog/cars/hyundai/i40/79097...</td>\n",
       "      <td>https://auto.ru/cars/used/sale/hyundai/i40/108...</td>\n",
       "    </tr>\n",
       "    <tr>\n",
       "      <th>4</th>\n",
       "      <td>Продажа автомобилей</td>\n",
       "      <td>Nissan</td>\n",
       "      <td>III (P12)</td>\n",
       "      <td>5 августа</td>\n",
       "      <td>206</td>\n",
       "      <td>3</td>\n",
       "      <td>1104622566</td>\n",
       "      <td>2004</td>\n",
       "      <td>336000</td>\n",
       "      <td>седан</td>\n",
       "      <td>...</td>\n",
       "      <td>SJN**************</td>\n",
       "      <td>******|06</td>\n",
       "      <td>//avatars.mds.yandex.net/get-autoru-vos/523191...</td>\n",
       "      <td>1</td>\n",
       "      <td>В хорошем состоянии,не битый,без жарвчиный воо...</td>\n",
       "      <td>Антиблокировочная система (ABS),Противотуманны...</td>\n",
       "      <td>260000</td>\n",
       "      <td>https://auto.ru/cars/used/sale/nissan/primera/...</td>\n",
       "      <td>https://auto.ru/catalog/cars/nissan/primera/34...</td>\n",
       "      <td>https://auto.ru/cars/used/sale/nissan/primera/...</td>\n",
       "    </tr>\n",
       "  </tbody>\n",
       "</table>\n",
       "<p>5 rows × 32 columns</p>\n",
       "</div>"
      ],
      "text/plain": [
       "                 brand       model           generation      date_posted  \\\n",
       "0  Продажа автомобилей        Jeep              II (XJ)  16 октября 2017   \n",
       "1  Продажа автомобилей      Nissan  II (N16) Рестайлинг       28 февраля   \n",
       "2  Продажа автомобилей  LADA (ВАЗ)                    I        6 августа   \n",
       "3  Продажа автомобилей     Hyundai                    I    23 марта 2019   \n",
       "4  Продажа автомобилей      Nissan            III (P12)        5 августа   \n",
       "\n",
       "  views_total views_today    offer_id  year mileage          body_type  ...  \\\n",
       "0        5216          20  1058938658  1991  350000  внедорожник 5 дв.  ...   \n",
       "1        8403          36  1102620325  2005  265000              седан  ...   \n",
       "2         297          15  1104839479  2014   65500            лифтбек  ...   \n",
       "3         646           3  1085684140  2012  160000              седан  ...   \n",
       "4         206           3  1104622566  2004  336000              седан  ...   \n",
       "\n",
       "                 vin license_plate  \\\n",
       "0  1J4**************     ******|76   \n",
       "1  SJN**************    ******|123   \n",
       "2  XTA**************    ******|750   \n",
       "3  KMH**************    ******|178   \n",
       "4  SJN**************     ******|06   \n",
       "\n",
       "                                        photos_links photos_count  \\\n",
       "0  //avatars.mds.yandex.net/get-autoru-vos/216328...            3   \n",
       "1  //avatars.mds.yandex.net/get-autoru-vos/435573...            8   \n",
       "2  //avatars.mds.yandex.net/get-autoru-vos/523227...            7   \n",
       "3  //avatars.mds.yandex.net/get-verba/787013/2a00...            1   \n",
       "4  //avatars.mds.yandex.net/get-autoru-vos/523191...            1   \n",
       "\n",
       "                                               descr  \\\n",
       "0  В отличном состоянии. Полностью подготовлен дл...   \n",
       "1  Хoрoшее сoстояние автo. Нa машине eздила тoльк...   \n",
       "2  Приезжайте смотрите, авто в хорошем состояние....   \n",
       "3  Автомобиль в хорошем состоянии, полная комплек...   \n",
       "4  В хорошем состоянии,не битый,без жарвчиный воо...   \n",
       "\n",
       "                                       complectation   price  \\\n",
       "0                             Кожа (Материал салона)  450000   \n",
       "1                                                NaN  230000   \n",
       "2                                                NaN  335000   \n",
       "3                                                NaN  635000   \n",
       "4  Антиблокировочная система (ABS),Противотуманны...  260000   \n",
       "\n",
       "                                                 url  \\\n",
       "0  https://auto.ru/cars/used/sale/jeep/cherokee/1...   \n",
       "1  https://auto.ru/cars/used/sale/nissan/almera/1...   \n",
       "2  https://auto.ru/cars/used/sale/vaz/granta/1104...   \n",
       "3  https://auto.ru/cars/used/sale/hyundai/i40/108...   \n",
       "4  https://auto.ru/cars/used/sale/nissan/primera/...   \n",
       "\n",
       "                                        catalog_link  \\\n",
       "0  https://auto.ru/catalog/cars/jeep/cherokee/348...   \n",
       "1  https://auto.ru/catalog/cars/nissan/almera/460...   \n",
       "2  https://auto.ru/catalog/cars/vaz/granta/768410...   \n",
       "3  https://auto.ru/catalog/cars/hyundai/i40/79097...   \n",
       "4  https://auto.ru/catalog/cars/nissan/primera/34...   \n",
       "\n",
       "                                            orig_url  \n",
       "0  https://auto.ru/cars/used/sale/jeep/cherokee/1...  \n",
       "1  https://auto.ru/cars/used/sale/nissan/almera/1...  \n",
       "2  https://auto.ru/cars/used/sale/vaz/granta/1104...  \n",
       "3  https://auto.ru/cars/used/sale/hyundai/i40/108...  \n",
       "4  https://auto.ru/cars/used/sale/nissan/primera/...  \n",
       "\n",
       "[5 rows x 32 columns]"
      ]
     },
     "execution_count": 9,
     "metadata": {},
     "output_type": "execute_result"
    }
   ],
   "source": [
    "train.head(5)"
   ]
  },
  {
   "cell_type": "code",
   "execution_count": 10,
   "metadata": {
    "scrolled": false
   },
   "outputs": [
    {
     "name": "stdout",
     "output_type": "stream",
     "text": [
      "<class 'pandas.core.frame.DataFrame'>\n",
      "RangeIndex: 535479 entries, 0 to 535478\n",
      "Data columns (total 32 columns):\n",
      " #   Column         Non-Null Count   Dtype \n",
      "---  ------         --------------   ----- \n",
      " 0   brand          535413 non-null  object\n",
      " 1   model          535413 non-null  object\n",
      " 2   generation     535379 non-null  object\n",
      " 3   date_posted    535413 non-null  object\n",
      " 4   views_total    512687 non-null  object\n",
      " 5   views_today    512687 non-null  object\n",
      " 6   offer_id       535413 non-null  object\n",
      " 7   year           535413 non-null  object\n",
      " 8   mileage        535413 non-null  object\n",
      " 9   body_type      535379 non-null  object\n",
      " 10  color          535413 non-null  object\n",
      " 11  fuel_type      535377 non-null  object\n",
      " 12  engine_volume  535377 non-null  object\n",
      " 13  engine_power   535377 non-null  object\n",
      " 14  transmission   535377 non-null  object\n",
      " 15  drive          535377 non-null  object\n",
      " 16  wheel          535413 non-null  object\n",
      " 17  state          535413 non-null  object\n",
      " 18  owners_count   535378 non-null  object\n",
      " 19  pts            535393 non-null  object\n",
      " 20  customs        535413 non-null  object\n",
      " 21  exchange       122332 non-null  object\n",
      " 22  vin            519523 non-null  object\n",
      " 23  license_plate  415179 non-null  object\n",
      " 24  photos_links   531798 non-null  object\n",
      " 25  photos_count   535479 non-null  object\n",
      " 26  descr          515261 non-null  object\n",
      " 27  complectation  316920 non-null  object\n",
      " 28  price          528041 non-null  object\n",
      " 29  url            535479 non-null  object\n",
      " 30  catalog_link   535377 non-null  object\n",
      " 31  orig_url       535479 non-null  object\n",
      "dtypes: object(32)\n",
      "memory usage: 130.7+ MB\n"
     ]
    }
   ],
   "source": [
    "train.info()"
   ]
  },
  {
   "cell_type": "code",
   "execution_count": 11,
   "metadata": {},
   "outputs": [
    {
     "data": {
      "text/plain": [
       "brand                66\n",
       "model                66\n",
       "generation          100\n",
       "date_posted          66\n",
       "views_total       22792\n",
       "views_today       22792\n",
       "offer_id             66\n",
       "year                 66\n",
       "mileage              66\n",
       "body_type           100\n",
       "color                66\n",
       "fuel_type           102\n",
       "engine_volume       102\n",
       "engine_power        102\n",
       "transmission        102\n",
       "drive               102\n",
       "wheel                66\n",
       "state                66\n",
       "owners_count        101\n",
       "pts                  86\n",
       "customs              66\n",
       "exchange         413147\n",
       "vin               15956\n",
       "license_plate    120300\n",
       "photos_links       3681\n",
       "photos_count          0\n",
       "descr             20218\n",
       "complectation    218559\n",
       "price              7438\n",
       "url                   0\n",
       "catalog_link        102\n",
       "orig_url              0\n",
       "dtype: int64"
      ]
     },
     "execution_count": 11,
     "metadata": {},
     "output_type": "execute_result"
    }
   ],
   "source": [
    "train.isna().sum()"
   ]
  },
  {
   "cell_type": "code",
   "execution_count": 12,
   "metadata": {
    "scrolled": true
   },
   "outputs": [
    {
     "data": {
      "text/html": [
       "<div>\n",
       "<style scoped>\n",
       "    .dataframe tbody tr th:only-of-type {\n",
       "        vertical-align: middle;\n",
       "    }\n",
       "\n",
       "    .dataframe tbody tr th {\n",
       "        vertical-align: top;\n",
       "    }\n",
       "\n",
       "    .dataframe thead th {\n",
       "        text-align: right;\n",
       "    }\n",
       "</style>\n",
       "<table border=\"1\" class=\"dataframe\">\n",
       "  <thead>\n",
       "    <tr style=\"text-align: right;\">\n",
       "      <th></th>\n",
       "      <th>bodyType</th>\n",
       "      <th>brand</th>\n",
       "      <th>car_url</th>\n",
       "      <th>color</th>\n",
       "      <th>complectation_dict</th>\n",
       "      <th>description</th>\n",
       "      <th>engineDisplacement</th>\n",
       "      <th>enginePower</th>\n",
       "      <th>equipment_dict</th>\n",
       "      <th>fuelType</th>\n",
       "      <th>...</th>\n",
       "      <th>vehicleConfiguration</th>\n",
       "      <th>vehicleTransmission</th>\n",
       "      <th>vendor</th>\n",
       "      <th>Владельцы</th>\n",
       "      <th>Владение</th>\n",
       "      <th>ПТС</th>\n",
       "      <th>Привод</th>\n",
       "      <th>Руль</th>\n",
       "      <th>Состояние</th>\n",
       "      <th>Таможня</th>\n",
       "    </tr>\n",
       "  </thead>\n",
       "  <tbody>\n",
       "    <tr>\n",
       "      <th>0</th>\n",
       "      <td>лифтбек</td>\n",
       "      <td>SKODA</td>\n",
       "      <td>https://auto.ru/cars/used/sale/skoda/octavia/1...</td>\n",
       "      <td>синий</td>\n",
       "      <td>NaN</td>\n",
       "      <td>Все автомобили, представленные в продаже, прох...</td>\n",
       "      <td>1.2 LTR</td>\n",
       "      <td>105 N12</td>\n",
       "      <td>{\"engine-proof\":true,\"tinted-glass\":true,\"airb...</td>\n",
       "      <td>бензин</td>\n",
       "      <td>...</td>\n",
       "      <td>LIFTBACK ROBOT 1.2</td>\n",
       "      <td>роботизированная</td>\n",
       "      <td>EUROPEAN</td>\n",
       "      <td>3 или более</td>\n",
       "      <td>NaN</td>\n",
       "      <td>Оригинал</td>\n",
       "      <td>передний</td>\n",
       "      <td>Левый</td>\n",
       "      <td>Не требует ремонта</td>\n",
       "      <td>Растаможен</td>\n",
       "    </tr>\n",
       "    <tr>\n",
       "      <th>1</th>\n",
       "      <td>лифтбек</td>\n",
       "      <td>SKODA</td>\n",
       "      <td>https://auto.ru/cars/used/sale/skoda/octavia/1...</td>\n",
       "      <td>чёрный</td>\n",
       "      <td>NaN</td>\n",
       "      <td>ЛОТ: 01217195\\nАвтопрага Север\\nДанный автомоб...</td>\n",
       "      <td>1.6 LTR</td>\n",
       "      <td>110 N12</td>\n",
       "      <td>{\"cruise-control\":true,\"asr\":true,\"esp\":true,\"...</td>\n",
       "      <td>бензин</td>\n",
       "      <td>...</td>\n",
       "      <td>LIFTBACK MECHANICAL 1.6</td>\n",
       "      <td>механическая</td>\n",
       "      <td>EUROPEAN</td>\n",
       "      <td>1 владелец</td>\n",
       "      <td>NaN</td>\n",
       "      <td>Оригинал</td>\n",
       "      <td>передний</td>\n",
       "      <td>Левый</td>\n",
       "      <td>Не требует ремонта</td>\n",
       "      <td>Растаможен</td>\n",
       "    </tr>\n",
       "    <tr>\n",
       "      <th>2</th>\n",
       "      <td>лифтбек</td>\n",
       "      <td>SKODA</td>\n",
       "      <td>https://auto.ru/cars/used/sale/skoda/superb/11...</td>\n",
       "      <td>серый</td>\n",
       "      <td>{\"id\":\"20026336\",\"name\":\"Ambition\",\"available_...</td>\n",
       "      <td>Все автомобили, представленные в продаже, прох...</td>\n",
       "      <td>1.8 LTR</td>\n",
       "      <td>152 N12</td>\n",
       "      <td>{\"cruise-control\":true,\"tinted-glass\":true,\"es...</td>\n",
       "      <td>бензин</td>\n",
       "      <td>...</td>\n",
       "      <td>LIFTBACK ROBOT 1.8</td>\n",
       "      <td>роботизированная</td>\n",
       "      <td>EUROPEAN</td>\n",
       "      <td>1 владелец</td>\n",
       "      <td>NaN</td>\n",
       "      <td>Оригинал</td>\n",
       "      <td>передний</td>\n",
       "      <td>Левый</td>\n",
       "      <td>Не требует ремонта</td>\n",
       "      <td>Растаможен</td>\n",
       "    </tr>\n",
       "    <tr>\n",
       "      <th>3</th>\n",
       "      <td>лифтбек</td>\n",
       "      <td>SKODA</td>\n",
       "      <td>https://auto.ru/cars/used/sale/skoda/octavia/1...</td>\n",
       "      <td>коричневый</td>\n",
       "      <td>{\"id\":\"20803582\",\"name\":\"Ambition\",\"available_...</td>\n",
       "      <td>КОМПЛЕКТ ЗИМНЕЙ (ЛЕТНЕЙ) РЕЗИНЫ ПО СЕЗОНУ В ПО...</td>\n",
       "      <td>1.6 LTR</td>\n",
       "      <td>110 N12</td>\n",
       "      <td>{\"cruise-control\":true,\"roller-blind-for-rear-...</td>\n",
       "      <td>бензин</td>\n",
       "      <td>...</td>\n",
       "      <td>LIFTBACK AUTOMATIC 1.6</td>\n",
       "      <td>автоматическая</td>\n",
       "      <td>EUROPEAN</td>\n",
       "      <td>1 владелец</td>\n",
       "      <td>NaN</td>\n",
       "      <td>Оригинал</td>\n",
       "      <td>передний</td>\n",
       "      <td>Левый</td>\n",
       "      <td>Не требует ремонта</td>\n",
       "      <td>Растаможен</td>\n",
       "    </tr>\n",
       "    <tr>\n",
       "      <th>4</th>\n",
       "      <td>лифтбек</td>\n",
       "      <td>SKODA</td>\n",
       "      <td>https://auto.ru/cars/used/sale/skoda/octavia/1...</td>\n",
       "      <td>белый</td>\n",
       "      <td>NaN</td>\n",
       "      <td>ЛОТ: 01220889\\nАвтопрага Север\\n\\nВы можете по...</td>\n",
       "      <td>1.8 LTR</td>\n",
       "      <td>152 N12</td>\n",
       "      <td>{\"cruise-control\":true,\"asr\":true,\"esp\":true,\"...</td>\n",
       "      <td>бензин</td>\n",
       "      <td>...</td>\n",
       "      <td>LIFTBACK AUTOMATIC 1.8</td>\n",
       "      <td>автоматическая</td>\n",
       "      <td>EUROPEAN</td>\n",
       "      <td>1 владелец</td>\n",
       "      <td>NaN</td>\n",
       "      <td>Оригинал</td>\n",
       "      <td>передний</td>\n",
       "      <td>Левый</td>\n",
       "      <td>Не требует ремонта</td>\n",
       "      <td>Растаможен</td>\n",
       "    </tr>\n",
       "  </tbody>\n",
       "</table>\n",
       "<p>5 rows × 32 columns</p>\n",
       "</div>"
      ],
      "text/plain": [
       "  bodyType  brand                                            car_url  \\\n",
       "0  лифтбек  SKODA  https://auto.ru/cars/used/sale/skoda/octavia/1...   \n",
       "1  лифтбек  SKODA  https://auto.ru/cars/used/sale/skoda/octavia/1...   \n",
       "2  лифтбек  SKODA  https://auto.ru/cars/used/sale/skoda/superb/11...   \n",
       "3  лифтбек  SKODA  https://auto.ru/cars/used/sale/skoda/octavia/1...   \n",
       "4  лифтбек  SKODA  https://auto.ru/cars/used/sale/skoda/octavia/1...   \n",
       "\n",
       "        color                                 complectation_dict  \\\n",
       "0       синий                                                NaN   \n",
       "1      чёрный                                                NaN   \n",
       "2       серый  {\"id\":\"20026336\",\"name\":\"Ambition\",\"available_...   \n",
       "3  коричневый  {\"id\":\"20803582\",\"name\":\"Ambition\",\"available_...   \n",
       "4       белый                                                NaN   \n",
       "\n",
       "                                         description engineDisplacement  \\\n",
       "0  Все автомобили, представленные в продаже, прох...            1.2 LTR   \n",
       "1  ЛОТ: 01217195\\nАвтопрага Север\\nДанный автомоб...            1.6 LTR   \n",
       "2  Все автомобили, представленные в продаже, прох...            1.8 LTR   \n",
       "3  КОМПЛЕКТ ЗИМНЕЙ (ЛЕТНЕЙ) РЕЗИНЫ ПО СЕЗОНУ В ПО...            1.6 LTR   \n",
       "4  ЛОТ: 01220889\\nАвтопрага Север\\n\\nВы можете по...            1.8 LTR   \n",
       "\n",
       "  enginePower                                     equipment_dict fuelType  \\\n",
       "0     105 N12  {\"engine-proof\":true,\"tinted-glass\":true,\"airb...   бензин   \n",
       "1     110 N12  {\"cruise-control\":true,\"asr\":true,\"esp\":true,\"...   бензин   \n",
       "2     152 N12  {\"cruise-control\":true,\"tinted-glass\":true,\"es...   бензин   \n",
       "3     110 N12  {\"cruise-control\":true,\"roller-blind-for-rear-...   бензин   \n",
       "4     152 N12  {\"cruise-control\":true,\"asr\":true,\"esp\":true,\"...   бензин   \n",
       "\n",
       "   ...     vehicleConfiguration  vehicleTransmission    vendor    Владельцы  \\\n",
       "0  ...       LIFTBACK ROBOT 1.2     роботизированная  EUROPEAN  3 или более   \n",
       "1  ...  LIFTBACK MECHANICAL 1.6         механическая  EUROPEAN   1 владелец   \n",
       "2  ...       LIFTBACK ROBOT 1.8     роботизированная  EUROPEAN   1 владелец   \n",
       "3  ...   LIFTBACK AUTOMATIC 1.6       автоматическая  EUROPEAN   1 владелец   \n",
       "4  ...   LIFTBACK AUTOMATIC 1.8       автоматическая  EUROPEAN   1 владелец   \n",
       "\n",
       "  Владение       ПТС    Привод   Руль           Состояние     Таможня  \n",
       "0      NaN  Оригинал  передний  Левый  Не требует ремонта  Растаможен  \n",
       "1      NaN  Оригинал  передний  Левый  Не требует ремонта  Растаможен  \n",
       "2      NaN  Оригинал  передний  Левый  Не требует ремонта  Растаможен  \n",
       "3      NaN  Оригинал  передний  Левый  Не требует ремонта  Растаможен  \n",
       "4      NaN  Оригинал  передний  Левый  Не требует ремонта  Растаможен  \n",
       "\n",
       "[5 rows x 32 columns]"
      ]
     },
     "execution_count": 12,
     "metadata": {},
     "output_type": "execute_result"
    }
   ],
   "source": [
    "test.head(5)"
   ]
  },
  {
   "cell_type": "code",
   "execution_count": 13,
   "metadata": {
    "scrolled": true
   },
   "outputs": [
    {
     "name": "stdout",
     "output_type": "stream",
     "text": [
      "<class 'pandas.core.frame.DataFrame'>\n",
      "RangeIndex: 34686 entries, 0 to 34685\n",
      "Data columns (total 32 columns):\n",
      " #   Column                Non-Null Count  Dtype \n",
      "---  ------                --------------  ----- \n",
      " 0   bodyType              34686 non-null  object\n",
      " 1   brand                 34686 non-null  object\n",
      " 2   car_url               34686 non-null  object\n",
      " 3   color                 34686 non-null  object\n",
      " 4   complectation_dict    6418 non-null   object\n",
      " 5   description           34686 non-null  object\n",
      " 6   engineDisplacement    34686 non-null  object\n",
      " 7   enginePower           34686 non-null  object\n",
      " 8   equipment_dict        24690 non-null  object\n",
      " 9   fuelType              34686 non-null  object\n",
      " 10  image                 34686 non-null  object\n",
      " 11  mileage               34686 non-null  int64 \n",
      " 12  modelDate             34686 non-null  int64 \n",
      " 13  model_info            34686 non-null  object\n",
      " 14  model_name            34686 non-null  object\n",
      " 15  name                  34686 non-null  object\n",
      " 16  numberOfDoors         34686 non-null  int64 \n",
      " 17  parsing_unixtime      34686 non-null  int64 \n",
      " 18  priceCurrency         34686 non-null  object\n",
      " 19  productionDate        34686 non-null  int64 \n",
      " 20  sell_id               34686 non-null  int64 \n",
      " 21  super_gen             34686 non-null  object\n",
      " 22  vehicleConfiguration  34686 non-null  object\n",
      " 23  vehicleTransmission   34686 non-null  object\n",
      " 24  vendor                34686 non-null  object\n",
      " 25  Владельцы             34686 non-null  object\n",
      " 26  Владение              11995 non-null  object\n",
      " 27  ПТС                   34685 non-null  object\n",
      " 28  Привод                34686 non-null  object\n",
      " 29  Руль                  34686 non-null  object\n",
      " 30  Состояние             34686 non-null  object\n",
      " 31  Таможня               34686 non-null  object\n",
      "dtypes: int64(6), object(26)\n",
      "memory usage: 8.5+ MB\n"
     ]
    }
   ],
   "source": [
    "test.info()"
   ]
  },
  {
   "cell_type": "code",
   "execution_count": 14,
   "metadata": {
    "scrolled": true
   },
   "outputs": [
    {
     "data": {
      "text/plain": [
       "bodyType                    0\n",
       "brand                       0\n",
       "car_url                     0\n",
       "color                       0\n",
       "complectation_dict      28268\n",
       "description                 0\n",
       "engineDisplacement          0\n",
       "enginePower                 0\n",
       "equipment_dict           9996\n",
       "fuelType                    0\n",
       "image                       0\n",
       "mileage                     0\n",
       "modelDate                   0\n",
       "model_info                  0\n",
       "model_name                  0\n",
       "name                        0\n",
       "numberOfDoors               0\n",
       "parsing_unixtime            0\n",
       "priceCurrency               0\n",
       "productionDate              0\n",
       "sell_id                     0\n",
       "super_gen                   0\n",
       "vehicleConfiguration        0\n",
       "vehicleTransmission         0\n",
       "vendor                      0\n",
       "Владельцы                   0\n",
       "Владение                22691\n",
       "ПТС                         1\n",
       "Привод                      0\n",
       "Руль                        0\n",
       "Состояние                   0\n",
       "Таможня                     0\n",
       "dtype: int64"
      ]
     },
     "execution_count": 14,
     "metadata": {},
     "output_type": "execute_result"
    }
   ],
   "source": [
    "test.isna().sum()"
   ]
  },
  {
   "cell_type": "markdown",
   "metadata": {},
   "source": [
    "## Data Preprocessing"
   ]
  },
  {
   "cell_type": "code",
   "execution_count": 15,
   "metadata": {},
   "outputs": [],
   "source": [
    "train.dropna(subset=['year','mileage'], inplace=True)\n",
    "train.dropna(subset=['price'], inplace=True)\n",
    "train.dropna(subset=['body_type','engine_volume','engine_power','fuel_type','transmission','owners_count', 'pts', 'drive'], inplace=True)"
   ]
  },
  {
   "cell_type": "code",
   "execution_count": 16,
   "metadata": {},
   "outputs": [],
   "source": [
    "test['engineDisplacement'] = test['engineDisplacement'].apply(lambda x: float(x.split()[0]) if x!=' LTR' else 0)\n",
    "test['enginePower'] = test['enginePower'].apply(lambda x: float(x.split()[0]))\n",
    "test['productionDate'] = test['productionDate'].astype(int)\n",
    "test = test.rename(columns={'ПТС': 'pts',\n",
    "                                  'Таможня': 'customs',\n",
    "                                  'Состояние': 'state',\n",
    "                                  'Руль': 'wheel',\n",
    "                                  'Привод': 'drive',\n",
    "                                  'Владельцы': 'owners_count',\n",
    "                                  'engineDisplacement': 'engine_volume',\n",
    "                                  'fuelType': 'fuel_type',\n",
    "                                  'enginePower': 'engine_power',\n",
    "                                  'productionDate': 'year',\n",
    "                                  'vehicleTransmission': 'transmission',\n",
    "                                  'brand': 'model',\n",
    "                                  'bodyType': 'body_type'\n",
    "                                 \n",
    "                                 })"
   ]
  },
  {
   "cell_type": "code",
   "execution_count": 17,
   "metadata": {},
   "outputs": [],
   "source": [
    "#columns = ['bodyType', 'brand', 'productionDate', 'engineDisplacement', 'mileage']\n",
    "columns = ['body_type',\n",
    "           'model',\n",
    "           'color',\n",
    "           'engine_volume',\n",
    "           'engine_power',\n",
    "           'fuel_type',\n",
    "           'mileage',\n",
    "           'year',\n",
    "           'transmission',\n",
    "           'owners_count',\n",
    "           'pts',\n",
    "           'drive',\n",
    "           'wheel',\n",
    "           'state',\n",
    "           'customs',\n",
    "           'price'\n",
    "          ]\n",
    "\n",
    "df_train = train[columns]\n",
    "test['price'] = 0 \n",
    "df_test = test[columns]"
   ]
  },
  {
   "cell_type": "markdown",
   "metadata": {},
   "source": [
    "### Label Encoding"
   ]
  },
  {
   "cell_type": "code",
   "execution_count": 18,
   "metadata": {
    "scrolled": true
   },
   "outputs": [
    {
     "name": "stderr",
     "output_type": "stream",
     "text": [
      "<ipython-input-18-48ac77de6ba5>:2: SettingWithCopyWarning: \n",
      "A value is trying to be set on a copy of a slice from a DataFrame.\n",
      "Try using .loc[row_indexer,col_indexer] = value instead\n",
      "\n",
      "See the caveats in the documentation: https://pandas.pydata.org/pandas-docs/stable/user_guide/indexing.html#returning-a-view-versus-a-copy\n",
      "  df_train['sample'] = 1 # помечаем где у нас трейн\n",
      "<ipython-input-18-48ac77de6ba5>:3: SettingWithCopyWarning: \n",
      "A value is trying to be set on a copy of a slice from a DataFrame.\n",
      "Try using .loc[row_indexer,col_indexer] = value instead\n",
      "\n",
      "See the caveats in the documentation: https://pandas.pydata.org/pandas-docs/stable/user_guide/indexing.html#returning-a-view-versus-a-copy\n",
      "  df_test['sample'] = 0 # помечаем где у нас тест\n"
     ]
    }
   ],
   "source": [
    "# ВАЖНО! дря корректной обработки признаков объединяем трейн и тест в один датасет\n",
    "df_train['sample'] = 1 # помечаем где у нас трейн\n",
    "df_test['sample'] = 0 # помечаем где у нас тест\n",
    "\n",
    "data = df_test.append(df_train, sort=False).reset_index(drop=True) # объединяем"
   ]
  },
  {
   "cell_type": "code",
   "execution_count": 19,
   "metadata": {
    "scrolled": true
   },
   "outputs": [
    {
     "data": {
      "text/html": [
       "<div>\n",
       "<style scoped>\n",
       "    .dataframe tbody tr th:only-of-type {\n",
       "        vertical-align: middle;\n",
       "    }\n",
       "\n",
       "    .dataframe tbody tr th {\n",
       "        vertical-align: top;\n",
       "    }\n",
       "\n",
       "    .dataframe thead th {\n",
       "        text-align: right;\n",
       "    }\n",
       "</style>\n",
       "<table border=\"1\" class=\"dataframe\">\n",
       "  <thead>\n",
       "    <tr style=\"text-align: right;\">\n",
       "      <th></th>\n",
       "      <th>body_type</th>\n",
       "      <th>model</th>\n",
       "      <th>color</th>\n",
       "      <th>engine_volume</th>\n",
       "      <th>engine_power</th>\n",
       "      <th>fuel_type</th>\n",
       "      <th>mileage</th>\n",
       "      <th>year</th>\n",
       "      <th>transmission</th>\n",
       "      <th>owners_count</th>\n",
       "      <th>pts</th>\n",
       "      <th>drive</th>\n",
       "      <th>wheel</th>\n",
       "      <th>state</th>\n",
       "      <th>customs</th>\n",
       "      <th>price</th>\n",
       "      <th>sample</th>\n",
       "    </tr>\n",
       "  </thead>\n",
       "  <tbody>\n",
       "    <tr>\n",
       "      <th>0</th>\n",
       "      <td>лифтбек</td>\n",
       "      <td>SKODA</td>\n",
       "      <td>синий</td>\n",
       "      <td>1.2</td>\n",
       "      <td>105</td>\n",
       "      <td>бензин</td>\n",
       "      <td>74000</td>\n",
       "      <td>2014</td>\n",
       "      <td>роботизированная</td>\n",
       "      <td>3 или более</td>\n",
       "      <td>Оригинал</td>\n",
       "      <td>передний</td>\n",
       "      <td>Левый</td>\n",
       "      <td>Не требует ремонта</td>\n",
       "      <td>Растаможен</td>\n",
       "      <td>0</td>\n",
       "      <td>0</td>\n",
       "    </tr>\n",
       "    <tr>\n",
       "      <th>1</th>\n",
       "      <td>лифтбек</td>\n",
       "      <td>SKODA</td>\n",
       "      <td>чёрный</td>\n",
       "      <td>1.6</td>\n",
       "      <td>110</td>\n",
       "      <td>бензин</td>\n",
       "      <td>60563</td>\n",
       "      <td>2017</td>\n",
       "      <td>механическая</td>\n",
       "      <td>1 владелец</td>\n",
       "      <td>Оригинал</td>\n",
       "      <td>передний</td>\n",
       "      <td>Левый</td>\n",
       "      <td>Не требует ремонта</td>\n",
       "      <td>Растаможен</td>\n",
       "      <td>0</td>\n",
       "      <td>0</td>\n",
       "    </tr>\n",
       "    <tr>\n",
       "      <th>2</th>\n",
       "      <td>лифтбек</td>\n",
       "      <td>SKODA</td>\n",
       "      <td>серый</td>\n",
       "      <td>1.8</td>\n",
       "      <td>152</td>\n",
       "      <td>бензин</td>\n",
       "      <td>88000</td>\n",
       "      <td>2014</td>\n",
       "      <td>роботизированная</td>\n",
       "      <td>1 владелец</td>\n",
       "      <td>Оригинал</td>\n",
       "      <td>передний</td>\n",
       "      <td>Левый</td>\n",
       "      <td>Не требует ремонта</td>\n",
       "      <td>Растаможен</td>\n",
       "      <td>0</td>\n",
       "      <td>0</td>\n",
       "    </tr>\n",
       "    <tr>\n",
       "      <th>3</th>\n",
       "      <td>лифтбек</td>\n",
       "      <td>SKODA</td>\n",
       "      <td>коричневый</td>\n",
       "      <td>1.6</td>\n",
       "      <td>110</td>\n",
       "      <td>бензин</td>\n",
       "      <td>95000</td>\n",
       "      <td>2014</td>\n",
       "      <td>автоматическая</td>\n",
       "      <td>1 владелец</td>\n",
       "      <td>Оригинал</td>\n",
       "      <td>передний</td>\n",
       "      <td>Левый</td>\n",
       "      <td>Не требует ремонта</td>\n",
       "      <td>Растаможен</td>\n",
       "      <td>0</td>\n",
       "      <td>0</td>\n",
       "    </tr>\n",
       "    <tr>\n",
       "      <th>4</th>\n",
       "      <td>лифтбек</td>\n",
       "      <td>SKODA</td>\n",
       "      <td>белый</td>\n",
       "      <td>1.8</td>\n",
       "      <td>152</td>\n",
       "      <td>бензин</td>\n",
       "      <td>58536</td>\n",
       "      <td>2012</td>\n",
       "      <td>автоматическая</td>\n",
       "      <td>1 владелец</td>\n",
       "      <td>Оригинал</td>\n",
       "      <td>передний</td>\n",
       "      <td>Левый</td>\n",
       "      <td>Не требует ремонта</td>\n",
       "      <td>Растаможен</td>\n",
       "      <td>0</td>\n",
       "      <td>0</td>\n",
       "    </tr>\n",
       "    <tr>\n",
       "      <th>...</th>\n",
       "      <td>...</td>\n",
       "      <td>...</td>\n",
       "      <td>...</td>\n",
       "      <td>...</td>\n",
       "      <td>...</td>\n",
       "      <td>...</td>\n",
       "      <td>...</td>\n",
       "      <td>...</td>\n",
       "      <td>...</td>\n",
       "      <td>...</td>\n",
       "      <td>...</td>\n",
       "      <td>...</td>\n",
       "      <td>...</td>\n",
       "      <td>...</td>\n",
       "      <td>...</td>\n",
       "      <td>...</td>\n",
       "      <td>...</td>\n",
       "    </tr>\n",
       "    <tr>\n",
       "      <th>562633</th>\n",
       "      <td>компактвэн</td>\n",
       "      <td>Citroen</td>\n",
       "      <td>зелёный</td>\n",
       "      <td>1.6</td>\n",
       "      <td>120</td>\n",
       "      <td>Бензин</td>\n",
       "      <td>280343</td>\n",
       "      <td>2011</td>\n",
       "      <td>механическая</td>\n",
       "      <td>3</td>\n",
       "      <td>Оригинал</td>\n",
       "      <td>передний</td>\n",
       "      <td>Левый</td>\n",
       "      <td>Не требует ремонта</td>\n",
       "      <td>Растаможен</td>\n",
       "      <td>500000</td>\n",
       "      <td>1</td>\n",
       "    </tr>\n",
       "    <tr>\n",
       "      <th>562634</th>\n",
       "      <td>внедорожник 3 дв.</td>\n",
       "      <td>LADA (ВАЗ)</td>\n",
       "      <td>зелёный</td>\n",
       "      <td>1.7</td>\n",
       "      <td>79</td>\n",
       "      <td>Бензин</td>\n",
       "      <td>184000</td>\n",
       "      <td>2008</td>\n",
       "      <td>механическая</td>\n",
       "      <td>2</td>\n",
       "      <td>Оригинал</td>\n",
       "      <td>полный</td>\n",
       "      <td>Левый</td>\n",
       "      <td>Не требует ремонта</td>\n",
       "      <td>Растаможен</td>\n",
       "      <td>164000</td>\n",
       "      <td>1</td>\n",
       "    </tr>\n",
       "    <tr>\n",
       "      <th>562635</th>\n",
       "      <td>внедорожник 5 дв.</td>\n",
       "      <td>Volkswagen</td>\n",
       "      <td>белый</td>\n",
       "      <td>2</td>\n",
       "      <td>170</td>\n",
       "      <td>Бензин</td>\n",
       "      <td>193000</td>\n",
       "      <td>2013</td>\n",
       "      <td>автоматическая</td>\n",
       "      <td>2</td>\n",
       "      <td>Оригинал</td>\n",
       "      <td>полный</td>\n",
       "      <td>Левый</td>\n",
       "      <td>Не требует ремонта</td>\n",
       "      <td>Растаможен</td>\n",
       "      <td>1.04e+06</td>\n",
       "      <td>1</td>\n",
       "    </tr>\n",
       "    <tr>\n",
       "      <th>562636</th>\n",
       "      <td>седан</td>\n",
       "      <td>Genesis</td>\n",
       "      <td>белый</td>\n",
       "      <td>3.3</td>\n",
       "      <td>370</td>\n",
       "      <td>Бензин</td>\n",
       "      <td>149696</td>\n",
       "      <td>2017</td>\n",
       "      <td>автоматическая</td>\n",
       "      <td>3</td>\n",
       "      <td>Оригинал</td>\n",
       "      <td>полный</td>\n",
       "      <td>Левый</td>\n",
       "      <td>Не требует ремонта</td>\n",
       "      <td>Растаможен</td>\n",
       "      <td>2.19e+06</td>\n",
       "      <td>1</td>\n",
       "    </tr>\n",
       "    <tr>\n",
       "      <th>562637</th>\n",
       "      <td>внедорожник 5 дв.</td>\n",
       "      <td>Skoda</td>\n",
       "      <td>коричневый</td>\n",
       "      <td>1.8</td>\n",
       "      <td>152</td>\n",
       "      <td>Бензин</td>\n",
       "      <td>67000</td>\n",
       "      <td>2014</td>\n",
       "      <td>роботизированная</td>\n",
       "      <td>3</td>\n",
       "      <td>Оригинал</td>\n",
       "      <td>полный</td>\n",
       "      <td>Левый</td>\n",
       "      <td>Не требует ремонта</td>\n",
       "      <td>Растаможен</td>\n",
       "      <td>999000</td>\n",
       "      <td>1</td>\n",
       "    </tr>\n",
       "  </tbody>\n",
       "</table>\n",
       "<p>562638 rows × 17 columns</p>\n",
       "</div>"
      ],
      "text/plain": [
       "                body_type       model       color engine_volume engine_power  \\\n",
       "0                 лифтбек       SKODA       синий           1.2          105   \n",
       "1                 лифтбек       SKODA      чёрный           1.6          110   \n",
       "2                 лифтбек       SKODA       серый           1.8          152   \n",
       "3                 лифтбек       SKODA  коричневый           1.6          110   \n",
       "4                 лифтбек       SKODA       белый           1.8          152   \n",
       "...                   ...         ...         ...           ...          ...   \n",
       "562633         компактвэн     Citroen     зелёный           1.6          120   \n",
       "562634  внедорожник 3 дв.  LADA (ВАЗ)     зелёный           1.7           79   \n",
       "562635  внедорожник 5 дв.  Volkswagen       белый             2          170   \n",
       "562636              седан     Genesis       белый           3.3          370   \n",
       "562637  внедорожник 5 дв.       Skoda  коричневый           1.8          152   \n",
       "\n",
       "       fuel_type mileage  year      transmission owners_count       pts  \\\n",
       "0         бензин   74000  2014  роботизированная  3 или более  Оригинал   \n",
       "1         бензин   60563  2017      механическая   1 владелец  Оригинал   \n",
       "2         бензин   88000  2014  роботизированная   1 владелец  Оригинал   \n",
       "3         бензин   95000  2014    автоматическая   1 владелец  Оригинал   \n",
       "4         бензин   58536  2012    автоматическая   1 владелец  Оригинал   \n",
       "...          ...     ...   ...               ...          ...       ...   \n",
       "562633    Бензин  280343  2011      механическая            3  Оригинал   \n",
       "562634    Бензин  184000  2008      механическая            2  Оригинал   \n",
       "562635    Бензин  193000  2013    автоматическая            2  Оригинал   \n",
       "562636    Бензин  149696  2017    автоматическая            3  Оригинал   \n",
       "562637    Бензин   67000  2014  роботизированная            3  Оригинал   \n",
       "\n",
       "           drive  wheel               state     customs     price  sample  \n",
       "0       передний  Левый  Не требует ремонта  Растаможен         0       0  \n",
       "1       передний  Левый  Не требует ремонта  Растаможен         0       0  \n",
       "2       передний  Левый  Не требует ремонта  Растаможен         0       0  \n",
       "3       передний  Левый  Не требует ремонта  Растаможен         0       0  \n",
       "4       передний  Левый  Не требует ремонта  Растаможен         0       0  \n",
       "...          ...    ...                 ...         ...       ...     ...  \n",
       "562633  передний  Левый  Не требует ремонта  Растаможен    500000       1  \n",
       "562634    полный  Левый  Не требует ремонта  Растаможен    164000       1  \n",
       "562635    полный  Левый  Не требует ремонта  Растаможен  1.04e+06       1  \n",
       "562636    полный  Левый  Не требует ремонта  Растаможен  2.19e+06       1  \n",
       "562637    полный  Левый  Не требует ремонта  Растаможен    999000       1  \n",
       "\n",
       "[562638 rows x 17 columns]"
      ]
     },
     "execution_count": 19,
     "metadata": {},
     "output_type": "execute_result"
    }
   ],
   "source": [
    "data"
   ]
  },
  {
   "cell_type": "code",
   "execution_count": 20,
   "metadata": {
    "scrolled": true
   },
   "outputs": [
    {
     "data": {
      "text/plain": [
       "array(['skoda', 'audi', 'honda', 'volvo', 'bmw', 'nissan', 'infiniti',\n",
       "       'mercedes', 'toyota', 'lexus', 'volkswagen', 'mitsubishi', 'jeep',\n",
       "       'lada (ваз)', 'hyundai', 'renault', 'kia', 'suzuki', 'chevrolet',\n",
       "       'peugeot', 'ford', 'газ', 'opel', 'mazda', 'заз', 'dodge',\n",
       "       'porsche', 'уаз', 'great wall', 'subaru', 'citroen', 'москвич',\n",
       "       'ferrari', 'chery', 'cadillac', 'lifan', 'datsun', 'daewoo',\n",
       "       'mini', 'geely', 'land rover', 'rover', 'plymouth', 'ssangyong',\n",
       "       'tata', 'иж', 'ravon', 'isuzu', 'daihatsu', 'gmc', 'fiat', 'jac',\n",
       "       'lincoln', 'saab', 'bentley', 'tesla', 'genesis', 'huanghai',\n",
       "       'chrysler', 'jaguar', 'changan', 'tianye', 'brilliance', 'haval',\n",
       "       'seat', 'pontiac', 'луаз', 'hafei', 'smart', 'byd', 'acura',\n",
       "       'zotye', 'maybach', 'alfa romeo', 'saturn', 'тагаз', 'trabant',\n",
       "       'ram', 'vortex', 'mercury', 'xpeng', 'hummer', 'lamborghini',\n",
       "       'haima', 'derways', 'rolls-royce', 'baic', 'lancia', 'dacia',\n",
       "       'buick', 'faw', 'спортивные авто и реплики', 'wanderer',\n",
       "       'changfeng', 'maserati', 'shanghai maple', 'iran khodro',\n",
       "       'shuanghuan', 'oldsmobile', 'ds', 'hawtai', 'foton', 'aro',\n",
       "       'marussia', 'scion', 'zx', 'mg', 'wartburg', 'puch', 'смз',\n",
       "       'proton', 'willys', 'doninvest', 'зис', 'fisker', 'mclaren',\n",
       "       'auburn', 'aston martin', 'зил', 'borgward', 'geo', 'dkw',\n",
       "       'alpina', 'dw hower', 'adler', 'triumph', 'dongfeng', 'mahindra',\n",
       "       'jinbei', 'renault samsung', 'tatra', 'ac', 'tianma', 'packard',\n",
       "       'model', 'lotus', 'luxgen', 'xin kai', 'asia', 'chana', 'zibar',\n",
       "       'gac', 'mitsuoka', 'fso', 'dadi', 'amc', 'комбат', 'cheryexeed',\n",
       "       'tofas', 'landwind', 'bugatti', 'ariel', 'excalibur', 'simca',\n",
       "       'eagle', 'hudson', 'metrocab', 'yulon', 'канонир', 'hanomag',\n",
       "       'vauxhall', 'ligier'], dtype=object)"
      ]
     },
     "execution_count": 20,
     "metadata": {},
     "output_type": "execute_result"
    }
   ],
   "source": [
    "data['model'] = data['model'].str.lower()\n",
    "data['model'] = data.model.apply(lambda x: 'mercedes' if x == 'mercedes-benz' else x)\n",
    "data.model.unique()"
   ]
  },
  {
   "cell_type": "code",
   "execution_count": 21,
   "metadata": {},
   "outputs": [],
   "source": [
    "data = data.loc[data['model'] != 'model']"
   ]
  },
  {
   "cell_type": "code",
   "execution_count": 22,
   "metadata": {
    "scrolled": true
   },
   "outputs": [
    {
     "name": "stderr",
     "output_type": "stream",
     "text": [
      "<ipython-input-22-32f10917d96a>:1: SettingWithCopyWarning: \n",
      "A value is trying to be set on a copy of a slice from a DataFrame.\n",
      "Try using .loc[row_indexer,col_indexer] = value instead\n",
      "\n",
      "See the caveats in the documentation: https://pandas.pydata.org/pandas-docs/stable/user_guide/indexing.html#returning-a-view-versus-a-copy\n",
      "  data['fuel_type'] = data['fuel_type'].str.lower()\n",
      "<ipython-input-22-32f10917d96a>:2: SettingWithCopyWarning: \n",
      "A value is trying to be set on a copy of a slice from a DataFrame.\n",
      "Try using .loc[row_indexer,col_indexer] = value instead\n",
      "\n",
      "See the caveats in the documentation: https://pandas.pydata.org/pandas-docs/stable/user_guide/indexing.html#returning-a-view-versus-a-copy\n",
      "  data['gas'] = data.fuel_type.apply(lambda x: '1' if x in 'газ, газобаллонное оборудование' else 0)\n",
      "<ipython-input-22-32f10917d96a>:3: SettingWithCopyWarning: \n",
      "A value is trying to be set on a copy of a slice from a DataFrame.\n",
      "Try using .loc[row_indexer,col_indexer] = value instead\n",
      "\n",
      "See the caveats in the documentation: https://pandas.pydata.org/pandas-docs/stable/user_guide/indexing.html#returning-a-view-versus-a-copy\n",
      "  data['fuel_type'] = data.fuel_type.apply(lambda x: 'газ' if x == 'газ, газобаллонное оборудование' else x)\n",
      "<ipython-input-22-32f10917d96a>:4: SettingWithCopyWarning: \n",
      "A value is trying to be set on a copy of a slice from a DataFrame.\n",
      "Try using .loc[row_indexer,col_indexer] = value instead\n",
      "\n",
      "See the caveats in the documentation: https://pandas.pydata.org/pandas-docs/stable/user_guide/indexing.html#returning-a-view-versus-a-copy\n",
      "  data['fuel_type'] = data.fuel_type.apply(lambda x: 'бензин' if 'бензин' in x else x)\n",
      "<ipython-input-22-32f10917d96a>:5: SettingWithCopyWarning: \n",
      "A value is trying to be set on a copy of a slice from a DataFrame.\n",
      "Try using .loc[row_indexer,col_indexer] = value instead\n",
      "\n",
      "See the caveats in the documentation: https://pandas.pydata.org/pandas-docs/stable/user_guide/indexing.html#returning-a-view-versus-a-copy\n",
      "  data['fuel_type'] = data.fuel_type.apply(lambda x: 'дизель' if 'дизель' in x else x)\n",
      "<ipython-input-22-32f10917d96a>:6: SettingWithCopyWarning: \n",
      "A value is trying to be set on a copy of a slice from a DataFrame.\n",
      "Try using .loc[row_indexer,col_indexer] = value instead\n",
      "\n",
      "See the caveats in the documentation: https://pandas.pydata.org/pandas-docs/stable/user_guide/indexing.html#returning-a-view-versus-a-copy\n",
      "  data['fuel_type'] = data.fuel_type.apply(lambda x: 'гибрид' if 'гибрид' in x else x)\n"
     ]
    },
    {
     "data": {
      "text/plain": [
       "array(['бензин', 'дизель', 'гибрид', 'электро', 'газ'], dtype=object)"
      ]
     },
     "execution_count": 22,
     "metadata": {},
     "output_type": "execute_result"
    }
   ],
   "source": [
    "data['fuel_type'] = data['fuel_type'].str.lower()\n",
    "data['gas'] = data.fuel_type.apply(lambda x: '1' if x in 'газ, газобаллонное оборудование' else 0)\n",
    "data['fuel_type'] = data.fuel_type.apply(lambda x: 'газ' if x == 'газ, газобаллонное оборудование' else x)\n",
    "data['fuel_type'] = data.fuel_type.apply(lambda x: 'бензин' if 'бензин' in x else x)\n",
    "data['fuel_type'] = data.fuel_type.apply(lambda x: 'дизель' if 'дизель' in x else x)\n",
    "data['fuel_type'] = data.fuel_type.apply(lambda x: 'гибрид' if 'гибрид' in x else x)\n",
    "data.fuel_type.unique()"
   ]
  },
  {
   "cell_type": "code",
   "execution_count": 23,
   "metadata": {
    "scrolled": true
   },
   "outputs": [
    {
     "data": {
      "text/plain": [
       "array(['3 или более', '1\\xa0владелец', '2\\xa0владельца', 3.0, 2.0, 1.0,\n",
       "       '2', '1', '3'], dtype=object)"
      ]
     },
     "execution_count": 23,
     "metadata": {},
     "output_type": "execute_result"
    }
   ],
   "source": [
    "data.owners_count.unique()"
   ]
  },
  {
   "cell_type": "code",
   "execution_count": 24,
   "metadata": {
    "scrolled": false
   },
   "outputs": [
    {
     "name": "stderr",
     "output_type": "stream",
     "text": [
      "<ipython-input-24-7bbbdbae7c0a>:1: SettingWithCopyWarning: \n",
      "A value is trying to be set on a copy of a slice from a DataFrame.\n",
      "Try using .loc[row_indexer,col_indexer] = value instead\n",
      "\n",
      "See the caveats in the documentation: https://pandas.pydata.org/pandas-docs/stable/user_guide/indexing.html#returning-a-view-versus-a-copy\n",
      "  data['owners_count'] = data['owners_count'].map({'3 или более':4,\n"
     ]
    },
    {
     "data": {
      "text/plain": [
       "array([4, 1, 2, 3], dtype=int64)"
      ]
     },
     "execution_count": 24,
     "metadata": {},
     "output_type": "execute_result"
    }
   ],
   "source": [
    "data['owners_count'] = data['owners_count'].map({'3 или более':4,\n",
    "                                                 '2\\xa0владельца':2,\n",
    "                                                 '1\\xa0владелец':1,\n",
    "                                                 '2':2,\n",
    "                                                 '1':1,\n",
    "                                                 '3':3,\n",
    "                                                 '2.0':2,\n",
    "                                                 '1.0':1,\n",
    "                                                 '3.0':3,\n",
    "                                                 2.0:2,\n",
    "                                                 1.0:1,\n",
    "                                                 3.0:3\n",
    "                                                })\n",
    "data.owners_count.unique()"
   ]
  },
  {
   "cell_type": "code",
   "execution_count": 25,
   "metadata": {},
   "outputs": [
    {
     "data": {
      "text/plain": [
       "array(['Оригинал', 'Дубликат', nan], dtype=object)"
      ]
     },
     "execution_count": 25,
     "metadata": {},
     "output_type": "execute_result"
    }
   ],
   "source": [
    "data.pts.unique()"
   ]
  },
  {
   "cell_type": "code",
   "execution_count": 26,
   "metadata": {},
   "outputs": [
    {
     "data": {
      "text/plain": [
       "1"
      ]
     },
     "execution_count": 26,
     "metadata": {},
     "output_type": "execute_result"
    }
   ],
   "source": [
    "data.pts.isna().sum()"
   ]
  },
  {
   "cell_type": "code",
   "execution_count": 27,
   "metadata": {
    "scrolled": true
   },
   "outputs": [
    {
     "name": "stderr",
     "output_type": "stream",
     "text": [
      "<ipython-input-27-a12e24da483f>:1: SettingWithCopyWarning: \n",
      "A value is trying to be set on a copy of a slice from a DataFrame\n",
      "\n",
      "See the caveats in the documentation: https://pandas.pydata.org/pandas-docs/stable/user_guide/indexing.html#returning-a-view-versus-a-copy\n",
      "  data.dropna(subset=['engine_power'], inplace=True)\n"
     ]
    }
   ],
   "source": [
    "data.dropna(subset=['engine_power'], inplace=True)"
   ]
  },
  {
   "cell_type": "code",
   "execution_count": 28,
   "metadata": {},
   "outputs": [
    {
     "data": {
      "text/plain": [
       "array(['Растаможен', 'Не растаможен'], dtype=object)"
      ]
     },
     "execution_count": 28,
     "metadata": {},
     "output_type": "execute_result"
    }
   ],
   "source": [
    "data.customs.unique()"
   ]
  },
  {
   "cell_type": "code",
   "execution_count": 29,
   "metadata": {
    "scrolled": true
   },
   "outputs": [
    {
     "name": "stdout",
     "output_type": "stream",
     "text": [
      "\n",
      "Ключевые признаки:  ['price']\n",
      "\n",
      "Признаки даты или времени:  []\n",
      "\n",
      "Категориальные признаки:  ['body_type', 'model', 'color', 'engine_volume', 'engine_power', 'fuel_type', 'mileage', 'year', 'transmission', 'pts', 'drive', 'wheel', 'state', 'customs', 'gas']\n",
      "\n",
      "Бинарные признаки:  ['sample']\n",
      "\n",
      "Количественные признаки:  ['owners_count']\n",
      "\n",
      "Признаки-счетчики:  []\n",
      "\n",
      "В датасете: строк -  562637 колонок -  18\n"
     ]
    }
   ],
   "source": [
    "def sort_features(df_raw, target_cols, time_cols, num_cols, bin_cols, cat_cols, count_col):\n",
    "    for col in df_raw.columns:\n",
    "        if col in target_cols or col in time_cols or col in num_cols\\\n",
    "            or col in bin_cols or col in cat_cols or col in count_col:\n",
    "            continue\n",
    "        elif len(df_raw[col].value_counts()) == 1:\n",
    "                df_raw.drop(columns=[col], inplace=True)\n",
    "        elif at.is_datetime64_any_dtype(df_raw[col]):\n",
    "            time_cols.append(col)\n",
    "        elif at.is_numeric_dtype(df_raw[col]):\n",
    "            if len(df_raw[col].value_counts()) == 2:\n",
    "                bin_cols.append(col)\n",
    "            else: num_cols.append(col)\n",
    "        elif at.is_string_dtype(df_raw[col]):\n",
    "            cat_cols.append(col)\n",
    "        else: print(f'Столбец {col} не был причислен ни к одной категории\\n'+'_'*50)\n",
    "\n",
    "    print_cols_lists(df_raw, target_cols, time_cols, num_cols, bin_cols, cat_cols, count_col)\n",
    "\n",
    "    return target_cols, time_cols, num_cols, bin_cols, cat_cols, count_col\n",
    "\n",
    "def print_cols_lists(df, target_cols, time_cols, num_cols, bin_cols, cat_cols, count_col):\n",
    "    print('\\nКлючевые признаки: ', target_cols)    \n",
    "    print('\\nПризнаки даты или времени: ', time_cols)    \n",
    "    print('\\nКатегориальные признаки: ', cat_cols)    \n",
    "    print('\\nБинарные признаки: ', bin_cols)    \n",
    "    print('\\nКоличественные признаки: ', num_cols)    \n",
    "    print('\\nПризнаки-счетчики: ', count_col)    \n",
    "\n",
    "    print('\\nВ датасете: строк - ', len(df), 'колонок - ', len(df.columns))\n",
    "\n",
    "\n",
    "target_cols = ['price']\n",
    "num_cols, bin_cols, cat_cols, time_cols, count_col = [], [], [], [], []\n",
    "\n",
    "target_cols,time_cols,num_cols,bin_cols,cat_cols,count_col = sort_features(data\n",
    "                                                                           ,target_cols,time_cols\n",
    "                                                                           ,num_cols,bin_cols\n",
    "                                                                           ,cat_cols,count_col)"
   ]
  },
  {
   "cell_type": "code",
   "execution_count": 30,
   "metadata": {},
   "outputs": [
    {
     "name": "stdout",
     "output_type": "stream",
     "text": [
      "Numeric column: body_type\n",
      "Numeric column: model\n",
      "Numeric column: color\n",
      "Numeric column: engine_volume\n",
      "Numeric column: engine_power\n",
      "Numeric column: fuel_type\n",
      "Numeric column: mileage\n",
      "Numeric column: year\n",
      "Numeric column: transmission\n",
      "Unique values in colum owners_count : [4 1 2 3]\n",
      "Numeric column: pts\n",
      "Numeric column: drive\n",
      "Numeric column: wheel\n",
      "Numeric column: state\n",
      "Numeric column: customs\n",
      "Numeric column: price\n",
      "Unique values in colum sample : [0 1]\n",
      "Numeric column: gas\n"
     ]
    }
   ],
   "source": [
    "numeric_columns = []\n",
    "for col in data.columns:\n",
    "    if data[col].dtype != 'object' and len(data[col].unique())<=10:\n",
    "        print('Unique values in colum {0} : {1}'.format(col,data[col].unique()))\n",
    "    else:\n",
    "        print('Numeric column: {}'.format(col))\n",
    "        numeric_columns.append(col)"
   ]
  },
  {
   "cell_type": "code",
   "execution_count": 31,
   "metadata": {
    "scrolled": true
   },
   "outputs": [
    {
     "name": "stderr",
     "output_type": "stream",
     "text": [
      "<ipython-input-5-8d51917b2889>:25: SettingWithCopyWarning: \n",
      "A value is trying to be set on a copy of a slice from a DataFrame.\n",
      "Try using .loc[row_indexer,col_indexer] = value instead\n",
      "\n",
      "See the caveats in the documentation: https://pandas.pydata.org/pandas-docs/stable/user_guide/indexing.html#returning-a-view-versus-a-copy\n",
      "  self.data[column] = le.fit_transform(self.data[column])\n"
     ]
    }
   ],
   "source": [
    "encoder = Preprocessing(data)\n",
    "for i in list(['wheel', 'state', 'customs', 'sample']):\n",
    "    encoder.label_encoder(i)"
   ]
  },
  {
   "cell_type": "code",
   "execution_count": 34,
   "metadata": {
    "scrolled": true
   },
   "outputs": [
    {
     "name": "stderr",
     "output_type": "stream",
     "text": [
      "<ipython-input-34-22bc89f50e75>:2: SettingWithCopyWarning: \n",
      "A value is trying to be set on a copy of a slice from a DataFrame.\n",
      "Try using .loc[row_indexer,col_indexer] = value instead\n",
      "\n",
      "See the caveats in the documentation: https://pandas.pydata.org/pandas-docs/stable/user_guide/indexing.html#returning-a-view-versus-a-copy\n",
      "  data[colum] = data[colum].astype('category').cat.codes\n",
      "<ipython-input-34-22bc89f50e75>:3: SettingWithCopyWarning: \n",
      "A value is trying to be set on a copy of a slice from a DataFrame.\n",
      "Try using .loc[row_indexer,col_indexer] = value instead\n",
      "\n",
      "See the caveats in the documentation: https://pandas.pydata.org/pandas-docs/stable/user_guide/indexing.html#returning-a-view-versus-a-copy\n",
      "  data['engine_power'] = pd.to_numeric(data['engine_power'], errors='coerce')\n",
      "<ipython-input-34-22bc89f50e75>:4: SettingWithCopyWarning: \n",
      "A value is trying to be set on a copy of a slice from a DataFrame.\n",
      "Try using .loc[row_indexer,col_indexer] = value instead\n",
      "\n",
      "See the caveats in the documentation: https://pandas.pydata.org/pandas-docs/stable/user_guide/indexing.html#returning-a-view-versus-a-copy\n",
      "  data['price'] = pd.to_numeric(data['price'], errors='coerce')\n",
      "<ipython-input-34-22bc89f50e75>:5: SettingWithCopyWarning: \n",
      "A value is trying to be set on a copy of a slice from a DataFrame\n",
      "\n",
      "See the caveats in the documentation: https://pandas.pydata.org/pandas-docs/stable/user_guide/indexing.html#returning-a-view-versus-a-copy\n",
      "  data.dropna(subset=['engine_power'], inplace=True)\n"
     ]
    }
   ],
   "source": [
    "for colum in ['body_type', 'model', 'color', 'fuel_type', 'transmission', 'pts', 'drive', 'wheel', 'state', 'customs', 'owners_count']:\n",
    "    data[colum] = data[colum].astype('category').cat.codes\n",
    "data['engine_power'] = pd.to_numeric(data['engine_power'], errors='coerce')\n",
    "data['price'] = pd.to_numeric(data['price'], errors='coerce')\n",
    "data.dropna(subset=['engine_power'], inplace=True)\n",
    "y = data.query('sample == 1')['price']"
   ]
  },
  {
   "cell_type": "code",
   "execution_count": 35,
   "metadata": {
    "scrolled": true
   },
   "outputs": [
    {
     "data": {
      "image/png": "[encoded data removed]",
      "text/plain": [
       "<Figure size 1440x1440 with 2 Axes>"
      ]
     },
     "metadata": {
      "needs_background": "light"
     },
     "output_type": "display_data"
    }
   ],
   "source": [
    "fig, ax = plt.subplots(1,1, figsize = (20,20))\n",
    "ax = sns.heatmap(data.corr(),annot = True, cmap = 'viridis')"
   ]
  },
  {
   "cell_type": "code",
   "execution_count": 36,
   "metadata": {},
   "outputs": [
    {
     "data": {
      "text/plain": [
       "array([ 8,  1, 27, 15,  4, 21, 12, 25,  5,  3, 10, 11,  0, 14,  9, 16,  6,\n",
       "       22, 19,  2,  7, 13, 17, 24, 20, 26, 18, 23], dtype=int8)"
      ]
     },
     "execution_count": 36,
     "metadata": {},
     "output_type": "execute_result"
    }
   ],
   "source": [
    "data.body_type.unique()"
   ]
  },
  {
   "cell_type": "code",
   "execution_count": 37,
   "metadata": {},
   "outputs": [],
   "source": [
    "data = data.drop(['price'], axis=1)"
   ]
  },
  {
   "cell_type": "code",
   "execution_count": 38,
   "metadata": {},
   "outputs": [
    {
     "data": {
      "text/plain": [
       "body_type        0\n",
       "model            0\n",
       "color            0\n",
       "engine_volume    0\n",
       "engine_power     0\n",
       "fuel_type        0\n",
       "mileage          0\n",
       "year             0\n",
       "transmission     0\n",
       "owners_count     0\n",
       "pts              0\n",
       "drive            0\n",
       "wheel            0\n",
       "state            0\n",
       "customs          0\n",
       "sample           0\n",
       "gas              0\n",
       "dtype: int64"
      ]
     },
     "execution_count": 38,
     "metadata": {},
     "output_type": "execute_result"
    }
   ],
   "source": [
    "data.isna().sum()"
   ]
  },
  {
   "cell_type": "code",
   "execution_count": 39,
   "metadata": {},
   "outputs": [],
   "source": [
    "X = data.query('sample == 1').drop(['sample'], axis=1)\n",
    "X_sub = data.query('sample == 0').drop(['sample'], axis=1)"
   ]
  },
  {
   "cell_type": "code",
   "execution_count": 40,
   "metadata": {},
   "outputs": [],
   "source": [
    "X_train, X_test, y_train, y_test = train_test_split(X, y, test_size=VAL_SIZE, shuffle=True, random_state=RANDOM_SEED)"
   ]
  },
  {
   "cell_type": "markdown",
   "metadata": {},
   "source": [
    "#### Model 1: Создадим \"наивную\" модель"
   ]
  },
  {
   "cell_type": "code",
   "execution_count": 41,
   "metadata": {},
   "outputs": [],
   "source": [
    "tmp_train = X_train.copy()\n",
    "tmp_train['price'] = y_train"
   ]
  },
  {
   "cell_type": "code",
   "execution_count": 42,
   "metadata": {},
   "outputs": [
    {
     "name": "stdout",
     "output_type": "stream",
     "text": [
      "Точность наивной модели по метрике MAPE: 103.10%\n"
     ]
    }
   ],
   "source": [
    "# Находим median по экземплярам engine_volume в трейне и размечаем тест\n",
    "predict = X_test['engine_volume'].map(tmp_train.groupby('engine_volume')['price'].median())\n",
    "\n",
    "#оцениваем точность\n",
    "print(f\"Точность наивной модели по метрике MAPE: {(mape(y_test, predict.values))*100:0.2f}%\")"
   ]
  },
  {
   "cell_type": "markdown",
   "metadata": {},
   "source": [
    "#### Model 2 : CatBoost"
   ]
  },
  {
   "cell_type": "code",
   "execution_count": 43,
   "metadata": {},
   "outputs": [],
   "source": [
    "model = CatBoostRegressor(iterations = 5000,\n",
    "                          random_seed = RANDOM_SEED,\n",
    "                          eval_metric='MAPE',\n",
    "                          custom_metric=['R2', 'MAE'],\n",
    "                          silent=True,\n",
    "                         )\n",
    "model.fit(X_train, y_train,\n",
    "         #cat_features=cat_features_ids,\n",
    "         eval_set=(X_test, y_test),\n",
    "         verbose_eval=0,\n",
    "         use_best_model=True,\n",
    "         #plot=True\n",
    "         )\n",
    "\n",
    "model.save_model('catboost_single_model_baseline.model')"
   ]
  },
  {
   "cell_type": "code",
   "execution_count": 44,
   "metadata": {},
   "outputs": [
    {
     "name": "stdout",
     "output_type": "stream",
     "text": [
      "Точность модели по метрике MAPE: 21.76%\n"
     ]
    }
   ],
   "source": [
    "# оцениваем точность\n",
    "predict = model.predict(X_test)\n",
    "print(f\"Точность модели по метрике MAPE: {(mape(y_test, predict))*100:0.2f}%\")"
   ]
  },
  {
   "cell_type": "code",
   "execution_count": 45,
   "metadata": {
    "scrolled": true
   },
   "outputs": [
    {
     "data": {
      "text/plain": [
       "314397    14.334304\n",
       "78016     13.415033\n",
       "239592    13.749371\n",
       "318557    12.388394\n",
       "546181    13.161584\n",
       "            ...    \n",
       "144955    12.301383\n",
       "293865    13.527828\n",
       "400525    15.330638\n",
       "166619    12.538967\n",
       "156645    11.289782\n",
       "Name: price, Length: 422360, dtype: float64"
      ]
     },
     "execution_count": 45,
     "metadata": {},
     "output_type": "execute_result"
    }
   ],
   "source": [
    "np.log(y_train)"
   ]
  },
  {
   "cell_type": "code",
   "execution_count": 46,
   "metadata": {},
   "outputs": [],
   "source": [
    "model = CatBoostRegressor(iterations = 5000,\n",
    "                          random_seed = RANDOM_SEED,\n",
    "                          eval_metric='MAPE',\n",
    "                          custom_metric=['R2', 'MAE'],\n",
    "                          silent=True,\n",
    "                         )\n",
    "model.fit(X_train, np.log(y_train),\n",
    "         #cat_features=cat_features_ids,\n",
    "         eval_set=(X_test, np.log(y_test)),\n",
    "         verbose_eval=0,\n",
    "         use_best_model=True,\n",
    "         #plot=True\n",
    "         )\n",
    "\n",
    "model.save_model('catboost_single_model_2_baseline.model')"
   ]
  },
  {
   "cell_type": "code",
   "execution_count": 47,
   "metadata": {},
   "outputs": [],
   "source": [
    "predict_test = np.exp(model.predict(X_test))\n",
    "predict_submission = np.exp(model.predict(X_sub))"
   ]
  },
  {
   "cell_type": "code",
   "execution_count": 48,
   "metadata": {},
   "outputs": [
    {
     "name": "stdout",
     "output_type": "stream",
     "text": [
      "Точность модели по метрике MAPE: 17.46%\n"
     ]
    }
   ],
   "source": [
    "print(f\"Точность модели по метрике MAPE: {(mape(y_test, predict_test))*100:0.2f}%\")"
   ]
  },
  {
   "cell_type": "code",
   "execution_count": 49,
   "metadata": {},
   "outputs": [],
   "source": [
    "rf = RandomForestRegressor(random_state = RANDOM_SEED, n_jobs=-1, verbose = False)"
   ]
  },
  {
   "cell_type": "code",
   "execution_count": 50,
   "metadata": {},
   "outputs": [],
   "source": [
    "rf.fit(X_train, y_train)\n",
    "y_pred = rf.predict(X_test)"
   ]
  },
  {
   "cell_type": "code",
   "execution_count": 51,
   "metadata": {},
   "outputs": [
    {
     "name": "stdout",
     "output_type": "stream",
     "text": [
      "Точность модели по метрике MAPE: 17.46%\n"
     ]
    }
   ],
   "source": [
    "print(f\"Точность модели по метрике MAPE: {(mape(y_test, predict_test))*100:0.2f}%\")"
   ]
  },
  {
   "cell_type": "code",
   "execution_count": 52,
   "metadata": {},
   "outputs": [
    {
     "data": {
      "text/plain": [
       "<AxesSubplot:>"
      ]
     },
     "execution_count": 52,
     "metadata": {},
     "output_type": "execute_result"
    },
    {
     "data": {
      "image/png": "[encoded data removed]",
      "text/plain": [
       "<Figure size 432x288 with 1 Axes>"
      ]
     },
     "metadata": {
      "needs_background": "light"
     },
     "output_type": "display_data"
    }
   ],
   "source": [
    "(pd.Series(rf.feature_importances_, index = X_train.columns)\n",
    "     .sort_values(ascending = False)\n",
    "     .iloc[0:10].plot(kind = 'barh'))"
   ]
  },
  {
   "cell_type": "code",
   "execution_count": null,
   "metadata": {},
   "outputs": [],
   "source": []
  }
 ],
 "metadata": {
  "kernelspec": {
   "display_name": "Python 3",
   "language": "python",
   "name": "python3"
  },
  "language_info": {
   "codemirror_mode": {
    "name": "ipython",
    "version": 3
   },
   "file_extension": ".py",
   "mimetype": "text/x-python",
   "name": "python",
   "nbconvert_exporter": "python",
   "pygments_lexer": "ipython3",
   "version": "3.8.5"
  }
 },
 "nbformat": 4,
 "nbformat_minor": 4
}
