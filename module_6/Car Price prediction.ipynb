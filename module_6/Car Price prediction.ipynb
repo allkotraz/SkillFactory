{
 "cells": [
  {
   "cell_type": "code",
   "execution_count": 234,
   "metadata": {},
   "outputs": [
    {
     "name": "stderr",
     "output_type": "stream",
     "text": [
      "WARNING: pip is being invoked by an old script wrapper. This will fail in a future version of pip.\n",
      "Please see https://github.com/pypa/pip/issues/5599 for advice on fixing the underlying issue.\n",
      "To avoid this problem you can invoke Python with '-m pip' instead of running pip directly.\n"
     ]
    },
    {
     "name": "stdout",
     "output_type": "stream",
     "text": [
      "Collecting catboost\n",
      "  Downloading catboost-0.26.1-cp38-none-win_amd64.whl (68.0 MB)\n",
      "Requirement already satisfied: matplotlib in c:\\users\\allkotraz\\anaconda3\\lib\\site-packages (from catboost) (3.3.2)\n",
      "Collecting graphviz\n",
      "  Downloading graphviz-0.17-py3-none-any.whl (18 kB)\n",
      "Requirement already satisfied: scipy in c:\\users\\allkotraz\\anaconda3\\lib\\site-packages (from catboost) (1.5.2)\n",
      "Requirement already satisfied: numpy>=1.16.0 in c:\\users\\allkotraz\\anaconda3\\lib\\site-packages (from catboost) (1.19.2)\n",
      "Collecting plotly\n",
      "  Downloading plotly-5.2.2-py2.py3-none-any.whl (21.8 MB)\n",
      "Requirement already satisfied: six in c:\\users\\allkotraz\\anaconda3\\lib\\site-packages (from catboost) (1.15.0)\n",
      "Requirement already satisfied: pandas>=0.24.0 in c:\\users\\allkotraz\\anaconda3\\lib\\site-packages (from catboost) (1.1.3)\n",
      "Requirement already satisfied: pillow>=6.2.0 in c:\\users\\allkotraz\\anaconda3\\lib\\site-packages (from matplotlib->catboost) (8.0.1)\n",
      "Requirement already satisfied: certifi>=2020.06.20 in c:\\users\\allkotraz\\anaconda3\\lib\\site-packages (from matplotlib->catboost) (2020.6.20)\n",
      "Requirement already satisfied: kiwisolver>=1.0.1 in c:\\users\\allkotraz\\anaconda3\\lib\\site-packages (from matplotlib->catboost) (1.3.0)\n",
      "Requirement already satisfied: cycler>=0.10 in c:\\users\\allkotraz\\anaconda3\\lib\\site-packages (from matplotlib->catboost) (0.10.0)\n",
      "Requirement already satisfied: python-dateutil>=2.1 in c:\\users\\allkotraz\\anaconda3\\lib\\site-packages (from matplotlib->catboost) (2.8.1)\n",
      "Requirement already satisfied: pyparsing!=2.0.4,!=2.1.2,!=2.1.6,>=2.0.3 in c:\\users\\allkotraz\\anaconda3\\lib\\site-packages (from matplotlib->catboost) (2.4.7)\n",
      "Collecting tenacity>=6.2.0\n",
      "  Downloading tenacity-8.0.1-py3-none-any.whl (24 kB)\n",
      "Requirement already satisfied: pytz>=2017.2 in c:\\users\\allkotraz\\anaconda3\\lib\\site-packages (from pandas>=0.24.0->catboost) (2020.1)\n",
      "Installing collected packages: graphviz, tenacity, plotly, catboost\n",
      "Successfully installed catboost-0.26.1 graphviz-0.17 plotly-5.2.2 tenacity-8.0.1\n"
     ]
    },
    {
     "data": {
      "text/plain": [
       "0"
      ]
     },
     "execution_count": 234,
     "metadata": {},
     "output_type": "execute_result"
    }
   ],
   "source": [
    "import pip\n",
    "pip.main(['install', 'catboost'])"
   ]
  },
  {
   "cell_type": "code",
   "execution_count": 294,
   "metadata": {
    "scrolled": true
   },
   "outputs": [],
   "source": [
    "import json\n",
    "import datetime\n",
    "import pandas as pd\n",
    "import numpy as np\n",
    "import seaborn as sns\n",
    "import warnings\n",
    "import matplotlib.pyplot as plt\n",
    "import sys\n",
    "from sklearn.model_selection import train_test_split\n",
    "from sklearn.model_selection import KFold\n",
    "from tqdm.notebook import tqdm\n",
    "from catboost import CatBoostRegressor\n",
    "from sklearn.preprocessing import LabelEncoder"
   ]
  },
  {
   "cell_type": "code",
   "execution_count": 295,
   "metadata": {},
   "outputs": [],
   "source": [
    "!pip freeze > requirements.txt"
   ]
  },
  {
   "cell_type": "code",
   "execution_count": 296,
   "metadata": {},
   "outputs": [],
   "source": [
    "RANDOM_SEED = 42"
   ]
  },
  {
   "cell_type": "code",
   "execution_count": 297,
   "metadata": {},
   "outputs": [],
   "source": [
    "VAL_SIZE   = 0.20   # 20%"
   ]
  },
  {
   "cell_type": "code",
   "execution_count": 323,
   "metadata": {
    "scrolled": false
   },
   "outputs": [
    {
     "name": "stderr",
     "output_type": "stream",
     "text": [
      "C:\\Users\\allkotraz\\anaconda3\\lib\\site-packages\\IPython\\core\\interactiveshell.py:3146: DtypeWarning: Columns (4,5,6,7,8,12,13,18,25,28) have mixed types.Specify dtype option on import or set low_memory=False.\n",
      "  has_raised = await self.run_ast_nodes(code_ast.body, cell_name,\n"
     ]
    }
   ],
   "source": [
    "df_train = pd.read_csv('./input/dataset_with_electro.csv', usecols = lambda x: x not in ('photos_links', 'descr'))\n",
    "df_test = pd.read_csv('./input/test.csv')"
   ]
  },
  {
   "cell_type": "code",
   "execution_count": 324,
   "metadata": {},
   "outputs": [],
   "source": [
    "pd.set_option('display.max_columns', None)"
   ]
  },
  {
   "cell_type": "code",
   "execution_count": 325,
   "metadata": {
    "scrolled": true
   },
   "outputs": [
    {
     "data": {
      "text/html": [
       "<div>\n",
       "<style scoped>\n",
       "    .dataframe tbody tr th:only-of-type {\n",
       "        vertical-align: middle;\n",
       "    }\n",
       "\n",
       "    .dataframe tbody tr th {\n",
       "        vertical-align: top;\n",
       "    }\n",
       "\n",
       "    .dataframe thead th {\n",
       "        text-align: right;\n",
       "    }\n",
       "</style>\n",
       "<table border=\"1\" class=\"dataframe\">\n",
       "  <thead>\n",
       "    <tr style=\"text-align: right;\">\n",
       "      <th></th>\n",
       "      <th>brand</th>\n",
       "      <th>model</th>\n",
       "      <th>generation</th>\n",
       "      <th>date_posted</th>\n",
       "      <th>views_total</th>\n",
       "      <th>views_today</th>\n",
       "      <th>offer_id</th>\n",
       "      <th>year</th>\n",
       "      <th>mileage</th>\n",
       "      <th>body_type</th>\n",
       "      <th>color</th>\n",
       "      <th>fuel_type</th>\n",
       "      <th>engine_volume</th>\n",
       "      <th>engine_power</th>\n",
       "      <th>transmission</th>\n",
       "      <th>drive</th>\n",
       "      <th>wheel</th>\n",
       "      <th>state</th>\n",
       "      <th>owners_count</th>\n",
       "      <th>pts</th>\n",
       "      <th>customs</th>\n",
       "      <th>exchange</th>\n",
       "      <th>vin</th>\n",
       "      <th>license_plate</th>\n",
       "      <th>photos_count</th>\n",
       "      <th>complectation</th>\n",
       "      <th>price</th>\n",
       "      <th>url</th>\n",
       "      <th>catalog_link</th>\n",
       "      <th>orig_url</th>\n",
       "    </tr>\n",
       "  </thead>\n",
       "  <tbody>\n",
       "    <tr>\n",
       "      <th>157433</th>\n",
       "      <td>Продажа автомобилей</td>\n",
       "      <td>Chevrolet</td>\n",
       "      <td>I</td>\n",
       "      <td>12 июня 2019</td>\n",
       "      <td>759</td>\n",
       "      <td>2</td>\n",
       "      <td>1088857892</td>\n",
       "      <td>2008</td>\n",
       "      <td>180000</td>\n",
       "      <td>седан</td>\n",
       "      <td>серый</td>\n",
       "      <td>Бензин</td>\n",
       "      <td>1.5</td>\n",
       "      <td>86</td>\n",
       "      <td>механическая</td>\n",
       "      <td>передний</td>\n",
       "      <td>Левый</td>\n",
       "      <td>Не требует ремонта</td>\n",
       "      <td>2</td>\n",
       "      <td>Оригинал</td>\n",
       "      <td>Растаможен</td>\n",
       "      <td>NaN</td>\n",
       "      <td>Y6D**************</td>\n",
       "      <td>******|199</td>\n",
       "      <td>1</td>\n",
       "      <td>NaN</td>\n",
       "      <td>120000</td>\n",
       "      <td>https://auto.ru/cars/used/sale/chevrolet/lanos...</td>\n",
       "      <td>https://auto.ru/catalog/cars/chevrolet/lanos/2...</td>\n",
       "      <td>https://auto.ru/cars/used/sale/chevrolet/lanos...</td>\n",
       "    </tr>\n",
       "    <tr>\n",
       "      <th>36537</th>\n",
       "      <td>Продажа автомобилей</td>\n",
       "      <td>LADA (ВАЗ)</td>\n",
       "      <td>I Рестайлинг</td>\n",
       "      <td>12 мая</td>\n",
       "      <td>3256</td>\n",
       "      <td>2</td>\n",
       "      <td>1.10351e+09</td>\n",
       "      <td>2003</td>\n",
       "      <td>91000</td>\n",
       "      <td>внедорожник 3 дв.</td>\n",
       "      <td>пурпурный</td>\n",
       "      <td>Бензин</td>\n",
       "      <td>1.7</td>\n",
       "      <td>79</td>\n",
       "      <td>механическая</td>\n",
       "      <td>полный</td>\n",
       "      <td>Левый</td>\n",
       "      <td>Не требует ремонта</td>\n",
       "      <td>1</td>\n",
       "      <td>Оригинал</td>\n",
       "      <td>Растаможен</td>\n",
       "      <td>NaN</td>\n",
       "      <td>XTA**************</td>\n",
       "      <td>******|190</td>\n",
       "      <td>6</td>\n",
       "      <td>NaN</td>\n",
       "      <td>140000</td>\n",
       "      <td>https://auto.ru/cars/used/sale/vaz/2121/110351...</td>\n",
       "      <td>https://auto.ru/catalog/cars/vaz/2121/2307327/...</td>\n",
       "      <td>https://auto.ru/cars/used/sale/vaz/2121/110351...</td>\n",
       "    </tr>\n",
       "    <tr>\n",
       "      <th>526989</th>\n",
       "      <td>Продажа автомобилей</td>\n",
       "      <td>Hyundai</td>\n",
       "      <td>I</td>\n",
       "      <td>22 апреля</td>\n",
       "      <td>930</td>\n",
       "      <td>10</td>\n",
       "      <td>1.10329e+09</td>\n",
       "      <td>2013</td>\n",
       "      <td>115000</td>\n",
       "      <td>седан</td>\n",
       "      <td>белый</td>\n",
       "      <td>Бензин</td>\n",
       "      <td>1.4</td>\n",
       "      <td>107</td>\n",
       "      <td>механическая</td>\n",
       "      <td>передний</td>\n",
       "      <td>Левый</td>\n",
       "      <td>Не требует ремонта</td>\n",
       "      <td>2</td>\n",
       "      <td>Оригинал</td>\n",
       "      <td>Растаможен</td>\n",
       "      <td>NaN</td>\n",
       "      <td>Z94**************</td>\n",
       "      <td>******|161</td>\n",
       "      <td>27</td>\n",
       "      <td>NaN</td>\n",
       "      <td>490000</td>\n",
       "      <td>https://auto.ru/cars/used/sale/hyundai/solaris...</td>\n",
       "      <td>https://auto.ru/catalog/cars/hyundai/solaris/6...</td>\n",
       "      <td>https://auto.ru/cars/used/sale/hyundai/solaris...</td>\n",
       "    </tr>\n",
       "    <tr>\n",
       "      <th>143188</th>\n",
       "      <td>Продажа автомобилей</td>\n",
       "      <td>Hyundai</td>\n",
       "      <td>I Рестайлинг</td>\n",
       "      <td>9 августа</td>\n",
       "      <td>70</td>\n",
       "      <td>1</td>\n",
       "      <td>1104862053</td>\n",
       "      <td>2016</td>\n",
       "      <td>72000</td>\n",
       "      <td>седан</td>\n",
       "      <td>серый</td>\n",
       "      <td>Бензин</td>\n",
       "      <td>1.6</td>\n",
       "      <td>123</td>\n",
       "      <td>автоматическая</td>\n",
       "      <td>передний</td>\n",
       "      <td>Левый</td>\n",
       "      <td>Не требует ремонта</td>\n",
       "      <td>2</td>\n",
       "      <td>Оригинал</td>\n",
       "      <td>Растаможен</td>\n",
       "      <td>NaN</td>\n",
       "      <td>Z94**************</td>\n",
       "      <td>******|123</td>\n",
       "      <td>1</td>\n",
       "      <td>Мультифункциональное рулевое колесо,Система до...</td>\n",
       "      <td>795000</td>\n",
       "      <td>https://auto.ru/cars/used/sale/hyundai/solaris...</td>\n",
       "      <td>https://auto.ru/catalog/cars/hyundai/solaris/2...</td>\n",
       "      <td>https://auto.ru/cars/used/sale/hyundai/solaris...</td>\n",
       "    </tr>\n",
       "    <tr>\n",
       "      <th>491484</th>\n",
       "      <td>Продажа автомобилей</td>\n",
       "      <td>Chevrolet</td>\n",
       "      <td>I</td>\n",
       "      <td>15 мая</td>\n",
       "      <td>222</td>\n",
       "      <td>2</td>\n",
       "      <td>1.10355e+09</td>\n",
       "      <td>2008</td>\n",
       "      <td>160000</td>\n",
       "      <td>седан</td>\n",
       "      <td>серебристый</td>\n",
       "      <td>Бензин</td>\n",
       "      <td>1.5</td>\n",
       "      <td>86</td>\n",
       "      <td>механическая</td>\n",
       "      <td>передний</td>\n",
       "      <td>Левый</td>\n",
       "      <td>Не требует ремонта</td>\n",
       "      <td>1</td>\n",
       "      <td>Оригинал</td>\n",
       "      <td>Растаможен</td>\n",
       "      <td>NaN</td>\n",
       "      <td>Y6D**************</td>\n",
       "      <td>******|102</td>\n",
       "      <td>1</td>\n",
       "      <td>NaN</td>\n",
       "      <td>126599</td>\n",
       "      <td>https://auto.ru/cars/used/sale/chevrolet/lanos...</td>\n",
       "      <td>https://auto.ru/catalog/cars/chevrolet/lanos/2...</td>\n",
       "      <td>https://auto.ru/cars/used/sale/chevrolet/lanos...</td>\n",
       "    </tr>\n",
       "  </tbody>\n",
       "</table>\n",
       "</div>"
      ],
      "text/plain": [
       "                      brand       model    generation   date_posted  \\\n",
       "157433  Продажа автомобилей   Chevrolet             I  12 июня 2019   \n",
       "36537   Продажа автомобилей  LADA (ВАЗ)  I Рестайлинг        12 мая   \n",
       "526989  Продажа автомобилей     Hyundai             I     22 апреля   \n",
       "143188  Продажа автомобилей     Hyundai  I Рестайлинг     9 августа   \n",
       "491484  Продажа автомобилей   Chevrolet             I        15 мая   \n",
       "\n",
       "       views_total views_today     offer_id  year mileage          body_type  \\\n",
       "157433         759           2   1088857892  2008  180000              седан   \n",
       "36537         3256           2  1.10351e+09  2003   91000  внедорожник 3 дв.   \n",
       "526989         930          10  1.10329e+09  2013  115000              седан   \n",
       "143188          70           1   1104862053  2016   72000              седан   \n",
       "491484         222           2  1.10355e+09  2008  160000              седан   \n",
       "\n",
       "              color fuel_type engine_volume engine_power    transmission  \\\n",
       "157433        серый    Бензин           1.5           86    механическая   \n",
       "36537     пурпурный    Бензин           1.7           79    механическая   \n",
       "526989        белый    Бензин           1.4          107    механическая   \n",
       "143188        серый    Бензин           1.6          123  автоматическая   \n",
       "491484  серебристый    Бензин           1.5           86    механическая   \n",
       "\n",
       "           drive  wheel               state owners_count       pts  \\\n",
       "157433  передний  Левый  Не требует ремонта            2  Оригинал   \n",
       "36537     полный  Левый  Не требует ремонта            1  Оригинал   \n",
       "526989  передний  Левый  Не требует ремонта            2  Оригинал   \n",
       "143188  передний  Левый  Не требует ремонта            2  Оригинал   \n",
       "491484  передний  Левый  Не требует ремонта            1  Оригинал   \n",
       "\n",
       "           customs exchange                vin license_plate photos_count  \\\n",
       "157433  Растаможен      NaN  Y6D**************    ******|199            1   \n",
       "36537   Растаможен      NaN  XTA**************    ******|190            6   \n",
       "526989  Растаможен      NaN  Z94**************    ******|161           27   \n",
       "143188  Растаможен      NaN  Z94**************    ******|123            1   \n",
       "491484  Растаможен      NaN  Y6D**************    ******|102            1   \n",
       "\n",
       "                                            complectation   price  \\\n",
       "157433                                                NaN  120000   \n",
       "36537                                                 NaN  140000   \n",
       "526989                                                NaN  490000   \n",
       "143188  Мультифункциональное рулевое колесо,Система до...  795000   \n",
       "491484                                                NaN  126599   \n",
       "\n",
       "                                                      url  \\\n",
       "157433  https://auto.ru/cars/used/sale/chevrolet/lanos...   \n",
       "36537   https://auto.ru/cars/used/sale/vaz/2121/110351...   \n",
       "526989  https://auto.ru/cars/used/sale/hyundai/solaris...   \n",
       "143188  https://auto.ru/cars/used/sale/hyundai/solaris...   \n",
       "491484  https://auto.ru/cars/used/sale/chevrolet/lanos...   \n",
       "\n",
       "                                             catalog_link  \\\n",
       "157433  https://auto.ru/catalog/cars/chevrolet/lanos/2...   \n",
       "36537   https://auto.ru/catalog/cars/vaz/2121/2307327/...   \n",
       "526989  https://auto.ru/catalog/cars/hyundai/solaris/6...   \n",
       "143188  https://auto.ru/catalog/cars/hyundai/solaris/2...   \n",
       "491484  https://auto.ru/catalog/cars/chevrolet/lanos/2...   \n",
       "\n",
       "                                                 orig_url  \n",
       "157433  https://auto.ru/cars/used/sale/chevrolet/lanos...  \n",
       "36537   https://auto.ru/cars/used/sale/vaz/2121/110351...  \n",
       "526989  https://auto.ru/cars/used/sale/hyundai/solaris...  \n",
       "143188  https://auto.ru/cars/used/sale/hyundai/solaris...  \n",
       "491484  https://auto.ru/cars/used/sale/chevrolet/lanos...  "
      ]
     },
     "execution_count": 325,
     "metadata": {},
     "output_type": "execute_result"
    }
   ],
   "source": [
    "df_train.sample(5)"
   ]
  },
  {
   "cell_type": "code",
   "execution_count": 326,
   "metadata": {
    "scrolled": false
   },
   "outputs": [
    {
     "data": {
      "text/html": [
       "<div>\n",
       "<style scoped>\n",
       "    .dataframe tbody tr th:only-of-type {\n",
       "        vertical-align: middle;\n",
       "    }\n",
       "\n",
       "    .dataframe tbody tr th {\n",
       "        vertical-align: top;\n",
       "    }\n",
       "\n",
       "    .dataframe thead th {\n",
       "        text-align: right;\n",
       "    }\n",
       "</style>\n",
       "<table border=\"1\" class=\"dataframe\">\n",
       "  <thead>\n",
       "    <tr style=\"text-align: right;\">\n",
       "      <th></th>\n",
       "      <th>bodyType</th>\n",
       "      <th>brand</th>\n",
       "      <th>car_url</th>\n",
       "      <th>color</th>\n",
       "      <th>complectation_dict</th>\n",
       "      <th>description</th>\n",
       "      <th>engineDisplacement</th>\n",
       "      <th>enginePower</th>\n",
       "      <th>equipment_dict</th>\n",
       "      <th>fuelType</th>\n",
       "      <th>image</th>\n",
       "      <th>mileage</th>\n",
       "      <th>modelDate</th>\n",
       "      <th>model_info</th>\n",
       "      <th>model_name</th>\n",
       "      <th>name</th>\n",
       "      <th>numberOfDoors</th>\n",
       "      <th>parsing_unixtime</th>\n",
       "      <th>priceCurrency</th>\n",
       "      <th>productionDate</th>\n",
       "      <th>sell_id</th>\n",
       "      <th>super_gen</th>\n",
       "      <th>vehicleConfiguration</th>\n",
       "      <th>vehicleTransmission</th>\n",
       "      <th>vendor</th>\n",
       "      <th>Владельцы</th>\n",
       "      <th>Владение</th>\n",
       "      <th>ПТС</th>\n",
       "      <th>Привод</th>\n",
       "      <th>Руль</th>\n",
       "      <th>Состояние</th>\n",
       "      <th>Таможня</th>\n",
       "    </tr>\n",
       "  </thead>\n",
       "  <tbody>\n",
       "    <tr>\n",
       "      <th>25387</th>\n",
       "      <td>седан</td>\n",
       "      <td>VOLKSWAGEN</td>\n",
       "      <td>https://auto.ru/cars/used/sale/volkswagen/jett...</td>\n",
       "      <td>золотистый</td>\n",
       "      <td>NaN</td>\n",
       "      <td>Автомобиль в идеальном состоянии, не требует а...</td>\n",
       "      <td>1.4 LTR</td>\n",
       "      <td>122 N12</td>\n",
       "      <td>NaN</td>\n",
       "      <td>бензин</td>\n",
       "      <td>https://avatars.mds.yandex.net/get-autoru-vos/...</td>\n",
       "      <td>188614</td>\n",
       "      <td>2010</td>\n",
       "      <td>{\"code\":\"JETTA\",\"name\":\"Jetta\",\"ru_name\":\"Джет...</td>\n",
       "      <td>JETTA</td>\n",
       "      <td>1.4 AMT (122 л.с.)</td>\n",
       "      <td>4</td>\n",
       "      <td>1603221223</td>\n",
       "      <td>RUB</td>\n",
       "      <td>2012</td>\n",
       "      <td>1101213745</td>\n",
       "      <td>{\"id\":\"7720682\",\"displacement\":1390,\"engine_ty...</td>\n",
       "      <td>SEDAN ROBOT 1.4</td>\n",
       "      <td>роботизированная</td>\n",
       "      <td>EUROPEAN</td>\n",
       "      <td>2 владельца</td>\n",
       "      <td>NaN</td>\n",
       "      <td>Оригинал</td>\n",
       "      <td>передний</td>\n",
       "      <td>Левый</td>\n",
       "      <td>Не требует ремонта</td>\n",
       "      <td>Растаможен</td>\n",
       "    </tr>\n",
       "    <tr>\n",
       "      <th>18166</th>\n",
       "      <td>внедорожник 5 дв.</td>\n",
       "      <td>MERCEDES</td>\n",
       "      <td>https://auto.ru/cars/used/sale/mercedes/g_klas...</td>\n",
       "      <td>чёрный</td>\n",
       "      <td>NaN</td>\n",
       "      <td>Комфорт: 5. Салон: 3. Безопасность: 4. Обзор: ...</td>\n",
       "      <td>3.0 LTR</td>\n",
       "      <td>245 N12</td>\n",
       "      <td>{\"cruise-control\":true,\"tinted-glass\":true,\"ai...</td>\n",
       "      <td>дизель</td>\n",
       "      <td>https://autoru.naydex.net/mcQh17801/f1b5751dCi...</td>\n",
       "      <td>94574</td>\n",
       "      <td>2015</td>\n",
       "      <td>{\"code\":\"G_KLASSE\",\"name\":\"G-Класс\",\"ru_name\":...</td>\n",
       "      <td>G_KLASSE</td>\n",
       "      <td>350 d 3.0d AT (245 л.с.) 4WD</td>\n",
       "      <td>5</td>\n",
       "      <td>1603250649</td>\n",
       "      <td>RUB</td>\n",
       "      <td>2016</td>\n",
       "      <td>1101035002</td>\n",
       "      <td>{\"id\":\"20632445\",\"name\":\"350\",\"nameplate\":\"350...</td>\n",
       "      <td>ALLROAD_5_DOORS AUTOMATIC 3.0</td>\n",
       "      <td>автоматическая</td>\n",
       "      <td>EUROPEAN</td>\n",
       "      <td>3 или более</td>\n",
       "      <td>NaN</td>\n",
       "      <td>Оригинал</td>\n",
       "      <td>полный</td>\n",
       "      <td>Левый</td>\n",
       "      <td>Не требует ремонта</td>\n",
       "      <td>Растаможен</td>\n",
       "    </tr>\n",
       "    <tr>\n",
       "      <th>8609</th>\n",
       "      <td>внедорожник 5 дв.</td>\n",
       "      <td>BMW</td>\n",
       "      <td>https://auto.ru/cars/used/sale/bmw/x5_m/110089...</td>\n",
       "      <td>чёрный</td>\n",
       "      <td>NaN</td>\n",
       "      <td>Всех предыдущих владельцев знаю , по факту я 4...</td>\n",
       "      <td>4.4 LTR</td>\n",
       "      <td>555 N12</td>\n",
       "      <td>NaN</td>\n",
       "      <td>бензин</td>\n",
       "      <td>https://avatars.mds.yandex.net/get-autoru-vos/...</td>\n",
       "      <td>99000</td>\n",
       "      <td>2009</td>\n",
       "      <td>{\"code\":\"X5_M\",\"name\":\"X5 M\",\"ru_name\":\"Х5 М\",...</td>\n",
       "      <td>X5_M</td>\n",
       "      <td>4.4 AT (555 л.с.) 4WD</td>\n",
       "      <td>5</td>\n",
       "      <td>1603111829</td>\n",
       "      <td>RUB</td>\n",
       "      <td>2009</td>\n",
       "      <td>1100894554</td>\n",
       "      <td>{\"id\":\"4731941\",\"displacement\":4395,\"engine_ty...</td>\n",
       "      <td>ALLROAD_5_DOORS AUTOMATIC 4.4</td>\n",
       "      <td>автоматическая</td>\n",
       "      <td>EUROPEAN</td>\n",
       "      <td>3 или более</td>\n",
       "      <td>NaN</td>\n",
       "      <td>Дубликат</td>\n",
       "      <td>полный</td>\n",
       "      <td>Левый</td>\n",
       "      <td>Не требует ремонта</td>\n",
       "      <td>Растаможен</td>\n",
       "    </tr>\n",
       "    <tr>\n",
       "      <th>34544</th>\n",
       "      <td>внедорожник 5 дв.</td>\n",
       "      <td>TOYOTA</td>\n",
       "      <td>https://auto.ru/cars/used/sale/toyota/land_cru...</td>\n",
       "      <td>серый</td>\n",
       "      <td>NaN</td>\n",
       "      <td>В связи с покупкой недвижимости продаю  автомо...</td>\n",
       "      <td>2.8 LTR</td>\n",
       "      <td>177 N12</td>\n",
       "      <td>{\"cruise-control\":true,\"asr\":true,\"tinted-glas...</td>\n",
       "      <td>дизель</td>\n",
       "      <td>https://autoru.naydex.net/16IvE9y79/a7f8demo/N...</td>\n",
       "      <td>11882</td>\n",
       "      <td>2017</td>\n",
       "      <td>{\"code\":\"LAND_CRUISER_PRADO\",\"name\":\"Land Crui...</td>\n",
       "      <td>LAND_CRUISER_PRADO</td>\n",
       "      <td>Arctic Trucks AT38 2.8d AT (177 л.с.) 4WD</td>\n",
       "      <td>5</td>\n",
       "      <td>1603690667</td>\n",
       "      <td>RUB</td>\n",
       "      <td>2019</td>\n",
       "      <td>1101367483</td>\n",
       "      <td>{\"id\":\"21500259\",\"name\":\"Arctic Trucks\",\"namep...</td>\n",
       "      <td>ALLROAD_5_DOORS AUTOMATIC 2.8</td>\n",
       "      <td>автоматическая</td>\n",
       "      <td>JAPANESE</td>\n",
       "      <td>1 владелец</td>\n",
       "      <td>NaN</td>\n",
       "      <td>Оригинал</td>\n",
       "      <td>полный</td>\n",
       "      <td>Левый</td>\n",
       "      <td>Не требует ремонта</td>\n",
       "      <td>Растаможен</td>\n",
       "    </tr>\n",
       "    <tr>\n",
       "      <th>6454</th>\n",
       "      <td>седан</td>\n",
       "      <td>VOLVO</td>\n",
       "      <td>https://auto.ru/cars/used/sale/volvo/940/11012...</td>\n",
       "      <td>синий</td>\n",
       "      <td>NaN</td>\n",
       "      <td>На ходу, дефекты по кузову</td>\n",
       "      <td>2.3 LTR</td>\n",
       "      <td>131 N12</td>\n",
       "      <td>NaN</td>\n",
       "      <td>бензин</td>\n",
       "      <td>https://autoru.naydex.net/ESooa9149/468b9eoMem...</td>\n",
       "      <td>347000</td>\n",
       "      <td>1988</td>\n",
       "      <td>{\"code\":\"940\",\"name\":\"940\",\"ru_name\":\"940\",\"mo...</td>\n",
       "      <td>940</td>\n",
       "      <td>2.3 MT (131 л.с.)</td>\n",
       "      <td>4</td>\n",
       "      <td>1603236110</td>\n",
       "      <td>RUB</td>\n",
       "      <td>1991</td>\n",
       "      <td>1101298685</td>\n",
       "      <td>{\"id\":\"8226671\",\"displacement\":2316,\"engine_ty...</td>\n",
       "      <td>SEDAN MECHANICAL 2.3</td>\n",
       "      <td>механическая</td>\n",
       "      <td>EUROPEAN</td>\n",
       "      <td>3 или более</td>\n",
       "      <td>NaN</td>\n",
       "      <td>Оригинал</td>\n",
       "      <td>задний</td>\n",
       "      <td>Левый</td>\n",
       "      <td>Не требует ремонта</td>\n",
       "      <td>Растаможен</td>\n",
       "    </tr>\n",
       "  </tbody>\n",
       "</table>\n",
       "</div>"
      ],
      "text/plain": [
       "                bodyType       brand  \\\n",
       "25387              седан  VOLKSWAGEN   \n",
       "18166  внедорожник 5 дв.    MERCEDES   \n",
       "8609   внедорожник 5 дв.         BMW   \n",
       "34544  внедорожник 5 дв.      TOYOTA   \n",
       "6454               седан       VOLVO   \n",
       "\n",
       "                                                 car_url       color  \\\n",
       "25387  https://auto.ru/cars/used/sale/volkswagen/jett...  золотистый   \n",
       "18166  https://auto.ru/cars/used/sale/mercedes/g_klas...      чёрный   \n",
       "8609   https://auto.ru/cars/used/sale/bmw/x5_m/110089...      чёрный   \n",
       "34544  https://auto.ru/cars/used/sale/toyota/land_cru...       серый   \n",
       "6454   https://auto.ru/cars/used/sale/volvo/940/11012...       синий   \n",
       "\n",
       "      complectation_dict                                        description  \\\n",
       "25387                NaN  Автомобиль в идеальном состоянии, не требует а...   \n",
       "18166                NaN  Комфорт: 5. Салон: 3. Безопасность: 4. Обзор: ...   \n",
       "8609                 NaN  Всех предыдущих владельцев знаю , по факту я 4...   \n",
       "34544                NaN  В связи с покупкой недвижимости продаю  автомо...   \n",
       "6454                 NaN                         На ходу, дефекты по кузову   \n",
       "\n",
       "      engineDisplacement enginePower  \\\n",
       "25387            1.4 LTR     122 N12   \n",
       "18166            3.0 LTR     245 N12   \n",
       "8609             4.4 LTR     555 N12   \n",
       "34544            2.8 LTR     177 N12   \n",
       "6454             2.3 LTR     131 N12   \n",
       "\n",
       "                                          equipment_dict fuelType  \\\n",
       "25387                                                NaN   бензин   \n",
       "18166  {\"cruise-control\":true,\"tinted-glass\":true,\"ai...   дизель   \n",
       "8609                                                 NaN   бензин   \n",
       "34544  {\"cruise-control\":true,\"asr\":true,\"tinted-glas...   дизель   \n",
       "6454                                                 NaN   бензин   \n",
       "\n",
       "                                                   image  mileage  modelDate  \\\n",
       "25387  https://avatars.mds.yandex.net/get-autoru-vos/...   188614       2010   \n",
       "18166  https://autoru.naydex.net/mcQh17801/f1b5751dCi...    94574       2015   \n",
       "8609   https://avatars.mds.yandex.net/get-autoru-vos/...    99000       2009   \n",
       "34544  https://autoru.naydex.net/16IvE9y79/a7f8demo/N...    11882       2017   \n",
       "6454   https://autoru.naydex.net/ESooa9149/468b9eoMem...   347000       1988   \n",
       "\n",
       "                                              model_info          model_name  \\\n",
       "25387  {\"code\":\"JETTA\",\"name\":\"Jetta\",\"ru_name\":\"Джет...               JETTA   \n",
       "18166  {\"code\":\"G_KLASSE\",\"name\":\"G-Класс\",\"ru_name\":...            G_KLASSE   \n",
       "8609   {\"code\":\"X5_M\",\"name\":\"X5 M\",\"ru_name\":\"Х5 М\",...                X5_M   \n",
       "34544  {\"code\":\"LAND_CRUISER_PRADO\",\"name\":\"Land Crui...  LAND_CRUISER_PRADO   \n",
       "6454   {\"code\":\"940\",\"name\":\"940\",\"ru_name\":\"940\",\"mo...                 940   \n",
       "\n",
       "                                            name  numberOfDoors  \\\n",
       "25387                         1.4 AMT (122 л.с.)              4   \n",
       "18166               350 d 3.0d AT (245 л.с.) 4WD              5   \n",
       "8609                       4.4 AT (555 л.с.) 4WD              5   \n",
       "34544  Arctic Trucks AT38 2.8d AT (177 л.с.) 4WD              5   \n",
       "6454                           2.3 MT (131 л.с.)              4   \n",
       "\n",
       "       parsing_unixtime priceCurrency  productionDate     sell_id  \\\n",
       "25387        1603221223           RUB            2012  1101213745   \n",
       "18166        1603250649           RUB            2016  1101035002   \n",
       "8609         1603111829           RUB            2009  1100894554   \n",
       "34544        1603690667           RUB            2019  1101367483   \n",
       "6454         1603236110           RUB            1991  1101298685   \n",
       "\n",
       "                                               super_gen  \\\n",
       "25387  {\"id\":\"7720682\",\"displacement\":1390,\"engine_ty...   \n",
       "18166  {\"id\":\"20632445\",\"name\":\"350\",\"nameplate\":\"350...   \n",
       "8609   {\"id\":\"4731941\",\"displacement\":4395,\"engine_ty...   \n",
       "34544  {\"id\":\"21500259\",\"name\":\"Arctic Trucks\",\"namep...   \n",
       "6454   {\"id\":\"8226671\",\"displacement\":2316,\"engine_ty...   \n",
       "\n",
       "                vehicleConfiguration vehicleTransmission    vendor  \\\n",
       "25387                SEDAN ROBOT 1.4    роботизированная  EUROPEAN   \n",
       "18166  ALLROAD_5_DOORS AUTOMATIC 3.0      автоматическая  EUROPEAN   \n",
       "8609   ALLROAD_5_DOORS AUTOMATIC 4.4      автоматическая  EUROPEAN   \n",
       "34544  ALLROAD_5_DOORS AUTOMATIC 2.8      автоматическая  JAPANESE   \n",
       "6454            SEDAN MECHANICAL 2.3        механическая  EUROPEAN   \n",
       "\n",
       "         Владельцы Владение       ПТС    Привод   Руль           Состояние  \\\n",
       "25387  2 владельца      NaN  Оригинал  передний  Левый  Не требует ремонта   \n",
       "18166  3 или более      NaN  Оригинал    полный  Левый  Не требует ремонта   \n",
       "8609   3 или более      NaN  Дубликат    полный  Левый  Не требует ремонта   \n",
       "34544   1 владелец      NaN  Оригинал    полный  Левый  Не требует ремонта   \n",
       "6454   3 или более      NaN  Оригинал    задний  Левый  Не требует ремонта   \n",
       "\n",
       "          Таможня  \n",
       "25387  Растаможен  \n",
       "18166  Растаможен  \n",
       "8609   Растаможен  \n",
       "34544  Растаможен  \n",
       "6454   Растаможен  "
      ]
     },
     "execution_count": 326,
     "metadata": {},
     "output_type": "execute_result"
    }
   ],
   "source": [
    "df_test.sample(5)"
   ]
  },
  {
   "cell_type": "code",
   "execution_count": 327,
   "metadata": {},
   "outputs": [
    {
     "data": {
      "text/plain": [
       "array(['Продажа автомобилей', nan, 'brand'], dtype=object)"
      ]
     },
     "execution_count": 327,
     "metadata": {},
     "output_type": "execute_result"
    }
   ],
   "source": [
    "df_train.brand.unique()"
   ]
  },
  {
   "cell_type": "code",
   "execution_count": 328,
   "metadata": {},
   "outputs": [],
   "source": [
    "#df_train = df_train.dropna(subset=['price'])\n",
    "df_train = df_train.drop(columns = ['brand'])"
   ]
  },
  {
   "cell_type": "code",
   "execution_count": 329,
   "metadata": {
    "scrolled": true
   },
   "outputs": [
    {
     "data": {
      "text/plain": [
       "model                66\n",
       "generation          100\n",
       "date_posted          66\n",
       "views_total       22792\n",
       "views_today       22792\n",
       "offer_id             66\n",
       "year                 66\n",
       "mileage              66\n",
       "body_type           100\n",
       "color                66\n",
       "fuel_type           102\n",
       "engine_volume       102\n",
       "engine_power        102\n",
       "transmission        102\n",
       "drive               102\n",
       "wheel                66\n",
       "state                66\n",
       "owners_count        101\n",
       "pts                  86\n",
       "customs              66\n",
       "exchange         413147\n",
       "vin               15956\n",
       "license_plate    120300\n",
       "photos_count          0\n",
       "complectation    218559\n",
       "price              7438\n",
       "url                   0\n",
       "catalog_link        102\n",
       "orig_url              0\n",
       "dtype: int64"
      ]
     },
     "execution_count": 329,
     "metadata": {},
     "output_type": "execute_result"
    }
   ],
   "source": [
    "df_train.isna().sum()"
   ]
  },
  {
   "cell_type": "code",
   "execution_count": 330,
   "metadata": {},
   "outputs": [],
   "source": [
    "df_train.dropna(subset=['body_type','engine_volume','engine_power','fuel_type','transmission','owners_count', 'pts', 'drive'], inplace=True)"
   ]
  },
  {
   "cell_type": "code",
   "execution_count": 331,
   "metadata": {},
   "outputs": [],
   "source": [
    "df_test['engineDisplacement'] = df_test['engineDisplacement'].apply(lambda x: float(x.split()[0]) if x!=' LTR' else 0)\n",
    "df_test['enginePower'] = df_test['enginePower'].apply(lambda x: float(x.split()[0]))\n",
    "df_test['productionDate'] = df_test['productionDate'].astype(int)\n",
    "df_test = df_test.rename(columns={'ПТС': 'pts',\n",
    "                                  'Таможня': 'customs',\n",
    "                                  'Состояние': 'state',\n",
    "                                  'Руль': 'wheel',\n",
    "                                  'Привод': 'drive',\n",
    "                                  'Владельцы': 'owners_count',\n",
    "                                  'engineDisplacement': 'engine_volume',\n",
    "                                  'fuelType': 'fuel_type',\n",
    "                                  'enginePower': 'engine_power',\n",
    "                                  'productionDate': 'year',\n",
    "                                  'vehicleTransmission': 'transmission',\n",
    "                                  'brand': 'model',\n",
    "                                  'bodyType': 'body_type'\n",
    "                                 \n",
    "                                 })\n"
   ]
  },
  {
   "cell_type": "code",
   "execution_count": 335,
   "metadata": {},
   "outputs": [],
   "source": [
    "df_train['price'] = pd.to_numeric(df_train['price'], errors='coerce')\n",
    "y = df_train['price']"
   ]
  },
  {
   "cell_type": "code",
   "execution_count": 336,
   "metadata": {},
   "outputs": [],
   "source": [
    "df_train['sample'] = 1 # помечаем где у нас трейн\n",
    "df_test['sample'] = 0 # помечаем где у нас тест\n",
    "\n",
    "columns = ['body_type',\n",
    "           'model',\n",
    "           'color',\n",
    "           'engine_volume',\n",
    "           'engine_power',\n",
    "           'fuel_type',\n",
    "           'mileage',\n",
    "           'year',\n",
    "           'transmission',\n",
    "           'owners_count',\n",
    "           'pts',\n",
    "           'drive',\n",
    "           'wheel',\n",
    "           'state',\n",
    "           'customs',\n",
    "           'sample'\n",
    "          ]\n",
    "df_train = df_train[columns]\n",
    "df_test = df_test[columns]"
   ]
  },
  {
   "cell_type": "code",
   "execution_count": 337,
   "metadata": {
    "scrolled": true
   },
   "outputs": [
    {
     "data": {
      "text/html": [
       "<div>\n",
       "<style scoped>\n",
       "    .dataframe tbody tr th:only-of-type {\n",
       "        vertical-align: middle;\n",
       "    }\n",
       "\n",
       "    .dataframe tbody tr th {\n",
       "        vertical-align: top;\n",
       "    }\n",
       "\n",
       "    .dataframe thead th {\n",
       "        text-align: right;\n",
       "    }\n",
       "</style>\n",
       "<table border=\"1\" class=\"dataframe\">\n",
       "  <thead>\n",
       "    <tr style=\"text-align: right;\">\n",
       "      <th></th>\n",
       "      <th>body_type</th>\n",
       "      <th>model</th>\n",
       "      <th>color</th>\n",
       "      <th>engine_volume</th>\n",
       "      <th>engine_power</th>\n",
       "      <th>fuel_type</th>\n",
       "      <th>mileage</th>\n",
       "      <th>year</th>\n",
       "      <th>transmission</th>\n",
       "      <th>owners_count</th>\n",
       "      <th>pts</th>\n",
       "      <th>drive</th>\n",
       "      <th>wheel</th>\n",
       "      <th>state</th>\n",
       "      <th>customs</th>\n",
       "      <th>sample</th>\n",
       "    </tr>\n",
       "  </thead>\n",
       "  <tbody>\n",
       "    <tr>\n",
       "      <th>29087</th>\n",
       "      <td>компактвэн</td>\n",
       "      <td>MITSUBISHI</td>\n",
       "      <td>серый</td>\n",
       "      <td>1.2</td>\n",
       "      <td>91.0</td>\n",
       "      <td>бензин</td>\n",
       "      <td>123000</td>\n",
       "      <td>2014</td>\n",
       "      <td>вариатор</td>\n",
       "      <td>3 или более</td>\n",
       "      <td>Оригинал</td>\n",
       "      <td>передний</td>\n",
       "      <td>Правый</td>\n",
       "      <td>Не требует ремонта</td>\n",
       "      <td>Растаможен</td>\n",
       "      <td>0</td>\n",
       "    </tr>\n",
       "    <tr>\n",
       "      <th>24719</th>\n",
       "      <td>фургон</td>\n",
       "      <td>VOLKSWAGEN</td>\n",
       "      <td>синий</td>\n",
       "      <td>2.0</td>\n",
       "      <td>140.0</td>\n",
       "      <td>дизель</td>\n",
       "      <td>129000</td>\n",
       "      <td>2011</td>\n",
       "      <td>механическая</td>\n",
       "      <td>1 владелец</td>\n",
       "      <td>Оригинал</td>\n",
       "      <td>передний</td>\n",
       "      <td>Левый</td>\n",
       "      <td>Не требует ремонта</td>\n",
       "      <td>Растаможен</td>\n",
       "      <td>0</td>\n",
       "    </tr>\n",
       "    <tr>\n",
       "      <th>21402</th>\n",
       "      <td>внедорожник 5 дв.</td>\n",
       "      <td>TOYOTA</td>\n",
       "      <td>чёрный</td>\n",
       "      <td>4.7</td>\n",
       "      <td>235.0</td>\n",
       "      <td>бензин</td>\n",
       "      <td>386000</td>\n",
       "      <td>2003</td>\n",
       "      <td>автоматическая</td>\n",
       "      <td>2 владельца</td>\n",
       "      <td>Оригинал</td>\n",
       "      <td>полный</td>\n",
       "      <td>Левый</td>\n",
       "      <td>Не требует ремонта</td>\n",
       "      <td>Растаможен</td>\n",
       "      <td>0</td>\n",
       "    </tr>\n",
       "    <tr>\n",
       "      <th>6946</th>\n",
       "      <td>внедорожник 5 дв.</td>\n",
       "      <td>VOLVO</td>\n",
       "      <td>бежевый</td>\n",
       "      <td>2.5</td>\n",
       "      <td>210.0</td>\n",
       "      <td>бензин</td>\n",
       "      <td>361501</td>\n",
       "      <td>2008</td>\n",
       "      <td>автоматическая</td>\n",
       "      <td>2 владельца</td>\n",
       "      <td>Оригинал</td>\n",
       "      <td>полный</td>\n",
       "      <td>Левый</td>\n",
       "      <td>Не требует ремонта</td>\n",
       "      <td>Растаможен</td>\n",
       "      <td>0</td>\n",
       "    </tr>\n",
       "    <tr>\n",
       "      <th>20961</th>\n",
       "      <td>хэтчбек 5 дв.</td>\n",
       "      <td>TOYOTA</td>\n",
       "      <td>красный</td>\n",
       "      <td>1.3</td>\n",
       "      <td>86.0</td>\n",
       "      <td>бензин</td>\n",
       "      <td>320000</td>\n",
       "      <td>1999</td>\n",
       "      <td>механическая</td>\n",
       "      <td>3 или более</td>\n",
       "      <td>Оригинал</td>\n",
       "      <td>передний</td>\n",
       "      <td>Левый</td>\n",
       "      <td>Не требует ремонта</td>\n",
       "      <td>Растаможен</td>\n",
       "      <td>0</td>\n",
       "    </tr>\n",
       "  </tbody>\n",
       "</table>\n",
       "</div>"
      ],
      "text/plain": [
       "               body_type       model    color  engine_volume  engine_power  \\\n",
       "29087         компактвэн  MITSUBISHI    серый            1.2          91.0   \n",
       "24719             фургон  VOLKSWAGEN    синий            2.0         140.0   \n",
       "21402  внедорожник 5 дв.      TOYOTA   чёрный            4.7         235.0   \n",
       "6946   внедорожник 5 дв.       VOLVO  бежевый            2.5         210.0   \n",
       "20961      хэтчбек 5 дв.      TOYOTA  красный            1.3          86.0   \n",
       "\n",
       "      fuel_type  mileage  year    transmission owners_count       pts  \\\n",
       "29087    бензин   123000  2014        вариатор  3 или более  Оригинал   \n",
       "24719    дизель   129000  2011    механическая   1 владелец  Оригинал   \n",
       "21402    бензин   386000  2003  автоматическая  2 владельца  Оригинал   \n",
       "6946     бензин   361501  2008  автоматическая  2 владельца  Оригинал   \n",
       "20961    бензин   320000  1999    механическая  3 или более  Оригинал   \n",
       "\n",
       "          drive   wheel               state     customs  sample  \n",
       "29087  передний  Правый  Не требует ремонта  Растаможен       0  \n",
       "24719  передний   Левый  Не требует ремонта  Растаможен       0  \n",
       "21402    полный   Левый  Не требует ремонта  Растаможен       0  \n",
       "6946     полный   Левый  Не требует ремонта  Растаможен       0  \n",
       "20961  передний   Левый  Не требует ремонта  Растаможен       0  "
      ]
     },
     "execution_count": 337,
     "metadata": {},
     "output_type": "execute_result"
    }
   ],
   "source": [
    "df_test.sample(5)"
   ]
  },
  {
   "cell_type": "code",
   "execution_count": 338,
   "metadata": {},
   "outputs": [
    {
     "data": {
      "text/plain": [
       "array(['3 или более', '1\\xa0владелец', '2\\xa0владельца'], dtype=object)"
      ]
     },
     "execution_count": 338,
     "metadata": {},
     "output_type": "execute_result"
    }
   ],
   "source": [
    "df_test.owners_count.unique()"
   ]
  },
  {
   "cell_type": "code",
   "execution_count": 339,
   "metadata": {},
   "outputs": [],
   "source": [
    "# ВАЖНО! дря корректной обработки признаков объединяем трейн и тест в один датасет\n",
    "data = df_test.append(df_train, sort=False).reset_index(drop=True) # объединяем"
   ]
  },
  {
   "cell_type": "code",
   "execution_count": 340,
   "metadata": {
    "scrolled": false
   },
   "outputs": [
    {
     "data": {
      "text/plain": [
       "array(['Jeep', 'Nissan', 'LADA (ВАЗ)', 'Hyundai', 'Renault', 'Toyota',\n",
       "       'Kia', 'Suzuki', 'Chevrolet', 'Volvo', 'Peugeot', 'Ford', 'ГАЗ',\n",
       "       'Mercedes-Benz', 'Audi', 'Mitsubishi', 'BMW', 'Volkswagen', 'Opel',\n",
       "       'Mazda', 'ЗАЗ', 'Dodge', 'Porsche', 'УАЗ', 'Great Wall', 'Skoda',\n",
       "       'Honda', 'Cadillac', 'Subaru', 'Infiniti', 'Citroen', 'Москвич',\n",
       "       'Ferrari', 'Chery', 'Lifan', 'Datsun', 'Daewoo', 'MINI', 'Lexus',\n",
       "       'Geely', 'Land Rover', 'Rover', 'Plymouth', 'SsangYong', 'TATA',\n",
       "       'ИЖ', 'Ravon', 'Isuzu', 'Daihatsu', 'GMC', 'Fiat', 'JAC',\n",
       "       'Lincoln', 'Saab', 'Bentley', 'Tesla', 'Genesis', 'HuangHai',\n",
       "       'Chrysler', 'Jaguar', 'Changan', 'Tianye', 'Brilliance', 'Haval',\n",
       "       'SEAT', 'Pontiac', 'ЛуАЗ', 'Hafei', 'Smart', 'BYD', 'Acura',\n",
       "       'Zotye', 'Maybach', 'Alfa Romeo', 'Saturn', 'ТагАЗ', 'Trabant',\n",
       "       'RAM', 'Haima', 'Vortex', 'Mercury', 'Xpeng', 'Hummer',\n",
       "       'Lamborghini', 'Derways', 'Rolls-Royce', 'BAIC', 'Lancia', 'Dacia',\n",
       "       'Buick', 'FAW', 'Спортивные авто и Реплики', 'Wanderer',\n",
       "       'ChangFeng', 'Maserati', 'Shanghai Maple', 'Iran Khodro',\n",
       "       'ShuangHuan', 'Oldsmobile', 'DS', 'Hawtai', 'Foton', 'Aro',\n",
       "       'Marussia', 'Scion', 'ZX', 'MG', 'Wartburg', 'PUCH', 'СМЗ',\n",
       "       'Proton', 'Willys', 'Doninvest', 'ЗиС', 'Fisker', 'McLaren',\n",
       "       'Auburn', 'Aston Martin', 'ЗИЛ', 'Borgward', 'Geo', 'DKW', 'Asia',\n",
       "       'Alpina', 'DW Hower', 'Adler', 'Triumph', 'DongFeng', 'Mahindra',\n",
       "       'Jinbei', 'Renault Samsung', 'Tatra', 'AC', 'Tianma', 'Packard',\n",
       "       'model', 'Lotus', 'Luxgen', 'Xin Kai', 'Chana', 'Zibar', 'GAC',\n",
       "       'Mitsuoka', 'FSO', 'Dadi', 'AMC', 'Комбат', 'CHERYEXEED', 'Tofas',\n",
       "       'Landwind', 'Bugatti', 'Ariel', 'Excalibur', 'Simca', 'Eagle',\n",
       "       'Hudson', 'Metrocab', 'Yulon', 'Канонир', 'Hanomag', 'Vauxhall',\n",
       "       'Ligier'], dtype=object)"
      ]
     },
     "execution_count": 340,
     "metadata": {},
     "output_type": "execute_result"
    }
   ],
   "source": [
    "df_train.model.unique()"
   ]
  },
  {
   "cell_type": "code",
   "execution_count": 341,
   "metadata": {},
   "outputs": [
    {
     "name": "stdout",
     "output_type": "stream",
     "text": [
      "<class 'pandas.core.frame.DataFrame'>\n",
      "RangeIndex: 570008 entries, 0 to 570007\n",
      "Data columns (total 16 columns):\n",
      " #   Column         Non-Null Count   Dtype \n",
      "---  ------         --------------   ----- \n",
      " 0   body_type      570008 non-null  object\n",
      " 1   model          570008 non-null  object\n",
      " 2   color          570008 non-null  object\n",
      " 3   engine_volume  570008 non-null  object\n",
      " 4   engine_power   570008 non-null  object\n",
      " 5   fuel_type      570008 non-null  object\n",
      " 6   mileage        570008 non-null  object\n",
      " 7   year           570008 non-null  object\n",
      " 8   transmission   570008 non-null  object\n",
      " 9   owners_count   570008 non-null  object\n",
      " 10  pts            570007 non-null  object\n",
      " 11  drive          570008 non-null  object\n",
      " 12  wheel          570008 non-null  object\n",
      " 13  state          570008 non-null  object\n",
      " 14  customs        570008 non-null  object\n",
      " 15  sample         570008 non-null  int64 \n",
      "dtypes: int64(1), object(15)\n",
      "memory usage: 69.6+ MB\n"
     ]
    }
   ],
   "source": [
    "data.info()"
   ]
  },
  {
   "cell_type": "code",
   "execution_count": 342,
   "metadata": {
    "scrolled": true
   },
   "outputs": [
    {
     "data": {
      "text/plain": [
       "body_type        0\n",
       "model            0\n",
       "color            0\n",
       "engine_volume    0\n",
       "engine_power     0\n",
       "fuel_type        0\n",
       "mileage          0\n",
       "year             0\n",
       "transmission     0\n",
       "owners_count     0\n",
       "pts              1\n",
       "drive            0\n",
       "wheel            0\n",
       "state            0\n",
       "customs          0\n",
       "sample           0\n",
       "dtype: int64"
      ]
     },
     "execution_count": 342,
     "metadata": {},
     "output_type": "execute_result"
    }
   ],
   "source": [
    "data.isna().sum()"
   ]
  },
  {
   "cell_type": "code",
   "execution_count": 343,
   "metadata": {},
   "outputs": [],
   "source": [
    "data.dropna(subset=['pts'], inplace=True)"
   ]
  },
  {
   "cell_type": "code",
   "execution_count": 344,
   "metadata": {},
   "outputs": [],
   "source": [
    "for colum in ['body_type', 'model', 'color', 'engine_volume', 'fuel_type', 'transmission', 'pts', 'drive', 'wheel', 'state', 'customs']:\n",
    "    data[colum] = data[colum].astype('category').cat.codes"
   ]
  },
  {
   "cell_type": "code",
   "execution_count": 345,
   "metadata": {},
   "outputs": [],
   "source": [
    "data['engine_power'] = pd.to_numeric(data['engine_power'], errors='coerce')\n",
    "data['mileage'] = pd.to_numeric(data['mileage'], errors='coerce')\n",
    "data['year'] = pd.to_numeric(data['year'], errors='coerce')\n",
    "data['owners_count'] = pd.to_numeric(data['owners_count'], errors='coerce')\n",
    "\n"
   ]
  },
  {
   "cell_type": "code",
   "execution_count": 346,
   "metadata": {},
   "outputs": [],
   "source": [
    "X = data.query('sample == 1').drop(['sample'], axis=1)\n",
    "X_sub = data.query('sample == 0').drop(['sample'], axis=1)"
   ]
  },
  {
   "cell_type": "code",
   "execution_count": 347,
   "metadata": {},
   "outputs": [],
   "source": [
    "X_train, X_test, y_train, y_test = train_test_split(X, y, test_size=VAL_SIZE, shuffle=True, random_state=RANDOM_SEED)"
   ]
  },
  {
   "cell_type": "code",
   "execution_count": 348,
   "metadata": {},
   "outputs": [],
   "source": [
    "tmp_train = X_train.copy()\n",
    "tmp_train['price'] = y_train"
   ]
  },
  {
   "cell_type": "code",
   "execution_count": 355,
   "metadata": {},
   "outputs": [],
   "source": [
    "def mape(y_true, y_pred):\n",
    "    return np.mean(np.abs((y_pred-y_true)/y_true))"
   ]
  },
  {
   "cell_type": "code",
   "execution_count": 356,
   "metadata": {
    "scrolled": true
   },
   "outputs": [
    {
     "name": "stdout",
     "output_type": "stream",
     "text": [
      "Точность наивной модели по метрике MAPE: 133.69%\n"
     ]
    }
   ],
   "source": [
    "# Находим median по экземплярам engineDisplacement в трейне и размечаем тест\n",
    "predict = X_test['engine_volume'].map(tmp_train.groupby('engine_volume')['price'].median())\n",
    "\n",
    "#оцениваем точность\n",
    "print(f\"Точность наивной модели по метрике MAPE: {(mape(y_test, predict.values))*100:0.2f}%\")"
   ]
  },
  {
   "cell_type": "code",
   "execution_count": 357,
   "metadata": {},
   "outputs": [
    {
     "data": {
      "text/plain": [
       "array([520000., 510000., 520000., ..., 520000., 515000., 510000.])"
      ]
     },
     "execution_count": 357,
     "metadata": {},
     "output_type": "execute_result"
    }
   ],
   "source": [
    "predict.values"
   ]
  },
  {
   "cell_type": "code",
   "execution_count": 349,
   "metadata": {},
   "outputs": [
    {
     "data": {
      "text/html": [
       "<div>\n",
       "<style scoped>\n",
       "    .dataframe tbody tr th:only-of-type {\n",
       "        vertical-align: middle;\n",
       "    }\n",
       "\n",
       "    .dataframe tbody tr th {\n",
       "        vertical-align: top;\n",
       "    }\n",
       "\n",
       "    .dataframe thead th {\n",
       "        text-align: right;\n",
       "    }\n",
       "</style>\n",
       "<table border=\"1\" class=\"dataframe\">\n",
       "  <thead>\n",
       "    <tr style=\"text-align: right;\">\n",
       "      <th></th>\n",
       "      <th>body_type</th>\n",
       "      <th>model</th>\n",
       "      <th>color</th>\n",
       "      <th>engine_volume</th>\n",
       "      <th>engine_power</th>\n",
       "      <th>fuel_type</th>\n",
       "      <th>mileage</th>\n",
       "      <th>year</th>\n",
       "      <th>transmission</th>\n",
       "      <th>owners_count</th>\n",
       "      <th>pts</th>\n",
       "      <th>drive</th>\n",
       "      <th>wheel</th>\n",
       "      <th>state</th>\n",
       "      <th>customs</th>\n",
       "      <th>sample</th>\n",
       "    </tr>\n",
       "  </thead>\n",
       "  <tbody>\n",
       "    <tr>\n",
       "      <th>0</th>\n",
       "      <td>9</td>\n",
       "      <td>122</td>\n",
       "      <td>14</td>\n",
       "      <td>9</td>\n",
       "      <td>105.0</td>\n",
       "      <td>10</td>\n",
       "      <td>74000.0</td>\n",
       "      <td>2014.0</td>\n",
       "      <td>4</td>\n",
       "      <td>NaN</td>\n",
       "      <td>2</td>\n",
       "      <td>2</td>\n",
       "      <td>1</td>\n",
       "      <td>2</td>\n",
       "      <td>2</td>\n",
       "      <td>0</td>\n",
       "    </tr>\n",
       "    <tr>\n",
       "      <th>1</th>\n",
       "      <td>9</td>\n",
       "      <td>122</td>\n",
       "      <td>16</td>\n",
       "      <td>13</td>\n",
       "      <td>110.0</td>\n",
       "      <td>10</td>\n",
       "      <td>60563.0</td>\n",
       "      <td>2017.0</td>\n",
       "      <td>3</td>\n",
       "      <td>NaN</td>\n",
       "      <td>2</td>\n",
       "      <td>2</td>\n",
       "      <td>1</td>\n",
       "      <td>2</td>\n",
       "      <td>2</td>\n",
       "      <td>0</td>\n",
       "    </tr>\n",
       "    <tr>\n",
       "      <th>2</th>\n",
       "      <td>9</td>\n",
       "      <td>122</td>\n",
       "      <td>13</td>\n",
       "      <td>15</td>\n",
       "      <td>152.0</td>\n",
       "      <td>10</td>\n",
       "      <td>88000.0</td>\n",
       "      <td>2014.0</td>\n",
       "      <td>4</td>\n",
       "      <td>NaN</td>\n",
       "      <td>2</td>\n",
       "      <td>2</td>\n",
       "      <td>1</td>\n",
       "      <td>2</td>\n",
       "      <td>2</td>\n",
       "      <td>0</td>\n",
       "    </tr>\n",
       "    <tr>\n",
       "      <th>3</th>\n",
       "      <td>9</td>\n",
       "      <td>122</td>\n",
       "      <td>7</td>\n",
       "      <td>13</td>\n",
       "      <td>110.0</td>\n",
       "      <td>10</td>\n",
       "      <td>95000.0</td>\n",
       "      <td>2014.0</td>\n",
       "      <td>1</td>\n",
       "      <td>NaN</td>\n",
       "      <td>2</td>\n",
       "      <td>2</td>\n",
       "      <td>1</td>\n",
       "      <td>2</td>\n",
       "      <td>2</td>\n",
       "      <td>0</td>\n",
       "    </tr>\n",
       "    <tr>\n",
       "      <th>4</th>\n",
       "      <td>9</td>\n",
       "      <td>122</td>\n",
       "      <td>2</td>\n",
       "      <td>15</td>\n",
       "      <td>152.0</td>\n",
       "      <td>10</td>\n",
       "      <td>58536.0</td>\n",
       "      <td>2012.0</td>\n",
       "      <td>1</td>\n",
       "      <td>NaN</td>\n",
       "      <td>2</td>\n",
       "      <td>2</td>\n",
       "      <td>1</td>\n",
       "      <td>2</td>\n",
       "      <td>2</td>\n",
       "      <td>0</td>\n",
       "    </tr>\n",
       "    <tr>\n",
       "      <th>...</th>\n",
       "      <td>...</td>\n",
       "      <td>...</td>\n",
       "      <td>...</td>\n",
       "      <td>...</td>\n",
       "      <td>...</td>\n",
       "      <td>...</td>\n",
       "      <td>...</td>\n",
       "      <td>...</td>\n",
       "      <td>...</td>\n",
       "      <td>...</td>\n",
       "      <td>...</td>\n",
       "      <td>...</td>\n",
       "      <td>...</td>\n",
       "      <td>...</td>\n",
       "      <td>...</td>\n",
       "      <td>...</td>\n",
       "    </tr>\n",
       "    <tr>\n",
       "      <th>570003</th>\n",
       "      <td>5</td>\n",
       "      <td>29</td>\n",
       "      <td>5</td>\n",
       "      <td>13</td>\n",
       "      <td>120.0</td>\n",
       "      <td>1</td>\n",
       "      <td>280343.0</td>\n",
       "      <td>2011.0</td>\n",
       "      <td>3</td>\n",
       "      <td>3.0</td>\n",
       "      <td>2</td>\n",
       "      <td>2</td>\n",
       "      <td>1</td>\n",
       "      <td>2</td>\n",
       "      <td>2</td>\n",
       "      <td>1</td>\n",
       "    </tr>\n",
       "    <tr>\n",
       "      <th>570004</th>\n",
       "      <td>1</td>\n",
       "      <td>77</td>\n",
       "      <td>5</td>\n",
       "      <td>14</td>\n",
       "      <td>79.0</td>\n",
       "      <td>1</td>\n",
       "      <td>184000.0</td>\n",
       "      <td>2008.0</td>\n",
       "      <td>3</td>\n",
       "      <td>2.0</td>\n",
       "      <td>2</td>\n",
       "      <td>3</td>\n",
       "      <td>1</td>\n",
       "      <td>2</td>\n",
       "      <td>2</td>\n",
       "      <td>1</td>\n",
       "    </tr>\n",
       "    <tr>\n",
       "      <th>570005</th>\n",
       "      <td>2</td>\n",
       "      <td>147</td>\n",
       "      <td>2</td>\n",
       "      <td>17</td>\n",
       "      <td>170.0</td>\n",
       "      <td>1</td>\n",
       "      <td>193000.0</td>\n",
       "      <td>2013.0</td>\n",
       "      <td>1</td>\n",
       "      <td>2.0</td>\n",
       "      <td>2</td>\n",
       "      <td>3</td>\n",
       "      <td>1</td>\n",
       "      <td>2</td>\n",
       "      <td>2</td>\n",
       "      <td>1</td>\n",
       "    </tr>\n",
       "    <tr>\n",
       "      <th>570006</th>\n",
       "      <td>16</td>\n",
       "      <td>54</td>\n",
       "      <td>2</td>\n",
       "      <td>30</td>\n",
       "      <td>370.0</td>\n",
       "      <td>1</td>\n",
       "      <td>149696.0</td>\n",
       "      <td>2017.0</td>\n",
       "      <td>1</td>\n",
       "      <td>3.0</td>\n",
       "      <td>2</td>\n",
       "      <td>3</td>\n",
       "      <td>1</td>\n",
       "      <td>2</td>\n",
       "      <td>2</td>\n",
       "      <td>1</td>\n",
       "    </tr>\n",
       "    <tr>\n",
       "      <th>570007</th>\n",
       "      <td>2</td>\n",
       "      <td>129</td>\n",
       "      <td>7</td>\n",
       "      <td>15</td>\n",
       "      <td>152.0</td>\n",
       "      <td>1</td>\n",
       "      <td>67000.0</td>\n",
       "      <td>2014.0</td>\n",
       "      <td>4</td>\n",
       "      <td>3.0</td>\n",
       "      <td>2</td>\n",
       "      <td>3</td>\n",
       "      <td>1</td>\n",
       "      <td>2</td>\n",
       "      <td>2</td>\n",
       "      <td>1</td>\n",
       "    </tr>\n",
       "  </tbody>\n",
       "</table>\n",
       "<p>570007 rows × 16 columns</p>\n",
       "</div>"
      ],
      "text/plain": [
       "        body_type  model  color  engine_volume  engine_power  fuel_type  \\\n",
       "0               9    122     14              9         105.0         10   \n",
       "1               9    122     16             13         110.0         10   \n",
       "2               9    122     13             15         152.0         10   \n",
       "3               9    122      7             13         110.0         10   \n",
       "4               9    122      2             15         152.0         10   \n",
       "...           ...    ...    ...            ...           ...        ...   \n",
       "570003          5     29      5             13         120.0          1   \n",
       "570004          1     77      5             14          79.0          1   \n",
       "570005          2    147      2             17         170.0          1   \n",
       "570006         16     54      2             30         370.0          1   \n",
       "570007          2    129      7             15         152.0          1   \n",
       "\n",
       "         mileage    year  transmission  owners_count  pts  drive  wheel  \\\n",
       "0        74000.0  2014.0             4           NaN    2      2      1   \n",
       "1        60563.0  2017.0             3           NaN    2      2      1   \n",
       "2        88000.0  2014.0             4           NaN    2      2      1   \n",
       "3        95000.0  2014.0             1           NaN    2      2      1   \n",
       "4        58536.0  2012.0             1           NaN    2      2      1   \n",
       "...          ...     ...           ...           ...  ...    ...    ...   \n",
       "570003  280343.0  2011.0             3           3.0    2      2      1   \n",
       "570004  184000.0  2008.0             3           2.0    2      3      1   \n",
       "570005  193000.0  2013.0             1           2.0    2      3      1   \n",
       "570006  149696.0  2017.0             1           3.0    2      3      1   \n",
       "570007   67000.0  2014.0             4           3.0    2      3      1   \n",
       "\n",
       "        state  customs  sample  \n",
       "0           2        2       0  \n",
       "1           2        2       0  \n",
       "2           2        2       0  \n",
       "3           2        2       0  \n",
       "4           2        2       0  \n",
       "...       ...      ...     ...  \n",
       "570003      2        2       1  \n",
       "570004      2        2       1  \n",
       "570005      2        2       1  \n",
       "570006      2        2       1  \n",
       "570007      2        2       1  \n",
       "\n",
       "[570007 rows x 16 columns]"
      ]
     },
     "execution_count": 349,
     "metadata": {},
     "output_type": "execute_result"
    }
   ],
   "source": [
    "data"
   ]
  },
  {
   "cell_type": "code",
   "execution_count": 358,
   "metadata": {},
   "outputs": [
    {
     "name": "stderr",
     "output_type": "stream",
     "text": [
      "Custom logger is already specified. Specify more than one logger at same time is not thread safe."
     ]
    },
    {
     "ename": "CatBoostError",
     "evalue": "C:/Program Files (x86)/Go Agent/pipelines/BuildMaster/catboost.git/catboost/libs/metrics/metric.cpp:6477: metric/loss-function RMSE do not allows nan value on target",
     "output_type": "error",
     "traceback": [
      "\u001b[1;31m---------------------------------------------------------------------------\u001b[0m",
      "\u001b[1;31mCatBoostError\u001b[0m                             Traceback (most recent call last)",
      "\u001b[1;32m<ipython-input-358-f38ca1ad838f>\u001b[0m in \u001b[0;36m<module>\u001b[1;34m\u001b[0m\n\u001b[0;32m      5\u001b[0m                           \u001b[0msilent\u001b[0m\u001b[1;33m=\u001b[0m\u001b[1;32mTrue\u001b[0m\u001b[1;33m,\u001b[0m\u001b[1;33m\u001b[0m\u001b[1;33m\u001b[0m\u001b[0m\n\u001b[0;32m      6\u001b[0m                          )\n\u001b[1;32m----> 7\u001b[1;33m model.fit(X_train, y_train,\n\u001b[0m\u001b[0;32m      8\u001b[0m          \u001b[1;31m#cat_features=cat_features_ids,\u001b[0m\u001b[1;33m\u001b[0m\u001b[1;33m\u001b[0m\u001b[1;33m\u001b[0m\u001b[0m\n\u001b[0;32m      9\u001b[0m          \u001b[0meval_set\u001b[0m\u001b[1;33m=\u001b[0m\u001b[1;33m(\u001b[0m\u001b[0mX_test\u001b[0m\u001b[1;33m,\u001b[0m \u001b[0my_test\u001b[0m\u001b[1;33m)\u001b[0m\u001b[1;33m,\u001b[0m\u001b[1;33m\u001b[0m\u001b[1;33m\u001b[0m\u001b[0m\n",
      "\u001b[1;32m~\\anaconda3\\lib\\site-packages\\catboost\\core.py\u001b[0m in \u001b[0;36mfit\u001b[1;34m(self, X, y, cat_features, sample_weight, baseline, use_best_model, eval_set, verbose, logging_level, plot, column_description, verbose_eval, metric_period, silent, early_stopping_rounds, save_snapshot, snapshot_file, snapshot_interval, init_model, callbacks, log_cout, log_cerr)\u001b[0m\n\u001b[0;32m   5256\u001b[0m             \u001b[0mCatBoostRegressor\u001b[0m\u001b[1;33m.\u001b[0m\u001b[0m_check_is_compatible_loss\u001b[0m\u001b[1;33m(\u001b[0m\u001b[0mparams\u001b[0m\u001b[1;33m[\u001b[0m\u001b[1;34m'loss_function'\u001b[0m\u001b[1;33m]\u001b[0m\u001b[1;33m)\u001b[0m\u001b[1;33m\u001b[0m\u001b[1;33m\u001b[0m\u001b[0m\n\u001b[0;32m   5257\u001b[0m \u001b[1;33m\u001b[0m\u001b[0m\n\u001b[1;32m-> 5258\u001b[1;33m         return self._fit(X, y, cat_features, None, None, None, sample_weight, None, None, None, None, baseline,\n\u001b[0m\u001b[0;32m   5259\u001b[0m                          \u001b[0muse_best_model\u001b[0m\u001b[1;33m,\u001b[0m \u001b[0meval_set\u001b[0m\u001b[1;33m,\u001b[0m \u001b[0mverbose\u001b[0m\u001b[1;33m,\u001b[0m \u001b[0mlogging_level\u001b[0m\u001b[1;33m,\u001b[0m \u001b[0mplot\u001b[0m\u001b[1;33m,\u001b[0m \u001b[0mcolumn_description\u001b[0m\u001b[1;33m,\u001b[0m\u001b[1;33m\u001b[0m\u001b[1;33m\u001b[0m\u001b[0m\n\u001b[0;32m   5260\u001b[0m                          \u001b[0mverbose_eval\u001b[0m\u001b[1;33m,\u001b[0m \u001b[0mmetric_period\u001b[0m\u001b[1;33m,\u001b[0m \u001b[0msilent\u001b[0m\u001b[1;33m,\u001b[0m \u001b[0mearly_stopping_rounds\u001b[0m\u001b[1;33m,\u001b[0m\u001b[1;33m\u001b[0m\u001b[1;33m\u001b[0m\u001b[0m\n",
      "\u001b[1;32m~\\anaconda3\\lib\\site-packages\\catboost\\core.py\u001b[0m in \u001b[0;36m_fit\u001b[1;34m(self, X, y, cat_features, text_features, embedding_features, pairs, sample_weight, group_id, group_weight, subgroup_id, pairs_weight, baseline, use_best_model, eval_set, verbose, logging_level, plot, column_description, verbose_eval, metric_period, silent, early_stopping_rounds, save_snapshot, snapshot_file, snapshot_interval, init_model, callbacks, log_cout, log_cerr)\u001b[0m\n\u001b[0;32m   1995\u001b[0m         \u001b[1;32mwith\u001b[0m \u001b[0mlog_fixup\u001b[0m\u001b[1;33m(\u001b[0m\u001b[0mlog_cout\u001b[0m\u001b[1;33m,\u001b[0m \u001b[0mlog_cerr\u001b[0m\u001b[1;33m)\u001b[0m\u001b[1;33m,\u001b[0m\u001b[0;31m \u001b[0m\u001b[0;31m\\\u001b[0m\u001b[1;33m\u001b[0m\u001b[1;33m\u001b[0m\u001b[0m\n\u001b[0;32m   1996\u001b[0m             \u001b[0mplot_wrapper\u001b[0m\u001b[1;33m(\u001b[0m\u001b[0mplot\u001b[0m\u001b[1;33m,\u001b[0m \u001b[1;33m[\u001b[0m\u001b[0m_get_train_dir\u001b[0m\u001b[1;33m(\u001b[0m\u001b[0mself\u001b[0m\u001b[1;33m.\u001b[0m\u001b[0mget_params\u001b[0m\u001b[1;33m(\u001b[0m\u001b[1;33m)\u001b[0m\u001b[1;33m)\u001b[0m\u001b[1;33m]\u001b[0m\u001b[1;33m)\u001b[0m\u001b[1;33m:\u001b[0m\u001b[1;33m\u001b[0m\u001b[1;33m\u001b[0m\u001b[0m\n\u001b[1;32m-> 1997\u001b[1;33m             self._train(\n\u001b[0m\u001b[0;32m   1998\u001b[0m                 \u001b[0mtrain_pool\u001b[0m\u001b[1;33m,\u001b[0m\u001b[1;33m\u001b[0m\u001b[1;33m\u001b[0m\u001b[0m\n\u001b[0;32m   1999\u001b[0m                 \u001b[0mtrain_params\u001b[0m\u001b[1;33m[\u001b[0m\u001b[1;34m\"eval_sets\"\u001b[0m\u001b[1;33m]\u001b[0m\u001b[1;33m,\u001b[0m\u001b[1;33m\u001b[0m\u001b[1;33m\u001b[0m\u001b[0m\n",
      "\u001b[1;32m~\\anaconda3\\lib\\site-packages\\catboost\\core.py\u001b[0m in \u001b[0;36m_train\u001b[1;34m(self, train_pool, test_pool, params, allow_clear_pool, init_model)\u001b[0m\n\u001b[0;32m   1426\u001b[0m \u001b[1;33m\u001b[0m\u001b[0m\n\u001b[0;32m   1427\u001b[0m     \u001b[1;32mdef\u001b[0m \u001b[0m_train\u001b[0m\u001b[1;33m(\u001b[0m\u001b[0mself\u001b[0m\u001b[1;33m,\u001b[0m \u001b[0mtrain_pool\u001b[0m\u001b[1;33m,\u001b[0m \u001b[0mtest_pool\u001b[0m\u001b[1;33m,\u001b[0m \u001b[0mparams\u001b[0m\u001b[1;33m,\u001b[0m \u001b[0mallow_clear_pool\u001b[0m\u001b[1;33m,\u001b[0m \u001b[0minit_model\u001b[0m\u001b[1;33m)\u001b[0m\u001b[1;33m:\u001b[0m\u001b[1;33m\u001b[0m\u001b[1;33m\u001b[0m\u001b[0m\n\u001b[1;32m-> 1428\u001b[1;33m         \u001b[0mself\u001b[0m\u001b[1;33m.\u001b[0m\u001b[0m_object\u001b[0m\u001b[1;33m.\u001b[0m\u001b[0m_train\u001b[0m\u001b[1;33m(\u001b[0m\u001b[0mtrain_pool\u001b[0m\u001b[1;33m,\u001b[0m \u001b[0mtest_pool\u001b[0m\u001b[1;33m,\u001b[0m \u001b[0mparams\u001b[0m\u001b[1;33m,\u001b[0m \u001b[0mallow_clear_pool\u001b[0m\u001b[1;33m,\u001b[0m \u001b[0minit_model\u001b[0m\u001b[1;33m.\u001b[0m\u001b[0m_object\u001b[0m \u001b[1;32mif\u001b[0m \u001b[0minit_model\u001b[0m \u001b[1;32melse\u001b[0m \u001b[1;32mNone\u001b[0m\u001b[1;33m)\u001b[0m\u001b[1;33m\u001b[0m\u001b[1;33m\u001b[0m\u001b[0m\n\u001b[0m\u001b[0;32m   1429\u001b[0m         \u001b[0mself\u001b[0m\u001b[1;33m.\u001b[0m\u001b[0m_set_trained_model_attributes\u001b[0m\u001b[1;33m(\u001b[0m\u001b[1;33m)\u001b[0m\u001b[1;33m\u001b[0m\u001b[1;33m\u001b[0m\u001b[0m\n\u001b[0;32m   1430\u001b[0m \u001b[1;33m\u001b[0m\u001b[0m\n",
      "\u001b[1;32m_catboost.pyx\u001b[0m in \u001b[0;36m_catboost._CatBoost._train\u001b[1;34m()\u001b[0m\n",
      "\u001b[1;32m_catboost.pyx\u001b[0m in \u001b[0;36m_catboost._CatBoost._train\u001b[1;34m()\u001b[0m\n",
      "\u001b[1;31mCatBoostError\u001b[0m: C:/Program Files (x86)/Go Agent/pipelines/BuildMaster/catboost.git/catboost/libs/metrics/metric.cpp:6477: metric/loss-function RMSE do not allows nan value on target"
     ]
    }
   ],
   "source": [
    "model = CatBoostRegressor(iterations = 5000,\n",
    "                          random_seed = RANDOM_SEED,\n",
    "                          eval_metric='MAPE',\n",
    "                          custom_metric=['R2', 'MAE'],\n",
    "                          silent=True,\n",
    "                         )\n",
    "model.fit(X_train, y_train,\n",
    "         #cat_features=cat_features_ids,\n",
    "         eval_set=(X_test, y_test),\n",
    "         verbose_eval=0,\n",
    "         use_best_model=True,\n",
    "         #plot=True\n",
    "         )\n",
    "\n",
    "model.save_model('catboost_single_model_baseline.model')"
   ]
  },
  {
   "cell_type": "code",
   "execution_count": 359,
   "metadata": {},
   "outputs": [
    {
     "ename": "CatBoostError",
     "evalue": "There is no trained model to use predict(). Use fit() to train model. Then use this method.",
     "output_type": "error",
     "traceback": [
      "\u001b[1;31m---------------------------------------------------------------------------\u001b[0m",
      "\u001b[1;31mCatBoostError\u001b[0m                             Traceback (most recent call last)",
      "\u001b[1;32m<ipython-input-359-edd40f8d62e8>\u001b[0m in \u001b[0;36m<module>\u001b[1;34m\u001b[0m\n\u001b[0;32m      1\u001b[0m \u001b[1;31m# оцениваем точность\u001b[0m\u001b[1;33m\u001b[0m\u001b[1;33m\u001b[0m\u001b[1;33m\u001b[0m\u001b[0m\n\u001b[1;32m----> 2\u001b[1;33m \u001b[0mpredict\u001b[0m \u001b[1;33m=\u001b[0m \u001b[0mmodel\u001b[0m\u001b[1;33m.\u001b[0m\u001b[0mpredict\u001b[0m\u001b[1;33m(\u001b[0m\u001b[0mX_test\u001b[0m\u001b[1;33m)\u001b[0m\u001b[1;33m\u001b[0m\u001b[1;33m\u001b[0m\u001b[0m\n\u001b[0m\u001b[0;32m      3\u001b[0m \u001b[0mprint\u001b[0m\u001b[1;33m(\u001b[0m\u001b[1;34mf\"Точность модели по метрике MAPE: {(mape(y_test, predict))*100:0.2f}%\"\u001b[0m\u001b[1;33m)\u001b[0m\u001b[1;33m\u001b[0m\u001b[1;33m\u001b[0m\u001b[0m\n",
      "\u001b[1;32m~\\anaconda3\\lib\\site-packages\\catboost\\core.py\u001b[0m in \u001b[0;36mpredict\u001b[1;34m(self, data, prediction_type, ntree_start, ntree_end, thread_count, verbose, task_type)\u001b[0m\n\u001b[0;32m   5301\u001b[0m         \u001b[1;32mif\u001b[0m \u001b[0mprediction_type\u001b[0m \u001b[1;32mis\u001b[0m \u001b[1;32mNone\u001b[0m\u001b[1;33m:\u001b[0m\u001b[1;33m\u001b[0m\u001b[1;33m\u001b[0m\u001b[0m\n\u001b[0;32m   5302\u001b[0m             \u001b[0mprediction_type\u001b[0m \u001b[1;33m=\u001b[0m \u001b[0mself\u001b[0m\u001b[1;33m.\u001b[0m\u001b[0m_get_default_prediction_type\u001b[0m\u001b[1;33m(\u001b[0m\u001b[1;33m)\u001b[0m\u001b[1;33m\u001b[0m\u001b[1;33m\u001b[0m\u001b[0m\n\u001b[1;32m-> 5303\u001b[1;33m         \u001b[1;32mreturn\u001b[0m \u001b[0mself\u001b[0m\u001b[1;33m.\u001b[0m\u001b[0m_predict\u001b[0m\u001b[1;33m(\u001b[0m\u001b[0mdata\u001b[0m\u001b[1;33m,\u001b[0m \u001b[0mprediction_type\u001b[0m\u001b[1;33m,\u001b[0m \u001b[0mntree_start\u001b[0m\u001b[1;33m,\u001b[0m \u001b[0mntree_end\u001b[0m\u001b[1;33m,\u001b[0m \u001b[0mthread_count\u001b[0m\u001b[1;33m,\u001b[0m \u001b[0mverbose\u001b[0m\u001b[1;33m,\u001b[0m \u001b[1;34m'predict'\u001b[0m\u001b[1;33m,\u001b[0m \u001b[0mtask_type\u001b[0m\u001b[1;33m)\u001b[0m\u001b[1;33m\u001b[0m\u001b[1;33m\u001b[0m\u001b[0m\n\u001b[0m\u001b[0;32m   5304\u001b[0m \u001b[1;33m\u001b[0m\u001b[0m\n\u001b[0;32m   5305\u001b[0m     \u001b[1;32mdef\u001b[0m \u001b[0mstaged_predict\u001b[0m\u001b[1;33m(\u001b[0m\u001b[0mself\u001b[0m\u001b[1;33m,\u001b[0m \u001b[0mdata\u001b[0m\u001b[1;33m,\u001b[0m \u001b[0mprediction_type\u001b[0m\u001b[1;33m=\u001b[0m\u001b[1;34m'RawFormulaVal'\u001b[0m\u001b[1;33m,\u001b[0m \u001b[0mntree_start\u001b[0m\u001b[1;33m=\u001b[0m\u001b[1;36m0\u001b[0m\u001b[1;33m,\u001b[0m \u001b[0mntree_end\u001b[0m\u001b[1;33m=\u001b[0m\u001b[1;36m0\u001b[0m\u001b[1;33m,\u001b[0m \u001b[0meval_period\u001b[0m\u001b[1;33m=\u001b[0m\u001b[1;36m1\u001b[0m\u001b[1;33m,\u001b[0m \u001b[0mthread_count\u001b[0m\u001b[1;33m=\u001b[0m\u001b[1;33m-\u001b[0m\u001b[1;36m1\u001b[0m\u001b[1;33m,\u001b[0m \u001b[0mverbose\u001b[0m\u001b[1;33m=\u001b[0m\u001b[1;32mNone\u001b[0m\u001b[1;33m)\u001b[0m\u001b[1;33m:\u001b[0m\u001b[1;33m\u001b[0m\u001b[1;33m\u001b[0m\u001b[0m\n",
      "\u001b[1;32m~\\anaconda3\\lib\\site-packages\\catboost\\core.py\u001b[0m in \u001b[0;36m_predict\u001b[1;34m(self, data, prediction_type, ntree_start, ntree_end, thread_count, verbose, parent_method_name, task_type)\u001b[0m\n\u001b[0;32m   2175\u001b[0m         \u001b[1;32mif\u001b[0m \u001b[0mverbose\u001b[0m \u001b[1;32mis\u001b[0m \u001b[1;32mNone\u001b[0m\u001b[1;33m:\u001b[0m\u001b[1;33m\u001b[0m\u001b[1;33m\u001b[0m\u001b[0m\n\u001b[0;32m   2176\u001b[0m             \u001b[0mverbose\u001b[0m \u001b[1;33m=\u001b[0m \u001b[1;32mFalse\u001b[0m\u001b[1;33m\u001b[0m\u001b[1;33m\u001b[0m\u001b[0m\n\u001b[1;32m-> 2177\u001b[1;33m         \u001b[0mdata\u001b[0m\u001b[1;33m,\u001b[0m \u001b[0mdata_is_single_object\u001b[0m \u001b[1;33m=\u001b[0m \u001b[0mself\u001b[0m\u001b[1;33m.\u001b[0m\u001b[0m_process_predict_input_data\u001b[0m\u001b[1;33m(\u001b[0m\u001b[0mdata\u001b[0m\u001b[1;33m,\u001b[0m \u001b[0mparent_method_name\u001b[0m\u001b[1;33m,\u001b[0m \u001b[0mthread_count\u001b[0m\u001b[1;33m)\u001b[0m\u001b[1;33m\u001b[0m\u001b[1;33m\u001b[0m\u001b[0m\n\u001b[0m\u001b[0;32m   2178\u001b[0m         \u001b[0mself\u001b[0m\u001b[1;33m.\u001b[0m\u001b[0m_validate_prediction_type\u001b[0m\u001b[1;33m(\u001b[0m\u001b[0mprediction_type\u001b[0m\u001b[1;33m)\u001b[0m\u001b[1;33m\u001b[0m\u001b[1;33m\u001b[0m\u001b[0m\n\u001b[0;32m   2179\u001b[0m \u001b[1;33m\u001b[0m\u001b[0m\n",
      "\u001b[1;32m~\\anaconda3\\lib\\site-packages\\catboost\\core.py\u001b[0m in \u001b[0;36m_process_predict_input_data\u001b[1;34m(self, data, parent_method_name, thread_count, label)\u001b[0m\n\u001b[0;32m   2151\u001b[0m     \u001b[1;32mdef\u001b[0m \u001b[0m_process_predict_input_data\u001b[0m\u001b[1;33m(\u001b[0m\u001b[0mself\u001b[0m\u001b[1;33m,\u001b[0m \u001b[0mdata\u001b[0m\u001b[1;33m,\u001b[0m \u001b[0mparent_method_name\u001b[0m\u001b[1;33m,\u001b[0m \u001b[0mthread_count\u001b[0m\u001b[1;33m,\u001b[0m \u001b[0mlabel\u001b[0m\u001b[1;33m=\u001b[0m\u001b[1;32mNone\u001b[0m\u001b[1;33m)\u001b[0m\u001b[1;33m:\u001b[0m\u001b[1;33m\u001b[0m\u001b[1;33m\u001b[0m\u001b[0m\n\u001b[0;32m   2152\u001b[0m         \u001b[1;32mif\u001b[0m \u001b[1;32mnot\u001b[0m \u001b[0mself\u001b[0m\u001b[1;33m.\u001b[0m\u001b[0mis_fitted\u001b[0m\u001b[1;33m(\u001b[0m\u001b[1;33m)\u001b[0m \u001b[1;32mor\u001b[0m \u001b[0mself\u001b[0m\u001b[1;33m.\u001b[0m\u001b[0mtree_count_\u001b[0m \u001b[1;32mis\u001b[0m \u001b[1;32mNone\u001b[0m\u001b[1;33m:\u001b[0m\u001b[1;33m\u001b[0m\u001b[1;33m\u001b[0m\u001b[0m\n\u001b[1;32m-> 2153\u001b[1;33m             raise CatBoostError((\"There is no trained model to use {}(). \"\n\u001b[0m\u001b[0;32m   2154\u001b[0m                                  \"Use fit() to train model. Then use this method.\").format(parent_method_name))\n\u001b[0;32m   2155\u001b[0m         \u001b[0mis_single_object\u001b[0m \u001b[1;33m=\u001b[0m \u001b[0m_is_data_single_object\u001b[0m\u001b[1;33m(\u001b[0m\u001b[0mdata\u001b[0m\u001b[1;33m)\u001b[0m\u001b[1;33m\u001b[0m\u001b[1;33m\u001b[0m\u001b[0m\n",
      "\u001b[1;31mCatBoostError\u001b[0m: There is no trained model to use predict(). Use fit() to train model. Then use this method."
     ]
    }
   ],
   "source": [
    "# оцениваем точность\n",
    "predict = model.predict(X_test)\n",
    "print(f\"Точность модели по метрике MAPE: {(mape(y_test, predict))*100:0.2f}%\")"
   ]
  },
  {
   "cell_type": "code",
   "execution_count": null,
   "metadata": {},
   "outputs": [],
   "source": []
  },
  {
   "cell_type": "code",
   "execution_count": null,
   "metadata": {},
   "outputs": [],
   "source": []
  },
  {
   "cell_type": "code",
   "execution_count": null,
   "metadata": {},
   "outputs": [],
   "source": []
  },
  {
   "cell_type": "code",
   "execution_count": null,
   "metadata": {},
   "outputs": [],
   "source": []
  },
  {
   "cell_type": "code",
   "execution_count": null,
   "metadata": {},
   "outputs": [],
   "source": []
  },
  {
   "cell_type": "code",
   "execution_count": null,
   "metadata": {},
   "outputs": [],
   "source": []
  },
  {
   "cell_type": "code",
   "execution_count": null,
   "metadata": {},
   "outputs": [],
   "source": []
  },
  {
   "cell_type": "code",
   "execution_count": null,
   "metadata": {},
   "outputs": [],
   "source": []
  },
  {
   "cell_type": "code",
   "execution_count": 7,
   "metadata": {
    "scrolled": true
   },
   "outputs": [
    {
     "name": "stdout",
     "output_type": "stream",
     "text": [
      "<class 'pandas.core.frame.DataFrame'>\n",
      "RangeIndex: 535479 entries, 0 to 535478\n",
      "Data columns (total 30 columns):\n",
      " #   Column         Non-Null Count   Dtype \n",
      "---  ------         --------------   ----- \n",
      " 0   brand          535413 non-null  object\n",
      " 1   model          535413 non-null  object\n",
      " 2   generation     535379 non-null  object\n",
      " 3   date_posted    535413 non-null  object\n",
      " 4   views_total    512687 non-null  object\n",
      " 5   views_today    512687 non-null  object\n",
      " 6   offer_id       535413 non-null  object\n",
      " 7   year           535413 non-null  object\n",
      " 8   mileage        535413 non-null  object\n",
      " 9   body_type      535379 non-null  object\n",
      " 10  color          535413 non-null  object\n",
      " 11  fuel_type      535377 non-null  object\n",
      " 12  engine_volume  535377 non-null  object\n",
      " 13  engine_power   535377 non-null  object\n",
      " 14  transmission   535377 non-null  object\n",
      " 15  drive          535377 non-null  object\n",
      " 16  wheel          535413 non-null  object\n",
      " 17  state          535413 non-null  object\n",
      " 18  owners_count   535378 non-null  object\n",
      " 19  pts            535393 non-null  object\n",
      " 20  customs        535413 non-null  object\n",
      " 21  exchange       122332 non-null  object\n",
      " 22  vin            519523 non-null  object\n",
      " 23  license_plate  415179 non-null  object\n",
      " 24  photos_count   535479 non-null  object\n",
      " 25  complectation  316920 non-null  object\n",
      " 26  price          528041 non-null  object\n",
      " 27  url            535479 non-null  object\n",
      " 28  catalog_link   535377 non-null  object\n",
      " 29  orig_url       535479 non-null  object\n",
      "dtypes: object(30)\n",
      "memory usage: 1.5 GB\n"
     ]
    }
   ],
   "source": [
    "df.info(memory_usage='deep')"
   ]
  },
  {
   "cell_type": "code",
   "execution_count": 8,
   "metadata": {
    "scrolled": true
   },
   "outputs": [
    {
     "data": {
      "text/plain": [
       "brand                66\n",
       "model                66\n",
       "generation          100\n",
       "date_posted          66\n",
       "views_total       22792\n",
       "views_today       22792\n",
       "offer_id             66\n",
       "year                 66\n",
       "mileage              66\n",
       "body_type           100\n",
       "color                66\n",
       "fuel_type           102\n",
       "engine_volume       102\n",
       "engine_power        102\n",
       "transmission        102\n",
       "drive               102\n",
       "wheel                66\n",
       "state                66\n",
       "owners_count        101\n",
       "pts                  86\n",
       "customs              66\n",
       "exchange         413147\n",
       "vin               15956\n",
       "license_plate    120300\n",
       "photos_count          0\n",
       "complectation    218559\n",
       "price              7438\n",
       "url                   0\n",
       "catalog_link        102\n",
       "orig_url              0\n",
       "dtype: int64"
      ]
     },
     "execution_count": 8,
     "metadata": {},
     "output_type": "execute_result"
    }
   ],
   "source": [
    "df.isna().sum()"
   ]
  },
  {
   "cell_type": "code",
   "execution_count": 9,
   "metadata": {},
   "outputs": [],
   "source": [
    "df = df.dropna(subset=['price'])"
   ]
  },
  {
   "cell_type": "code",
   "execution_count": 10,
   "metadata": {},
   "outputs": [],
   "source": [
    "df = df.dropna(subset = ['body_type'])"
   ]
  },
  {
   "cell_type": "code",
   "execution_count": 11,
   "metadata": {},
   "outputs": [],
   "source": [
    "df.dropna(subset=['views_total', 'views_today'], inplace = True)\n",
    "df.drop(columns = ['views_today'], inplace = True)"
   ]
  },
  {
   "cell_type": "code",
   "execution_count": 12,
   "metadata": {
    "scrolled": true
   },
   "outputs": [
    {
     "data": {
      "text/plain": [
       "brand                 0\n",
       "model                 0\n",
       "generation            0\n",
       "date_posted           0\n",
       "views_total           0\n",
       "offer_id              0\n",
       "year                  0\n",
       "mileage               0\n",
       "body_type             0\n",
       "color                 0\n",
       "fuel_type             2\n",
       "engine_volume         2\n",
       "engine_power          2\n",
       "transmission          2\n",
       "drive                 2\n",
       "wheel                 0\n",
       "state                 0\n",
       "owners_count         32\n",
       "pts                  19\n",
       "customs               0\n",
       "exchange         389817\n",
       "vin               15044\n",
       "license_plate    113154\n",
       "photos_count          0\n",
       "complectation    206216\n",
       "price                 0\n",
       "url                   0\n",
       "catalog_link          2\n",
       "orig_url              0\n",
       "dtype: int64"
      ]
     },
     "execution_count": 12,
     "metadata": {},
     "output_type": "execute_result"
    }
   ],
   "source": [
    "df.isna().sum()"
   ]
  },
  {
   "cell_type": "code",
   "execution_count": 30,
   "metadata": {},
   "outputs": [],
   "source": [
    "df = df.dropna(subset=['owners_count'])"
   ]
  },
  {
   "cell_type": "code",
   "execution_count": 31,
   "metadata": {
    "scrolled": true
   },
   "outputs": [
    {
     "data": {
      "text/plain": [
       "brand                 0\n",
       "model                 0\n",
       "generation            0\n",
       "date_posted           0\n",
       "views_total           0\n",
       "offer_id              0\n",
       "year                  0\n",
       "mileage               0\n",
       "body_type             0\n",
       "color                 0\n",
       "fuel_type             2\n",
       "engine_volume         2\n",
       "engine_power          2\n",
       "transmission          2\n",
       "drive                 2\n",
       "wheel                 0\n",
       "state                 0\n",
       "owners_count          0\n",
       "pts                  19\n",
       "customs               0\n",
       "exchange         389792\n",
       "vin               15025\n",
       "license_plate    113124\n",
       "photos_count          0\n",
       "complectation    206186\n",
       "price                 0\n",
       "url                   0\n",
       "catalog_link          2\n",
       "orig_url              0\n",
       "dtype: int64"
      ]
     },
     "execution_count": 31,
     "metadata": {},
     "output_type": "execute_result"
    }
   ],
   "source": [
    "df.isna().sum()"
   ]
  },
  {
   "cell_type": "code",
   "execution_count": 40,
   "metadata": {
    "scrolled": false
   },
   "outputs": [],
   "source": [
    "df['owners_count'] = pd.to_numeric(df['owners_count'], errors='coerce')"
   ]
  },
  {
   "cell_type": "code",
   "execution_count": 49,
   "metadata": {},
   "outputs": [
    {
     "data": {
      "text/plain": [
       "array([3., 2., 1.])"
      ]
     },
     "execution_count": 49,
     "metadata": {},
     "output_type": "execute_result"
    }
   ],
   "source": [
    "df.owners_count.unique()"
   ]
  },
  {
   "cell_type": "code",
   "execution_count": 48,
   "metadata": {},
   "outputs": [],
   "source": [
    "df = df.dropna(subset=['owners_count'])"
   ]
  },
  {
   "cell_type": "code",
   "execution_count": 43,
   "metadata": {},
   "outputs": [],
   "source": [
    "df.loc[(df.pts.isna()==True) & (df.owners_count<3), 'pts'] = 'Оригинал'\n",
    "df.loc[(df.pts.isna()==True) & (df.owners_count>=3), 'pts'] = 'Дубликат'"
   ]
  },
  {
   "cell_type": "code",
   "execution_count": 44,
   "metadata": {
    "scrolled": true
   },
   "outputs": [
    {
     "data": {
      "text/plain": [
       "array([nan, 'Рассмотрю варианты', 'exchange'], dtype=object)"
      ]
     },
     "execution_count": 44,
     "metadata": {},
     "output_type": "execute_result"
    }
   ],
   "source": [
    "df.exchange.unique()"
   ]
  },
  {
   "cell_type": "code",
   "execution_count": 45,
   "metadata": {},
   "outputs": [],
   "source": [
    "df['exchange'] = df.exchange.apply(lambda x: 1 if x == 'Рассмотрю варианты' else 0)"
   ]
  },
  {
   "cell_type": "code",
   "execution_count": 50,
   "metadata": {
    "scrolled": true
   },
   "outputs": [
    {
     "data": {
      "text/plain": [
       "brand                 0\n",
       "model                 0\n",
       "generation            0\n",
       "date_posted           0\n",
       "views_total           0\n",
       "offer_id              0\n",
       "year                  0\n",
       "mileage               0\n",
       "body_type             0\n",
       "color                 0\n",
       "fuel_type             2\n",
       "engine_volume         2\n",
       "engine_power          2\n",
       "transmission          2\n",
       "drive                 2\n",
       "wheel                 0\n",
       "state                 0\n",
       "owners_count          0\n",
       "pts                   0\n",
       "customs               0\n",
       "exchange              0\n",
       "vin               15025\n",
       "license_plate    113124\n",
       "photos_count          0\n",
       "complectation    206186\n",
       "price                 0\n",
       "url                   0\n",
       "catalog_link          2\n",
       "orig_url              0\n",
       "dtype: int64"
      ]
     },
     "execution_count": 50,
     "metadata": {},
     "output_type": "execute_result"
    }
   ],
   "source": [
    "df.isna().sum()"
   ]
  },
  {
   "cell_type": "code",
   "execution_count": 51,
   "metadata": {},
   "outputs": [],
   "source": [
    "df = df.dropna(subset = ['vin'])\n",
    "df = df.drop(columns = ['vin'])"
   ]
  },
  {
   "cell_type": "code",
   "execution_count": 52,
   "metadata": {
    "scrolled": true
   },
   "outputs": [
    {
     "data": {
      "text/plain": [
       "brand                 0\n",
       "model                 0\n",
       "generation            0\n",
       "date_posted           0\n",
       "views_total           0\n",
       "offer_id              0\n",
       "year                  0\n",
       "mileage               0\n",
       "body_type             0\n",
       "color                 0\n",
       "fuel_type             0\n",
       "engine_volume         0\n",
       "engine_power          0\n",
       "transmission          0\n",
       "drive                 0\n",
       "wheel                 0\n",
       "state                 0\n",
       "owners_count          0\n",
       "pts                   0\n",
       "customs               0\n",
       "exchange              0\n",
       "license_plate    106571\n",
       "photos_count          0\n",
       "complectation    195236\n",
       "price                 0\n",
       "url                   0\n",
       "catalog_link          0\n",
       "orig_url              0\n",
       "dtype: int64"
      ]
     },
     "execution_count": 52,
     "metadata": {},
     "output_type": "execute_result"
    }
   ],
   "source": [
    "df.isna().sum()"
   ]
  },
  {
   "cell_type": "code",
   "execution_count": 53,
   "metadata": {},
   "outputs": [],
   "source": [
    "df.drop(columns = ['license_plate'], inplace = True)"
   ]
  },
  {
   "cell_type": "code",
   "execution_count": 54,
   "metadata": {},
   "outputs": [],
   "source": [
    "df['complectation'] = df.complectation.fillna(value = 'undefined')"
   ]
  },
  {
   "cell_type": "code",
   "execution_count": null,
   "metadata": {},
   "outputs": [],
   "source": []
  }
 ],
 "metadata": {
  "kernelspec": {
   "display_name": "Python 3",
   "language": "python",
   "name": "python3"
  },
  "language_info": {
   "codemirror_mode": {
    "name": "ipython",
    "version": 3
   },
   "file_extension": ".py",
   "mimetype": "text/x-python",
   "name": "python",
   "nbconvert_exporter": "python",
   "pygments_lexer": "ipython3",
   "version": "3.8.5"
  }
 },
 "nbformat": 4,
 "nbformat_minor": 4
}
