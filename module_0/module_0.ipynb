{
 "cells": [
  {
   "cell_type": "markdown",
   "metadata": {},
   "source": [
    "# Половинное деление, итоговое решение"
   ]
  },
  {
   "cell_type": "code",
   "execution_count": 1,
   "metadata": {},
   "outputs": [
    {
     "name": "stdout",
     "output_type": "stream",
     "text": [
      "Ваш алгоритм угадывает число в среднем за 5 попыток\n"
     ]
    },
    {
     "data": {
      "text/plain": [
       "5"
      ]
     },
     "execution_count": 1,
     "metadata": {},
     "output_type": "execute_result"
    }
   ],
   "source": [
    "#https://github.com/allkotraz/SkillFactory/tree/main/module_0\n",
    "import numpy as np\n",
    "\n",
    "border = 100 #Указываем границу игры / миллиард 28 попыток\n",
    "\n",
    "def score_game(game_core):\n",
    "    '''Запускаем игру 1000 раз, чтобы узнать, как быстро игра угадывает число'''\n",
    "    count_ls = []\n",
    "    np.random.seed(1)  # фиксируем RANDOM SEED, чтобы ваш эксперимент был воспроизводим!\n",
    "    random_array = np.random.randint(1,border+1, size=(1000))\n",
    "    for number in random_array:\n",
    "        count_ls.append(game_core(number))\n",
    "    score = int(np.mean(count_ls))\n",
    "    print(f\"Ваш алгоритм угадывает число в среднем за {score} попыток\")\n",
    "    return(score)\n",
    "\n",
    "def game_core_v4(number):\n",
    "    '''Создаем список нижней/верхней границы и используя половинное деление находим загаданное число и возвращаем количество попыток.\n",
    "       Функция принимает загаданное число и возвращает число попыток'''\n",
    "    count = 1\n",
    "    list_border = [0, border] #Создаём список для указания нижней/верхней границы\n",
    "    m_border = int(border/len(list_border)) #Указываем середину как начало отсчета\n",
    "    while number != m_border:\n",
    "        count += 1\n",
    "        if number > m_border:\n",
    "            if list_border[1]-list_border[0] == 1:\n",
    "                m_border = int(list_border[0]+1) #Обработка исключения когда между границами единица\n",
    "            else:\n",
    "                list_border[0] = m_border #Поднимаем нижнюю границу \n",
    "                m_border = int((list_border[1]-list_border[0]) / 2) + list_border[0] #Медиана границ\n",
    "        elif number < m_border: \n",
    "            if list_border[1]-list_border[0] == 1:\n",
    "                    list_border[0] = list_border[1] #Обработка исключения когда между границами единица\n",
    "            list_border[1] = m_border #Опускаем верхнюю границу \n",
    "            m_border = int((list_border[1]-list_border[0]) / 2) + list_border[0] #Медиана границ      \n",
    "    return(count) # выход из цикла, если угадали\n",
    "\n",
    "score_game(game_core_v4)"
   ]
  }
 ],
 "metadata": {
  "kernelspec": {
   "display_name": "Python 3",
   "language": "python",
   "name": "python3"
  },
  "language_info": {
   "codemirror_mode": {
    "name": "ipython",
    "version": 3
   },
   "file_extension": ".py",
   "mimetype": "text/x-python",
   "name": "python",
   "nbconvert_exporter": "python",
   "pygments_lexer": "ipython3",
   "version": "3.8.3"
  }
 },
 "nbformat": 4,
 "nbformat_minor": 4
}
